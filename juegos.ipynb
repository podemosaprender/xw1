{
  "nbformat": 4,
  "nbformat_minor": 0,
  "metadata": {
    "colab": {
      "provenance": [],
      "toc_visible": true,
      "authorship_tag": "ABX9TyMEOp1HXQZ3AuEYTskuVJUn",
      "include_colab_link": true
    },
    "kernelspec": {
      "name": "python3",
      "display_name": "Python 3"
    },
    "language_info": {
      "name": "python"
    }
  },
  "cells": [
    {
      "cell_type": "markdown",
      "metadata": {
        "id": "view-in-github",
        "colab_type": "text"
      },
      "source": [
        "<a href=\"https://colab.research.google.com/github/podemosaprender/xw1/blob/main/juegos.ipynb\" target=\"_parent\"><img src=\"https://colab.research.google.com/assets/colab-badge.svg\" alt=\"Open In Colab\"/></a>"
      ]
    },
    {
      "cell_type": "markdown",
      "source": [
        "# Juegos como Relaciones Sociales, analizar y diseñar\n"
      ],
      "metadata": {
        "id": "ybCjpHwa5BWp"
      }
    },
    {
      "cell_type": "markdown",
      "source": [
        "## ¿Parecidos y diferencias?\n",
        "\n",
        "Dos hermanitos de 10 y 7 años juegan juegos de mesa. Pelean un poco por cual juego jugar y también cambiando la interpretación de las reglas tratando de no perder. Se acuerdan lo que dijo el otro en partidos anteriores y tratan de usarlo para convencer si les sirve en este partido.\n",
        "\n",
        "* ¿Se cumple el _reglamento_? ¿Quién decide cómo interpretarlo?\n",
        "* ¿Siempre hay un _juego por afuera del juego_?\n",
        "* ¿Se puede **no** jugar a _si querés comer tenes que pagar_?"
      ],
      "metadata": {
        "id": "cIDR250g7nl1"
      }
    },
    {
      "cell_type": "markdown",
      "source": [
        "## Marco de análisis MDA \"Mecánicas, Dinámicas, Estéticas\"\n",
        "\n",
        "* ¿Caja linda, juego malo?\n",
        "* ¿Las piezas son muy chiquitas?\n",
        "* ¿Es para gente muy inteligente?\n",
        "* ¿Imposible ganarle a los que juegan hace más que vos?\n",
        "\n",
        "https://en.wikipedia.org/wiki/MDA_framework\n",
        "\n"
      ],
      "metadata": {
        "id": "m2LTrRr-73RQ"
      }
    },
    {
      "cell_type": "markdown",
      "source": [
        "## Mecánicas\n",
        "\n",
        "* ¿Cuáles son todos los partidos posibles?\n",
        "* ¿Cuándo ya no podría ganar?\n",
        "* ¿Requiere velocidad, memoria, cálculo, conocimiento, ...?\n",
        "* ¿Se puede __enfatizar__ una mecánica para que me favorezca el reglamento?\n",
        "\n",
        "* ej. Partidas relámpago de ajedrez\n",
        "* ej. Truco con o sin flor\n"
      ],
      "metadata": {
        "id": "YFJKsTeQ9QoS"
      }
    },
    {
      "cell_type": "markdown",
      "source": [
        "## Investigar mecánicas con Python\n",
        "\n",
        "* **Espacio** de partidos posibles\n",
        "* **Simular** partidos, simular **jugadores** (agentes)\n",
        "* Descubrir estrategias"
      ],
      "metadata": {
        "id": "IBQbHn2TAGxu"
      }
    },
    {
      "cell_type": "markdown",
      "source": [
        "### (instalar software, etc.)"
      ],
      "metadata": {
        "id": "8Bs55dyn_TYN"
      }
    },
    {
      "cell_type": "code",
      "source": [
        "!pip install --upgrade plotly >/dev/null 2>&1 ;\n",
        ";"
      ],
      "metadata": {
        "colab": {
          "base_uri": "https://localhost:8080/",
          "height": 35
        },
        "id": "MKceMSZxUaUd",
        "outputId": "67a3f707-f34e-456d-cbc0-793f80b9bb05"
      },
      "execution_count": 2,
      "outputs": [
        {
          "output_type": "execute_result",
          "data": {
            "text/plain": [
              "''"
            ],
            "application/vnd.google.colaboratory.intrinsic+json": {
              "type": "string"
            }
          },
          "metadata": {},
          "execution_count": 2
        }
      ]
    },
    {
      "cell_type": "code",
      "execution_count": 24,
      "metadata": {
        "id": "r7BN_GorT_Pt"
      },
      "outputs": [],
      "source": [
        "PrepareForWeb= False\n",
        "PrepareForWeb= True #U: descomentar esta línea antes de guardar en github"
      ]
    },
    {
      "cell_type": "code",
      "source": [
        "import pandas as pd #U: leer y agrupar datos\n",
        "import numpy as np\n",
        "\n",
        "import plotly.graph_objects as go #U: graficar con plotly\n",
        "import plotly.express as px #U: graficar con plotly\n",
        "import plotly #SEE: https://medium.com/@282abhishek/using-plotly-with-nbconvert-in-google-colab-96834c4f2850\n",
        "if PrepareForWeb:\n",
        "  plotly.offline.init_notebook_mode(connected=True)\n",
        "else:\n",
        "  plotly.io.renderers.default = 'colab'"
      ],
      "metadata": {
        "colab": {
          "base_uri": "https://localhost:8080/",
          "height": 17
        },
        "id": "ri-ZOgJ1U7_W",
        "outputId": "3c750fa3-64c3-42e7-fb4d-a7326182db69"
      },
      "execution_count": 25,
      "outputs": [
        {
          "output_type": "display_data",
          "data": {
            "text/html": [
              "        <script type=\"text/javascript\">\n",
              "        window.PlotlyConfig = {MathJaxConfig: 'local'};\n",
              "        if (window.MathJax && window.MathJax.Hub && window.MathJax.Hub.Config) {window.MathJax.Hub.Config({SVG: {font: \"STIX-Web\"}});}\n",
              "        if (typeof require !== 'undefined') {\n",
              "        require.undef(\"plotly\");\n",
              "        requirejs.config({\n",
              "            paths: {\n",
              "                'plotly': ['https://cdn.plot.ly/plotly-2.27.0.min']\n",
              "            }\n",
              "        });\n",
              "        require(['plotly'], function(Plotly) {\n",
              "            window._Plotly = Plotly;\n",
              "        });\n",
              "        }\n",
              "        </script>\n",
              "        "
            ]
          },
          "metadata": {}
        }
      ]
    },
    {
      "cell_type": "markdown",
      "source": [
        "## Espacio de partidos posibles\n",
        "\n",
        "Se pueden listar todos los partidos posibles en algunos casos:\n",
        "\n",
        "* Tirar una moneda: sale cara o número\n",
        "* Tirar una moneda dos veces: cc,cn,nc,nn\n",
        "\n"
      ],
      "metadata": {
        "id": "DmgXYl4HBE5u"
      }
    },
    {
      "cell_type": "markdown",
      "source": [
        "### Ta-Te-Ti\n",
        "\n",
        "Puedo aprovechar que hay 9 casilleros y simplemente anotar en la posición correspondiente en que número de jugada se llenaron.\n",
        "\n",
        "ej.\n",
        "~~~\n",
        "\n",
        "_X_  010 000 000\n",
        "___\n",
        "___\n",
        "\n",
        "_X_  010 000 002\n",
        "___\n",
        "__O\n",
        "\n",
        "~~~\n",
        "\n",
        "¿Cúantos tableros posibles hay? ¿Cuántos de esos son partidos válidos?\n",
        "\n",
        "¿Cuántos finales para el tablero 123 456 000?"
      ],
      "metadata": {
        "id": "tDZtYT_WBztx"
      }
    },
    {
      "cell_type": "markdown",
      "source": [
        "## Jugar es recorrer el espacio de partidos posibles\n",
        "\n",
        "Me dicen\n",
        "* \"si ahora las cosas estan así\"\n",
        "* \"¿qué podría pasar después?\"\n",
        "\n",
        "¿Cómo pasar de las jugadas y dinámicas posibles a \"predecir el futuro\"?"
      ],
      "metadata": {
        "id": "bu-nuewHDTNo"
      }
    },
    {
      "cell_type": "markdown",
      "source": [
        "### Generar una secuencia de jugadas válidas\n",
        "\n",
        "Como en ajedrez, ej. https://www.chessgames.com/perl/chessgame?gid=1012518\n",
        "\n",
        "Empecemos con un ejemplo simplísimo, un **Random Walk**"
      ],
      "metadata": {
        "id": "bAgYupEOEf6a"
      }
    },
    {
      "cell_type": "code",
      "source": [
        "np.random.seed(10)\n",
        "def deltas(n=100): #U: generar n movimientos en una coordenada\n",
        "  return np.random.choice([-1,0,1], n)\n",
        "\n",
        "def walk(n=100): #U: generar un df con un random walk\n",
        "  df= pd.DataFrame({'dx': deltas(n), 'dy': deltas(n)})\n",
        "  df['x']= df.dx.cumsum()\n",
        "  df['y']= df.dy.cumsum()\n",
        "  return df\n",
        "\n",
        "df= walk(10)\n",
        "df.head()"
      ],
      "metadata": {
        "colab": {
          "base_uri": "https://localhost:8080/",
          "height": 206
        },
        "id": "K5SO_FbIXOGC",
        "outputId": "b5077f7e-b703-4a50-ffec-603716c13fd1"
      },
      "execution_count": 26,
      "outputs": [
        {
          "output_type": "execute_result",
          "data": {
            "text/plain": [
              "   dx  dy  x  y\n",
              "0   0   0  0  0\n",
              "1   0   1  0  1\n",
              "2  -1  -1 -1  0\n",
              "3  -1   0 -2  0\n",
              "4   0  -1 -2 -1"
            ],
            "text/html": [
              "\n",
              "  <div id=\"df-2e9fdb60-5647-4d64-b26e-820b39d72176\" class=\"colab-df-container\">\n",
              "    <div>\n",
              "<style scoped>\n",
              "    .dataframe tbody tr th:only-of-type {\n",
              "        vertical-align: middle;\n",
              "    }\n",
              "\n",
              "    .dataframe tbody tr th {\n",
              "        vertical-align: top;\n",
              "    }\n",
              "\n",
              "    .dataframe thead th {\n",
              "        text-align: right;\n",
              "    }\n",
              "</style>\n",
              "<table border=\"1\" class=\"dataframe\">\n",
              "  <thead>\n",
              "    <tr style=\"text-align: right;\">\n",
              "      <th></th>\n",
              "      <th>dx</th>\n",
              "      <th>dy</th>\n",
              "      <th>x</th>\n",
              "      <th>y</th>\n",
              "    </tr>\n",
              "  </thead>\n",
              "  <tbody>\n",
              "    <tr>\n",
              "      <th>0</th>\n",
              "      <td>0</td>\n",
              "      <td>0</td>\n",
              "      <td>0</td>\n",
              "      <td>0</td>\n",
              "    </tr>\n",
              "    <tr>\n",
              "      <th>1</th>\n",
              "      <td>0</td>\n",
              "      <td>1</td>\n",
              "      <td>0</td>\n",
              "      <td>1</td>\n",
              "    </tr>\n",
              "    <tr>\n",
              "      <th>2</th>\n",
              "      <td>-1</td>\n",
              "      <td>-1</td>\n",
              "      <td>-1</td>\n",
              "      <td>0</td>\n",
              "    </tr>\n",
              "    <tr>\n",
              "      <th>3</th>\n",
              "      <td>-1</td>\n",
              "      <td>0</td>\n",
              "      <td>-2</td>\n",
              "      <td>0</td>\n",
              "    </tr>\n",
              "    <tr>\n",
              "      <th>4</th>\n",
              "      <td>0</td>\n",
              "      <td>-1</td>\n",
              "      <td>-2</td>\n",
              "      <td>-1</td>\n",
              "    </tr>\n",
              "  </tbody>\n",
              "</table>\n",
              "</div>\n",
              "    <div class=\"colab-df-buttons\">\n",
              "\n",
              "  <div class=\"colab-df-container\">\n",
              "    <button class=\"colab-df-convert\" onclick=\"convertToInteractive('df-2e9fdb60-5647-4d64-b26e-820b39d72176')\"\n",
              "            title=\"Convert this dataframe to an interactive table.\"\n",
              "            style=\"display:none;\">\n",
              "\n",
              "  <svg xmlns=\"http://www.w3.org/2000/svg\" height=\"24px\" viewBox=\"0 -960 960 960\">\n",
              "    <path d=\"M120-120v-720h720v720H120Zm60-500h600v-160H180v160Zm220 220h160v-160H400v160Zm0 220h160v-160H400v160ZM180-400h160v-160H180v160Zm440 0h160v-160H620v160ZM180-180h160v-160H180v160Zm440 0h160v-160H620v160Z\"/>\n",
              "  </svg>\n",
              "    </button>\n",
              "\n",
              "  <style>\n",
              "    .colab-df-container {\n",
              "      display:flex;\n",
              "      gap: 12px;\n",
              "    }\n",
              "\n",
              "    .colab-df-convert {\n",
              "      background-color: #E8F0FE;\n",
              "      border: none;\n",
              "      border-radius: 50%;\n",
              "      cursor: pointer;\n",
              "      display: none;\n",
              "      fill: #1967D2;\n",
              "      height: 32px;\n",
              "      padding: 0 0 0 0;\n",
              "      width: 32px;\n",
              "    }\n",
              "\n",
              "    .colab-df-convert:hover {\n",
              "      background-color: #E2EBFA;\n",
              "      box-shadow: 0px 1px 2px rgba(60, 64, 67, 0.3), 0px 1px 3px 1px rgba(60, 64, 67, 0.15);\n",
              "      fill: #174EA6;\n",
              "    }\n",
              "\n",
              "    .colab-df-buttons div {\n",
              "      margin-bottom: 4px;\n",
              "    }\n",
              "\n",
              "    [theme=dark] .colab-df-convert {\n",
              "      background-color: #3B4455;\n",
              "      fill: #D2E3FC;\n",
              "    }\n",
              "\n",
              "    [theme=dark] .colab-df-convert:hover {\n",
              "      background-color: #434B5C;\n",
              "      box-shadow: 0px 1px 3px 1px rgba(0, 0, 0, 0.15);\n",
              "      filter: drop-shadow(0px 1px 2px rgba(0, 0, 0, 0.3));\n",
              "      fill: #FFFFFF;\n",
              "    }\n",
              "  </style>\n",
              "\n",
              "    <script>\n",
              "      const buttonEl =\n",
              "        document.querySelector('#df-2e9fdb60-5647-4d64-b26e-820b39d72176 button.colab-df-convert');\n",
              "      buttonEl.style.display =\n",
              "        google.colab.kernel.accessAllowed ? 'block' : 'none';\n",
              "\n",
              "      async function convertToInteractive(key) {\n",
              "        const element = document.querySelector('#df-2e9fdb60-5647-4d64-b26e-820b39d72176');\n",
              "        const dataTable =\n",
              "          await google.colab.kernel.invokeFunction('convertToInteractive',\n",
              "                                                    [key], {});\n",
              "        if (!dataTable) return;\n",
              "\n",
              "        const docLinkHtml = 'Like what you see? Visit the ' +\n",
              "          '<a target=\"_blank\" href=https://colab.research.google.com/notebooks/data_table.ipynb>data table notebook</a>'\n",
              "          + ' to learn more about interactive tables.';\n",
              "        element.innerHTML = '';\n",
              "        dataTable['output_type'] = 'display_data';\n",
              "        await google.colab.output.renderOutput(dataTable, element);\n",
              "        const docLink = document.createElement('div');\n",
              "        docLink.innerHTML = docLinkHtml;\n",
              "        element.appendChild(docLink);\n",
              "      }\n",
              "    </script>\n",
              "  </div>\n",
              "\n",
              "\n",
              "<div id=\"df-9a16c3ed-74e0-46c4-81e7-73e20a72a20f\">\n",
              "  <button class=\"colab-df-quickchart\" onclick=\"quickchart('df-9a16c3ed-74e0-46c4-81e7-73e20a72a20f')\"\n",
              "            title=\"Suggest charts.\"\n",
              "            style=\"display:none;\">\n",
              "\n",
              "<svg xmlns=\"http://www.w3.org/2000/svg\" height=\"24px\"viewBox=\"0 0 24 24\"\n",
              "     width=\"24px\">\n",
              "    <g>\n",
              "        <path d=\"M19 3H5c-1.1 0-2 .9-2 2v14c0 1.1.9 2 2 2h14c1.1 0 2-.9 2-2V5c0-1.1-.9-2-2-2zM9 17H7v-7h2v7zm4 0h-2V7h2v10zm4 0h-2v-4h2v4z\"/>\n",
              "    </g>\n",
              "</svg>\n",
              "  </button>\n",
              "\n",
              "<style>\n",
              "  .colab-df-quickchart {\n",
              "      --bg-color: #E8F0FE;\n",
              "      --fill-color: #1967D2;\n",
              "      --hover-bg-color: #E2EBFA;\n",
              "      --hover-fill-color: #174EA6;\n",
              "      --disabled-fill-color: #AAA;\n",
              "      --disabled-bg-color: #DDD;\n",
              "  }\n",
              "\n",
              "  [theme=dark] .colab-df-quickchart {\n",
              "      --bg-color: #3B4455;\n",
              "      --fill-color: #D2E3FC;\n",
              "      --hover-bg-color: #434B5C;\n",
              "      --hover-fill-color: #FFFFFF;\n",
              "      --disabled-bg-color: #3B4455;\n",
              "      --disabled-fill-color: #666;\n",
              "  }\n",
              "\n",
              "  .colab-df-quickchart {\n",
              "    background-color: var(--bg-color);\n",
              "    border: none;\n",
              "    border-radius: 50%;\n",
              "    cursor: pointer;\n",
              "    display: none;\n",
              "    fill: var(--fill-color);\n",
              "    height: 32px;\n",
              "    padding: 0;\n",
              "    width: 32px;\n",
              "  }\n",
              "\n",
              "  .colab-df-quickchart:hover {\n",
              "    background-color: var(--hover-bg-color);\n",
              "    box-shadow: 0 1px 2px rgba(60, 64, 67, 0.3), 0 1px 3px 1px rgba(60, 64, 67, 0.15);\n",
              "    fill: var(--button-hover-fill-color);\n",
              "  }\n",
              "\n",
              "  .colab-df-quickchart-complete:disabled,\n",
              "  .colab-df-quickchart-complete:disabled:hover {\n",
              "    background-color: var(--disabled-bg-color);\n",
              "    fill: var(--disabled-fill-color);\n",
              "    box-shadow: none;\n",
              "  }\n",
              "\n",
              "  .colab-df-spinner {\n",
              "    border: 2px solid var(--fill-color);\n",
              "    border-color: transparent;\n",
              "    border-bottom-color: var(--fill-color);\n",
              "    animation:\n",
              "      spin 1s steps(1) infinite;\n",
              "  }\n",
              "\n",
              "  @keyframes spin {\n",
              "    0% {\n",
              "      border-color: transparent;\n",
              "      border-bottom-color: var(--fill-color);\n",
              "      border-left-color: var(--fill-color);\n",
              "    }\n",
              "    20% {\n",
              "      border-color: transparent;\n",
              "      border-left-color: var(--fill-color);\n",
              "      border-top-color: var(--fill-color);\n",
              "    }\n",
              "    30% {\n",
              "      border-color: transparent;\n",
              "      border-left-color: var(--fill-color);\n",
              "      border-top-color: var(--fill-color);\n",
              "      border-right-color: var(--fill-color);\n",
              "    }\n",
              "    40% {\n",
              "      border-color: transparent;\n",
              "      border-right-color: var(--fill-color);\n",
              "      border-top-color: var(--fill-color);\n",
              "    }\n",
              "    60% {\n",
              "      border-color: transparent;\n",
              "      border-right-color: var(--fill-color);\n",
              "    }\n",
              "    80% {\n",
              "      border-color: transparent;\n",
              "      border-right-color: var(--fill-color);\n",
              "      border-bottom-color: var(--fill-color);\n",
              "    }\n",
              "    90% {\n",
              "      border-color: transparent;\n",
              "      border-bottom-color: var(--fill-color);\n",
              "    }\n",
              "  }\n",
              "</style>\n",
              "\n",
              "  <script>\n",
              "    async function quickchart(key) {\n",
              "      const quickchartButtonEl =\n",
              "        document.querySelector('#' + key + ' button');\n",
              "      quickchartButtonEl.disabled = true;  // To prevent multiple clicks.\n",
              "      quickchartButtonEl.classList.add('colab-df-spinner');\n",
              "      try {\n",
              "        const charts = await google.colab.kernel.invokeFunction(\n",
              "            'suggestCharts', [key], {});\n",
              "      } catch (error) {\n",
              "        console.error('Error during call to suggestCharts:', error);\n",
              "      }\n",
              "      quickchartButtonEl.classList.remove('colab-df-spinner');\n",
              "      quickchartButtonEl.classList.add('colab-df-quickchart-complete');\n",
              "    }\n",
              "    (() => {\n",
              "      let quickchartButtonEl =\n",
              "        document.querySelector('#df-9a16c3ed-74e0-46c4-81e7-73e20a72a20f button');\n",
              "      quickchartButtonEl.style.display =\n",
              "        google.colab.kernel.accessAllowed ? 'block' : 'none';\n",
              "    })();\n",
              "  </script>\n",
              "</div>\n",
              "    </div>\n",
              "  </div>\n"
            ]
          },
          "metadata": {},
          "execution_count": 26
        }
      ]
    },
    {
      "cell_type": "code",
      "source": [
        "px.scatter(df, x='x', y='y', range_x=[df.x.min(), df.x.max()], range_y=[df.y.min(), df.y.max()], animation_frame=df.index)"
      ],
      "metadata": {
        "colab": {
          "base_uri": "https://localhost:8080/",
          "height": 542
        },
        "id": "6cYBwPEOXMnN",
        "outputId": "b3a5c9c6-c0a8-457f-9efa-eb2773b61aad"
      },
      "execution_count": 27,
      "outputs": [
        {
          "output_type": "display_data",
          "data": {
            "application/vnd.plotly.v1+json": {
              "data": [
                {
                  "hovertemplate": "index=0<br>x=%{x}<br>y=%{y}<extra></extra>",
                  "legendgroup": "",
                  "marker": {
                    "color": "#636efa",
                    "symbol": "circle"
                  },
                  "mode": "markers",
                  "name": "",
                  "orientation": "v",
                  "showlegend": false,
                  "x": [
                    0
                  ],
                  "xaxis": "x",
                  "y": [
                    0
                  ],
                  "yaxis": "y",
                  "type": "scatter"
                }
              ],
              "layout": {
                "template": {
                  "data": {
                    "histogram2dcontour": [
                      {
                        "type": "histogram2dcontour",
                        "colorbar": {
                          "outlinewidth": 0,
                          "ticks": ""
                        },
                        "colorscale": [
                          [
                            0,
                            "#0d0887"
                          ],
                          [
                            0.1111111111111111,
                            "#46039f"
                          ],
                          [
                            0.2222222222222222,
                            "#7201a8"
                          ],
                          [
                            0.3333333333333333,
                            "#9c179e"
                          ],
                          [
                            0.4444444444444444,
                            "#bd3786"
                          ],
                          [
                            0.5555555555555556,
                            "#d8576b"
                          ],
                          [
                            0.6666666666666666,
                            "#ed7953"
                          ],
                          [
                            0.7777777777777778,
                            "#fb9f3a"
                          ],
                          [
                            0.8888888888888888,
                            "#fdca26"
                          ],
                          [
                            1,
                            "#f0f921"
                          ]
                        ]
                      }
                    ],
                    "choropleth": [
                      {
                        "type": "choropleth",
                        "colorbar": {
                          "outlinewidth": 0,
                          "ticks": ""
                        }
                      }
                    ],
                    "histogram2d": [
                      {
                        "type": "histogram2d",
                        "colorbar": {
                          "outlinewidth": 0,
                          "ticks": ""
                        },
                        "colorscale": [
                          [
                            0,
                            "#0d0887"
                          ],
                          [
                            0.1111111111111111,
                            "#46039f"
                          ],
                          [
                            0.2222222222222222,
                            "#7201a8"
                          ],
                          [
                            0.3333333333333333,
                            "#9c179e"
                          ],
                          [
                            0.4444444444444444,
                            "#bd3786"
                          ],
                          [
                            0.5555555555555556,
                            "#d8576b"
                          ],
                          [
                            0.6666666666666666,
                            "#ed7953"
                          ],
                          [
                            0.7777777777777778,
                            "#fb9f3a"
                          ],
                          [
                            0.8888888888888888,
                            "#fdca26"
                          ],
                          [
                            1,
                            "#f0f921"
                          ]
                        ]
                      }
                    ],
                    "heatmap": [
                      {
                        "type": "heatmap",
                        "colorbar": {
                          "outlinewidth": 0,
                          "ticks": ""
                        },
                        "colorscale": [
                          [
                            0,
                            "#0d0887"
                          ],
                          [
                            0.1111111111111111,
                            "#46039f"
                          ],
                          [
                            0.2222222222222222,
                            "#7201a8"
                          ],
                          [
                            0.3333333333333333,
                            "#9c179e"
                          ],
                          [
                            0.4444444444444444,
                            "#bd3786"
                          ],
                          [
                            0.5555555555555556,
                            "#d8576b"
                          ],
                          [
                            0.6666666666666666,
                            "#ed7953"
                          ],
                          [
                            0.7777777777777778,
                            "#fb9f3a"
                          ],
                          [
                            0.8888888888888888,
                            "#fdca26"
                          ],
                          [
                            1,
                            "#f0f921"
                          ]
                        ]
                      }
                    ],
                    "heatmapgl": [
                      {
                        "type": "heatmapgl",
                        "colorbar": {
                          "outlinewidth": 0,
                          "ticks": ""
                        },
                        "colorscale": [
                          [
                            0,
                            "#0d0887"
                          ],
                          [
                            0.1111111111111111,
                            "#46039f"
                          ],
                          [
                            0.2222222222222222,
                            "#7201a8"
                          ],
                          [
                            0.3333333333333333,
                            "#9c179e"
                          ],
                          [
                            0.4444444444444444,
                            "#bd3786"
                          ],
                          [
                            0.5555555555555556,
                            "#d8576b"
                          ],
                          [
                            0.6666666666666666,
                            "#ed7953"
                          ],
                          [
                            0.7777777777777778,
                            "#fb9f3a"
                          ],
                          [
                            0.8888888888888888,
                            "#fdca26"
                          ],
                          [
                            1,
                            "#f0f921"
                          ]
                        ]
                      }
                    ],
                    "contourcarpet": [
                      {
                        "type": "contourcarpet",
                        "colorbar": {
                          "outlinewidth": 0,
                          "ticks": ""
                        }
                      }
                    ],
                    "contour": [
                      {
                        "type": "contour",
                        "colorbar": {
                          "outlinewidth": 0,
                          "ticks": ""
                        },
                        "colorscale": [
                          [
                            0,
                            "#0d0887"
                          ],
                          [
                            0.1111111111111111,
                            "#46039f"
                          ],
                          [
                            0.2222222222222222,
                            "#7201a8"
                          ],
                          [
                            0.3333333333333333,
                            "#9c179e"
                          ],
                          [
                            0.4444444444444444,
                            "#bd3786"
                          ],
                          [
                            0.5555555555555556,
                            "#d8576b"
                          ],
                          [
                            0.6666666666666666,
                            "#ed7953"
                          ],
                          [
                            0.7777777777777778,
                            "#fb9f3a"
                          ],
                          [
                            0.8888888888888888,
                            "#fdca26"
                          ],
                          [
                            1,
                            "#f0f921"
                          ]
                        ]
                      }
                    ],
                    "surface": [
                      {
                        "type": "surface",
                        "colorbar": {
                          "outlinewidth": 0,
                          "ticks": ""
                        },
                        "colorscale": [
                          [
                            0,
                            "#0d0887"
                          ],
                          [
                            0.1111111111111111,
                            "#46039f"
                          ],
                          [
                            0.2222222222222222,
                            "#7201a8"
                          ],
                          [
                            0.3333333333333333,
                            "#9c179e"
                          ],
                          [
                            0.4444444444444444,
                            "#bd3786"
                          ],
                          [
                            0.5555555555555556,
                            "#d8576b"
                          ],
                          [
                            0.6666666666666666,
                            "#ed7953"
                          ],
                          [
                            0.7777777777777778,
                            "#fb9f3a"
                          ],
                          [
                            0.8888888888888888,
                            "#fdca26"
                          ],
                          [
                            1,
                            "#f0f921"
                          ]
                        ]
                      }
                    ],
                    "mesh3d": [
                      {
                        "type": "mesh3d",
                        "colorbar": {
                          "outlinewidth": 0,
                          "ticks": ""
                        }
                      }
                    ],
                    "scatter": [
                      {
                        "fillpattern": {
                          "fillmode": "overlay",
                          "size": 10,
                          "solidity": 0.2
                        },
                        "type": "scatter"
                      }
                    ],
                    "parcoords": [
                      {
                        "type": "parcoords",
                        "line": {
                          "colorbar": {
                            "outlinewidth": 0,
                            "ticks": ""
                          }
                        }
                      }
                    ],
                    "scatterpolargl": [
                      {
                        "type": "scatterpolargl",
                        "marker": {
                          "colorbar": {
                            "outlinewidth": 0,
                            "ticks": ""
                          }
                        }
                      }
                    ],
                    "bar": [
                      {
                        "error_x": {
                          "color": "#2a3f5f"
                        },
                        "error_y": {
                          "color": "#2a3f5f"
                        },
                        "marker": {
                          "line": {
                            "color": "#E5ECF6",
                            "width": 0.5
                          },
                          "pattern": {
                            "fillmode": "overlay",
                            "size": 10,
                            "solidity": 0.2
                          }
                        },
                        "type": "bar"
                      }
                    ],
                    "scattergeo": [
                      {
                        "type": "scattergeo",
                        "marker": {
                          "colorbar": {
                            "outlinewidth": 0,
                            "ticks": ""
                          }
                        }
                      }
                    ],
                    "scatterpolar": [
                      {
                        "type": "scatterpolar",
                        "marker": {
                          "colorbar": {
                            "outlinewidth": 0,
                            "ticks": ""
                          }
                        }
                      }
                    ],
                    "histogram": [
                      {
                        "marker": {
                          "pattern": {
                            "fillmode": "overlay",
                            "size": 10,
                            "solidity": 0.2
                          }
                        },
                        "type": "histogram"
                      }
                    ],
                    "scattergl": [
                      {
                        "type": "scattergl",
                        "marker": {
                          "colorbar": {
                            "outlinewidth": 0,
                            "ticks": ""
                          }
                        }
                      }
                    ],
                    "scatter3d": [
                      {
                        "type": "scatter3d",
                        "line": {
                          "colorbar": {
                            "outlinewidth": 0,
                            "ticks": ""
                          }
                        },
                        "marker": {
                          "colorbar": {
                            "outlinewidth": 0,
                            "ticks": ""
                          }
                        }
                      }
                    ],
                    "scattermapbox": [
                      {
                        "type": "scattermapbox",
                        "marker": {
                          "colorbar": {
                            "outlinewidth": 0,
                            "ticks": ""
                          }
                        }
                      }
                    ],
                    "scatterternary": [
                      {
                        "type": "scatterternary",
                        "marker": {
                          "colorbar": {
                            "outlinewidth": 0,
                            "ticks": ""
                          }
                        }
                      }
                    ],
                    "scattercarpet": [
                      {
                        "type": "scattercarpet",
                        "marker": {
                          "colorbar": {
                            "outlinewidth": 0,
                            "ticks": ""
                          }
                        }
                      }
                    ],
                    "carpet": [
                      {
                        "aaxis": {
                          "endlinecolor": "#2a3f5f",
                          "gridcolor": "white",
                          "linecolor": "white",
                          "minorgridcolor": "white",
                          "startlinecolor": "#2a3f5f"
                        },
                        "baxis": {
                          "endlinecolor": "#2a3f5f",
                          "gridcolor": "white",
                          "linecolor": "white",
                          "minorgridcolor": "white",
                          "startlinecolor": "#2a3f5f"
                        },
                        "type": "carpet"
                      }
                    ],
                    "table": [
                      {
                        "cells": {
                          "fill": {
                            "color": "#EBF0F8"
                          },
                          "line": {
                            "color": "white"
                          }
                        },
                        "header": {
                          "fill": {
                            "color": "#C8D4E3"
                          },
                          "line": {
                            "color": "white"
                          }
                        },
                        "type": "table"
                      }
                    ],
                    "barpolar": [
                      {
                        "marker": {
                          "line": {
                            "color": "#E5ECF6",
                            "width": 0.5
                          },
                          "pattern": {
                            "fillmode": "overlay",
                            "size": 10,
                            "solidity": 0.2
                          }
                        },
                        "type": "barpolar"
                      }
                    ],
                    "pie": [
                      {
                        "automargin": true,
                        "type": "pie"
                      }
                    ]
                  },
                  "layout": {
                    "autotypenumbers": "strict",
                    "colorway": [
                      "#636efa",
                      "#EF553B",
                      "#00cc96",
                      "#ab63fa",
                      "#FFA15A",
                      "#19d3f3",
                      "#FF6692",
                      "#B6E880",
                      "#FF97FF",
                      "#FECB52"
                    ],
                    "font": {
                      "color": "#2a3f5f"
                    },
                    "hovermode": "closest",
                    "hoverlabel": {
                      "align": "left"
                    },
                    "paper_bgcolor": "white",
                    "plot_bgcolor": "#E5ECF6",
                    "polar": {
                      "bgcolor": "#E5ECF6",
                      "angularaxis": {
                        "gridcolor": "white",
                        "linecolor": "white",
                        "ticks": ""
                      },
                      "radialaxis": {
                        "gridcolor": "white",
                        "linecolor": "white",
                        "ticks": ""
                      }
                    },
                    "ternary": {
                      "bgcolor": "#E5ECF6",
                      "aaxis": {
                        "gridcolor": "white",
                        "linecolor": "white",
                        "ticks": ""
                      },
                      "baxis": {
                        "gridcolor": "white",
                        "linecolor": "white",
                        "ticks": ""
                      },
                      "caxis": {
                        "gridcolor": "white",
                        "linecolor": "white",
                        "ticks": ""
                      }
                    },
                    "coloraxis": {
                      "colorbar": {
                        "outlinewidth": 0,
                        "ticks": ""
                      }
                    },
                    "colorscale": {
                      "sequential": [
                        [
                          0,
                          "#0d0887"
                        ],
                        [
                          0.1111111111111111,
                          "#46039f"
                        ],
                        [
                          0.2222222222222222,
                          "#7201a8"
                        ],
                        [
                          0.3333333333333333,
                          "#9c179e"
                        ],
                        [
                          0.4444444444444444,
                          "#bd3786"
                        ],
                        [
                          0.5555555555555556,
                          "#d8576b"
                        ],
                        [
                          0.6666666666666666,
                          "#ed7953"
                        ],
                        [
                          0.7777777777777778,
                          "#fb9f3a"
                        ],
                        [
                          0.8888888888888888,
                          "#fdca26"
                        ],
                        [
                          1,
                          "#f0f921"
                        ]
                      ],
                      "sequentialminus": [
                        [
                          0,
                          "#0d0887"
                        ],
                        [
                          0.1111111111111111,
                          "#46039f"
                        ],
                        [
                          0.2222222222222222,
                          "#7201a8"
                        ],
                        [
                          0.3333333333333333,
                          "#9c179e"
                        ],
                        [
                          0.4444444444444444,
                          "#bd3786"
                        ],
                        [
                          0.5555555555555556,
                          "#d8576b"
                        ],
                        [
                          0.6666666666666666,
                          "#ed7953"
                        ],
                        [
                          0.7777777777777778,
                          "#fb9f3a"
                        ],
                        [
                          0.8888888888888888,
                          "#fdca26"
                        ],
                        [
                          1,
                          "#f0f921"
                        ]
                      ],
                      "diverging": [
                        [
                          0,
                          "#8e0152"
                        ],
                        [
                          0.1,
                          "#c51b7d"
                        ],
                        [
                          0.2,
                          "#de77ae"
                        ],
                        [
                          0.3,
                          "#f1b6da"
                        ],
                        [
                          0.4,
                          "#fde0ef"
                        ],
                        [
                          0.5,
                          "#f7f7f7"
                        ],
                        [
                          0.6,
                          "#e6f5d0"
                        ],
                        [
                          0.7,
                          "#b8e186"
                        ],
                        [
                          0.8,
                          "#7fbc41"
                        ],
                        [
                          0.9,
                          "#4d9221"
                        ],
                        [
                          1,
                          "#276419"
                        ]
                      ]
                    },
                    "xaxis": {
                      "gridcolor": "white",
                      "linecolor": "white",
                      "ticks": "",
                      "title": {
                        "standoff": 15
                      },
                      "zerolinecolor": "white",
                      "automargin": true,
                      "zerolinewidth": 2
                    },
                    "yaxis": {
                      "gridcolor": "white",
                      "linecolor": "white",
                      "ticks": "",
                      "title": {
                        "standoff": 15
                      },
                      "zerolinecolor": "white",
                      "automargin": true,
                      "zerolinewidth": 2
                    },
                    "scene": {
                      "xaxis": {
                        "backgroundcolor": "#E5ECF6",
                        "gridcolor": "white",
                        "linecolor": "white",
                        "showbackground": true,
                        "ticks": "",
                        "zerolinecolor": "white",
                        "gridwidth": 2
                      },
                      "yaxis": {
                        "backgroundcolor": "#E5ECF6",
                        "gridcolor": "white",
                        "linecolor": "white",
                        "showbackground": true,
                        "ticks": "",
                        "zerolinecolor": "white",
                        "gridwidth": 2
                      },
                      "zaxis": {
                        "backgroundcolor": "#E5ECF6",
                        "gridcolor": "white",
                        "linecolor": "white",
                        "showbackground": true,
                        "ticks": "",
                        "zerolinecolor": "white",
                        "gridwidth": 2
                      }
                    },
                    "shapedefaults": {
                      "line": {
                        "color": "#2a3f5f"
                      }
                    },
                    "annotationdefaults": {
                      "arrowcolor": "#2a3f5f",
                      "arrowhead": 0,
                      "arrowwidth": 1
                    },
                    "geo": {
                      "bgcolor": "white",
                      "landcolor": "#E5ECF6",
                      "subunitcolor": "white",
                      "showland": true,
                      "showlakes": true,
                      "lakecolor": "white"
                    },
                    "title": {
                      "x": 0.05
                    },
                    "mapbox": {
                      "style": "light"
                    }
                  }
                },
                "xaxis": {
                  "anchor": "y",
                  "domain": [
                    0,
                    1
                  ],
                  "title": {
                    "text": "x"
                  },
                  "range": [
                    -4,
                    0
                  ]
                },
                "yaxis": {
                  "anchor": "x",
                  "domain": [
                    0,
                    1
                  ],
                  "title": {
                    "text": "y"
                  },
                  "range": [
                    -2,
                    1
                  ]
                },
                "legend": {
                  "tracegroupgap": 0
                },
                "margin": {
                  "t": 60
                },
                "updatemenus": [
                  {
                    "buttons": [
                      {
                        "args": [
                          null,
                          {
                            "frame": {
                              "duration": 500,
                              "redraw": false
                            },
                            "mode": "immediate",
                            "fromcurrent": true,
                            "transition": {
                              "duration": 500,
                              "easing": "linear"
                            }
                          }
                        ],
                        "label": "&#9654;",
                        "method": "animate"
                      },
                      {
                        "args": [
                          [
                            null
                          ],
                          {
                            "frame": {
                              "duration": 0,
                              "redraw": false
                            },
                            "mode": "immediate",
                            "fromcurrent": true,
                            "transition": {
                              "duration": 0,
                              "easing": "linear"
                            }
                          }
                        ],
                        "label": "&#9724;",
                        "method": "animate"
                      }
                    ],
                    "direction": "left",
                    "pad": {
                      "r": 10,
                      "t": 70
                    },
                    "showactive": false,
                    "type": "buttons",
                    "x": 0.1,
                    "xanchor": "right",
                    "y": 0,
                    "yanchor": "top"
                  }
                ],
                "sliders": [
                  {
                    "active": 0,
                    "currentvalue": {
                      "prefix": "index="
                    },
                    "len": 0.9,
                    "pad": {
                      "b": 10,
                      "t": 60
                    },
                    "steps": [
                      {
                        "args": [
                          [
                            "0"
                          ],
                          {
                            "frame": {
                              "duration": 0,
                              "redraw": false
                            },
                            "mode": "immediate",
                            "fromcurrent": true,
                            "transition": {
                              "duration": 0,
                              "easing": "linear"
                            }
                          }
                        ],
                        "label": "0",
                        "method": "animate"
                      },
                      {
                        "args": [
                          [
                            "1"
                          ],
                          {
                            "frame": {
                              "duration": 0,
                              "redraw": false
                            },
                            "mode": "immediate",
                            "fromcurrent": true,
                            "transition": {
                              "duration": 0,
                              "easing": "linear"
                            }
                          }
                        ],
                        "label": "1",
                        "method": "animate"
                      },
                      {
                        "args": [
                          [
                            "2"
                          ],
                          {
                            "frame": {
                              "duration": 0,
                              "redraw": false
                            },
                            "mode": "immediate",
                            "fromcurrent": true,
                            "transition": {
                              "duration": 0,
                              "easing": "linear"
                            }
                          }
                        ],
                        "label": "2",
                        "method": "animate"
                      },
                      {
                        "args": [
                          [
                            "3"
                          ],
                          {
                            "frame": {
                              "duration": 0,
                              "redraw": false
                            },
                            "mode": "immediate",
                            "fromcurrent": true,
                            "transition": {
                              "duration": 0,
                              "easing": "linear"
                            }
                          }
                        ],
                        "label": "3",
                        "method": "animate"
                      },
                      {
                        "args": [
                          [
                            "4"
                          ],
                          {
                            "frame": {
                              "duration": 0,
                              "redraw": false
                            },
                            "mode": "immediate",
                            "fromcurrent": true,
                            "transition": {
                              "duration": 0,
                              "easing": "linear"
                            }
                          }
                        ],
                        "label": "4",
                        "method": "animate"
                      },
                      {
                        "args": [
                          [
                            "5"
                          ],
                          {
                            "frame": {
                              "duration": 0,
                              "redraw": false
                            },
                            "mode": "immediate",
                            "fromcurrent": true,
                            "transition": {
                              "duration": 0,
                              "easing": "linear"
                            }
                          }
                        ],
                        "label": "5",
                        "method": "animate"
                      },
                      {
                        "args": [
                          [
                            "6"
                          ],
                          {
                            "frame": {
                              "duration": 0,
                              "redraw": false
                            },
                            "mode": "immediate",
                            "fromcurrent": true,
                            "transition": {
                              "duration": 0,
                              "easing": "linear"
                            }
                          }
                        ],
                        "label": "6",
                        "method": "animate"
                      },
                      {
                        "args": [
                          [
                            "7"
                          ],
                          {
                            "frame": {
                              "duration": 0,
                              "redraw": false
                            },
                            "mode": "immediate",
                            "fromcurrent": true,
                            "transition": {
                              "duration": 0,
                              "easing": "linear"
                            }
                          }
                        ],
                        "label": "7",
                        "method": "animate"
                      },
                      {
                        "args": [
                          [
                            "8"
                          ],
                          {
                            "frame": {
                              "duration": 0,
                              "redraw": false
                            },
                            "mode": "immediate",
                            "fromcurrent": true,
                            "transition": {
                              "duration": 0,
                              "easing": "linear"
                            }
                          }
                        ],
                        "label": "8",
                        "method": "animate"
                      },
                      {
                        "args": [
                          [
                            "9"
                          ],
                          {
                            "frame": {
                              "duration": 0,
                              "redraw": false
                            },
                            "mode": "immediate",
                            "fromcurrent": true,
                            "transition": {
                              "duration": 0,
                              "easing": "linear"
                            }
                          }
                        ],
                        "label": "9",
                        "method": "animate"
                      }
                    ],
                    "x": 0.1,
                    "xanchor": "left",
                    "y": 0,
                    "yanchor": "top"
                  }
                ]
              },
              "frames": [
                {
                  "data": [
                    {
                      "hovertemplate": "index=0<br>x=%{x}<br>y=%{y}<extra></extra>",
                      "legendgroup": "",
                      "marker": {
                        "color": "#636efa",
                        "symbol": "circle"
                      },
                      "mode": "markers",
                      "name": "",
                      "orientation": "v",
                      "showlegend": false,
                      "x": [
                        0
                      ],
                      "xaxis": "x",
                      "y": [
                        0
                      ],
                      "yaxis": "y",
                      "type": "scatter"
                    }
                  ],
                  "name": "0"
                },
                {
                  "data": [
                    {
                      "hovertemplate": "index=1<br>x=%{x}<br>y=%{y}<extra></extra>",
                      "legendgroup": "",
                      "marker": {
                        "color": "#636efa",
                        "symbol": "circle"
                      },
                      "mode": "markers",
                      "name": "",
                      "orientation": "v",
                      "showlegend": false,
                      "x": [
                        0
                      ],
                      "xaxis": "x",
                      "y": [
                        1
                      ],
                      "yaxis": "y",
                      "type": "scatter"
                    }
                  ],
                  "name": "1"
                },
                {
                  "data": [
                    {
                      "hovertemplate": "index=2<br>x=%{x}<br>y=%{y}<extra></extra>",
                      "legendgroup": "",
                      "marker": {
                        "color": "#636efa",
                        "symbol": "circle"
                      },
                      "mode": "markers",
                      "name": "",
                      "orientation": "v",
                      "showlegend": false,
                      "x": [
                        -1
                      ],
                      "xaxis": "x",
                      "y": [
                        0
                      ],
                      "yaxis": "y",
                      "type": "scatter"
                    }
                  ],
                  "name": "2"
                },
                {
                  "data": [
                    {
                      "hovertemplate": "index=3<br>x=%{x}<br>y=%{y}<extra></extra>",
                      "legendgroup": "",
                      "marker": {
                        "color": "#636efa",
                        "symbol": "circle"
                      },
                      "mode": "markers",
                      "name": "",
                      "orientation": "v",
                      "showlegend": false,
                      "x": [
                        -2
                      ],
                      "xaxis": "x",
                      "y": [
                        0
                      ],
                      "yaxis": "y",
                      "type": "scatter"
                    }
                  ],
                  "name": "3"
                },
                {
                  "data": [
                    {
                      "hovertemplate": "index=4<br>x=%{x}<br>y=%{y}<extra></extra>",
                      "legendgroup": "",
                      "marker": {
                        "color": "#636efa",
                        "symbol": "circle"
                      },
                      "mode": "markers",
                      "name": "",
                      "orientation": "v",
                      "showlegend": false,
                      "x": [
                        -2
                      ],
                      "xaxis": "x",
                      "y": [
                        -1
                      ],
                      "yaxis": "y",
                      "type": "scatter"
                    }
                  ],
                  "name": "4"
                },
                {
                  "data": [
                    {
                      "hovertemplate": "index=5<br>x=%{x}<br>y=%{y}<extra></extra>",
                      "legendgroup": "",
                      "marker": {
                        "color": "#636efa",
                        "symbol": "circle"
                      },
                      "mode": "markers",
                      "name": "",
                      "orientation": "v",
                      "showlegend": false,
                      "x": [
                        -3
                      ],
                      "xaxis": "x",
                      "y": [
                        0
                      ],
                      "yaxis": "y",
                      "type": "scatter"
                    }
                  ],
                  "name": "5"
                },
                {
                  "data": [
                    {
                      "hovertemplate": "index=6<br>x=%{x}<br>y=%{y}<extra></extra>",
                      "legendgroup": "",
                      "marker": {
                        "color": "#636efa",
                        "symbol": "circle"
                      },
                      "mode": "markers",
                      "name": "",
                      "orientation": "v",
                      "showlegend": false,
                      "x": [
                        -3
                      ],
                      "xaxis": "x",
                      "y": [
                        -1
                      ],
                      "yaxis": "y",
                      "type": "scatter"
                    }
                  ],
                  "name": "6"
                },
                {
                  "data": [
                    {
                      "hovertemplate": "index=7<br>x=%{x}<br>y=%{y}<extra></extra>",
                      "legendgroup": "",
                      "marker": {
                        "color": "#636efa",
                        "symbol": "circle"
                      },
                      "mode": "markers",
                      "name": "",
                      "orientation": "v",
                      "showlegend": false,
                      "x": [
                        -3
                      ],
                      "xaxis": "x",
                      "y": [
                        0
                      ],
                      "yaxis": "y",
                      "type": "scatter"
                    }
                  ],
                  "name": "7"
                },
                {
                  "data": [
                    {
                      "hovertemplate": "index=8<br>x=%{x}<br>y=%{y}<extra></extra>",
                      "legendgroup": "",
                      "marker": {
                        "color": "#636efa",
                        "symbol": "circle"
                      },
                      "mode": "markers",
                      "name": "",
                      "orientation": "v",
                      "showlegend": false,
                      "x": [
                        -4
                      ],
                      "xaxis": "x",
                      "y": [
                        -1
                      ],
                      "yaxis": "y",
                      "type": "scatter"
                    }
                  ],
                  "name": "8"
                },
                {
                  "data": [
                    {
                      "hovertemplate": "index=9<br>x=%{x}<br>y=%{y}<extra></extra>",
                      "legendgroup": "",
                      "marker": {
                        "color": "#636efa",
                        "symbol": "circle"
                      },
                      "mode": "markers",
                      "name": "",
                      "orientation": "v",
                      "showlegend": false,
                      "x": [
                        -4
                      ],
                      "xaxis": "x",
                      "y": [
                        -2
                      ],
                      "yaxis": "y",
                      "type": "scatter"
                    }
                  ],
                  "name": "9"
                }
              ],
              "config": {
                "plotlyServerURL": "https://plot.ly"
              }
            },
            "text/html": [
              "<div>                            <div id=\"65d9fe1e-eabe-44b5-bc23-3ef1ac4f07f5\" class=\"plotly-graph-div\" style=\"height:525px; width:100%;\"></div>            <script type=\"text/javascript\">                require([\"plotly\"], function(Plotly) {                    window.PLOTLYENV=window.PLOTLYENV || {};                                    if (document.getElementById(\"65d9fe1e-eabe-44b5-bc23-3ef1ac4f07f5\")) {                    Plotly.newPlot(                        \"65d9fe1e-eabe-44b5-bc23-3ef1ac4f07f5\",                        [{\"hovertemplate\":\"index=0\\u003cbr\\u003ex=%{x}\\u003cbr\\u003ey=%{y}\\u003cextra\\u003e\\u003c\\u002fextra\\u003e\",\"legendgroup\":\"\",\"marker\":{\"color\":\"#636efa\",\"symbol\":\"circle\"},\"mode\":\"markers\",\"name\":\"\",\"orientation\":\"v\",\"showlegend\":false,\"x\":[0],\"xaxis\":\"x\",\"y\":[0],\"yaxis\":\"y\",\"type\":\"scatter\"}],                        {\"template\":{\"data\":{\"histogram2dcontour\":[{\"type\":\"histogram2dcontour\",\"colorbar\":{\"outlinewidth\":0,\"ticks\":\"\"},\"colorscale\":[[0.0,\"#0d0887\"],[0.1111111111111111,\"#46039f\"],[0.2222222222222222,\"#7201a8\"],[0.3333333333333333,\"#9c179e\"],[0.4444444444444444,\"#bd3786\"],[0.5555555555555556,\"#d8576b\"],[0.6666666666666666,\"#ed7953\"],[0.7777777777777778,\"#fb9f3a\"],[0.8888888888888888,\"#fdca26\"],[1.0,\"#f0f921\"]]}],\"choropleth\":[{\"type\":\"choropleth\",\"colorbar\":{\"outlinewidth\":0,\"ticks\":\"\"}}],\"histogram2d\":[{\"type\":\"histogram2d\",\"colorbar\":{\"outlinewidth\":0,\"ticks\":\"\"},\"colorscale\":[[0.0,\"#0d0887\"],[0.1111111111111111,\"#46039f\"],[0.2222222222222222,\"#7201a8\"],[0.3333333333333333,\"#9c179e\"],[0.4444444444444444,\"#bd3786\"],[0.5555555555555556,\"#d8576b\"],[0.6666666666666666,\"#ed7953\"],[0.7777777777777778,\"#fb9f3a\"],[0.8888888888888888,\"#fdca26\"],[1.0,\"#f0f921\"]]}],\"heatmap\":[{\"type\":\"heatmap\",\"colorbar\":{\"outlinewidth\":0,\"ticks\":\"\"},\"colorscale\":[[0.0,\"#0d0887\"],[0.1111111111111111,\"#46039f\"],[0.2222222222222222,\"#7201a8\"],[0.3333333333333333,\"#9c179e\"],[0.4444444444444444,\"#bd3786\"],[0.5555555555555556,\"#d8576b\"],[0.6666666666666666,\"#ed7953\"],[0.7777777777777778,\"#fb9f3a\"],[0.8888888888888888,\"#fdca26\"],[1.0,\"#f0f921\"]]}],\"heatmapgl\":[{\"type\":\"heatmapgl\",\"colorbar\":{\"outlinewidth\":0,\"ticks\":\"\"},\"colorscale\":[[0.0,\"#0d0887\"],[0.1111111111111111,\"#46039f\"],[0.2222222222222222,\"#7201a8\"],[0.3333333333333333,\"#9c179e\"],[0.4444444444444444,\"#bd3786\"],[0.5555555555555556,\"#d8576b\"],[0.6666666666666666,\"#ed7953\"],[0.7777777777777778,\"#fb9f3a\"],[0.8888888888888888,\"#fdca26\"],[1.0,\"#f0f921\"]]}],\"contourcarpet\":[{\"type\":\"contourcarpet\",\"colorbar\":{\"outlinewidth\":0,\"ticks\":\"\"}}],\"contour\":[{\"type\":\"contour\",\"colorbar\":{\"outlinewidth\":0,\"ticks\":\"\"},\"colorscale\":[[0.0,\"#0d0887\"],[0.1111111111111111,\"#46039f\"],[0.2222222222222222,\"#7201a8\"],[0.3333333333333333,\"#9c179e\"],[0.4444444444444444,\"#bd3786\"],[0.5555555555555556,\"#d8576b\"],[0.6666666666666666,\"#ed7953\"],[0.7777777777777778,\"#fb9f3a\"],[0.8888888888888888,\"#fdca26\"],[1.0,\"#f0f921\"]]}],\"surface\":[{\"type\":\"surface\",\"colorbar\":{\"outlinewidth\":0,\"ticks\":\"\"},\"colorscale\":[[0.0,\"#0d0887\"],[0.1111111111111111,\"#46039f\"],[0.2222222222222222,\"#7201a8\"],[0.3333333333333333,\"#9c179e\"],[0.4444444444444444,\"#bd3786\"],[0.5555555555555556,\"#d8576b\"],[0.6666666666666666,\"#ed7953\"],[0.7777777777777778,\"#fb9f3a\"],[0.8888888888888888,\"#fdca26\"],[1.0,\"#f0f921\"]]}],\"mesh3d\":[{\"type\":\"mesh3d\",\"colorbar\":{\"outlinewidth\":0,\"ticks\":\"\"}}],\"scatter\":[{\"fillpattern\":{\"fillmode\":\"overlay\",\"size\":10,\"solidity\":0.2},\"type\":\"scatter\"}],\"parcoords\":[{\"type\":\"parcoords\",\"line\":{\"colorbar\":{\"outlinewidth\":0,\"ticks\":\"\"}}}],\"scatterpolargl\":[{\"type\":\"scatterpolargl\",\"marker\":{\"colorbar\":{\"outlinewidth\":0,\"ticks\":\"\"}}}],\"bar\":[{\"error_x\":{\"color\":\"#2a3f5f\"},\"error_y\":{\"color\":\"#2a3f5f\"},\"marker\":{\"line\":{\"color\":\"#E5ECF6\",\"width\":0.5},\"pattern\":{\"fillmode\":\"overlay\",\"size\":10,\"solidity\":0.2}},\"type\":\"bar\"}],\"scattergeo\":[{\"type\":\"scattergeo\",\"marker\":{\"colorbar\":{\"outlinewidth\":0,\"ticks\":\"\"}}}],\"scatterpolar\":[{\"type\":\"scatterpolar\",\"marker\":{\"colorbar\":{\"outlinewidth\":0,\"ticks\":\"\"}}}],\"histogram\":[{\"marker\":{\"pattern\":{\"fillmode\":\"overlay\",\"size\":10,\"solidity\":0.2}},\"type\":\"histogram\"}],\"scattergl\":[{\"type\":\"scattergl\",\"marker\":{\"colorbar\":{\"outlinewidth\":0,\"ticks\":\"\"}}}],\"scatter3d\":[{\"type\":\"scatter3d\",\"line\":{\"colorbar\":{\"outlinewidth\":0,\"ticks\":\"\"}},\"marker\":{\"colorbar\":{\"outlinewidth\":0,\"ticks\":\"\"}}}],\"scattermapbox\":[{\"type\":\"scattermapbox\",\"marker\":{\"colorbar\":{\"outlinewidth\":0,\"ticks\":\"\"}}}],\"scatterternary\":[{\"type\":\"scatterternary\",\"marker\":{\"colorbar\":{\"outlinewidth\":0,\"ticks\":\"\"}}}],\"scattercarpet\":[{\"type\":\"scattercarpet\",\"marker\":{\"colorbar\":{\"outlinewidth\":0,\"ticks\":\"\"}}}],\"carpet\":[{\"aaxis\":{\"endlinecolor\":\"#2a3f5f\",\"gridcolor\":\"white\",\"linecolor\":\"white\",\"minorgridcolor\":\"white\",\"startlinecolor\":\"#2a3f5f\"},\"baxis\":{\"endlinecolor\":\"#2a3f5f\",\"gridcolor\":\"white\",\"linecolor\":\"white\",\"minorgridcolor\":\"white\",\"startlinecolor\":\"#2a3f5f\"},\"type\":\"carpet\"}],\"table\":[{\"cells\":{\"fill\":{\"color\":\"#EBF0F8\"},\"line\":{\"color\":\"white\"}},\"header\":{\"fill\":{\"color\":\"#C8D4E3\"},\"line\":{\"color\":\"white\"}},\"type\":\"table\"}],\"barpolar\":[{\"marker\":{\"line\":{\"color\":\"#E5ECF6\",\"width\":0.5},\"pattern\":{\"fillmode\":\"overlay\",\"size\":10,\"solidity\":0.2}},\"type\":\"barpolar\"}],\"pie\":[{\"automargin\":true,\"type\":\"pie\"}]},\"layout\":{\"autotypenumbers\":\"strict\",\"colorway\":[\"#636efa\",\"#EF553B\",\"#00cc96\",\"#ab63fa\",\"#FFA15A\",\"#19d3f3\",\"#FF6692\",\"#B6E880\",\"#FF97FF\",\"#FECB52\"],\"font\":{\"color\":\"#2a3f5f\"},\"hovermode\":\"closest\",\"hoverlabel\":{\"align\":\"left\"},\"paper_bgcolor\":\"white\",\"plot_bgcolor\":\"#E5ECF6\",\"polar\":{\"bgcolor\":\"#E5ECF6\",\"angularaxis\":{\"gridcolor\":\"white\",\"linecolor\":\"white\",\"ticks\":\"\"},\"radialaxis\":{\"gridcolor\":\"white\",\"linecolor\":\"white\",\"ticks\":\"\"}},\"ternary\":{\"bgcolor\":\"#E5ECF6\",\"aaxis\":{\"gridcolor\":\"white\",\"linecolor\":\"white\",\"ticks\":\"\"},\"baxis\":{\"gridcolor\":\"white\",\"linecolor\":\"white\",\"ticks\":\"\"},\"caxis\":{\"gridcolor\":\"white\",\"linecolor\":\"white\",\"ticks\":\"\"}},\"coloraxis\":{\"colorbar\":{\"outlinewidth\":0,\"ticks\":\"\"}},\"colorscale\":{\"sequential\":[[0.0,\"#0d0887\"],[0.1111111111111111,\"#46039f\"],[0.2222222222222222,\"#7201a8\"],[0.3333333333333333,\"#9c179e\"],[0.4444444444444444,\"#bd3786\"],[0.5555555555555556,\"#d8576b\"],[0.6666666666666666,\"#ed7953\"],[0.7777777777777778,\"#fb9f3a\"],[0.8888888888888888,\"#fdca26\"],[1.0,\"#f0f921\"]],\"sequentialminus\":[[0.0,\"#0d0887\"],[0.1111111111111111,\"#46039f\"],[0.2222222222222222,\"#7201a8\"],[0.3333333333333333,\"#9c179e\"],[0.4444444444444444,\"#bd3786\"],[0.5555555555555556,\"#d8576b\"],[0.6666666666666666,\"#ed7953\"],[0.7777777777777778,\"#fb9f3a\"],[0.8888888888888888,\"#fdca26\"],[1.0,\"#f0f921\"]],\"diverging\":[[0,\"#8e0152\"],[0.1,\"#c51b7d\"],[0.2,\"#de77ae\"],[0.3,\"#f1b6da\"],[0.4,\"#fde0ef\"],[0.5,\"#f7f7f7\"],[0.6,\"#e6f5d0\"],[0.7,\"#b8e186\"],[0.8,\"#7fbc41\"],[0.9,\"#4d9221\"],[1,\"#276419\"]]},\"xaxis\":{\"gridcolor\":\"white\",\"linecolor\":\"white\",\"ticks\":\"\",\"title\":{\"standoff\":15},\"zerolinecolor\":\"white\",\"automargin\":true,\"zerolinewidth\":2},\"yaxis\":{\"gridcolor\":\"white\",\"linecolor\":\"white\",\"ticks\":\"\",\"title\":{\"standoff\":15},\"zerolinecolor\":\"white\",\"automargin\":true,\"zerolinewidth\":2},\"scene\":{\"xaxis\":{\"backgroundcolor\":\"#E5ECF6\",\"gridcolor\":\"white\",\"linecolor\":\"white\",\"showbackground\":true,\"ticks\":\"\",\"zerolinecolor\":\"white\",\"gridwidth\":2},\"yaxis\":{\"backgroundcolor\":\"#E5ECF6\",\"gridcolor\":\"white\",\"linecolor\":\"white\",\"showbackground\":true,\"ticks\":\"\",\"zerolinecolor\":\"white\",\"gridwidth\":2},\"zaxis\":{\"backgroundcolor\":\"#E5ECF6\",\"gridcolor\":\"white\",\"linecolor\":\"white\",\"showbackground\":true,\"ticks\":\"\",\"zerolinecolor\":\"white\",\"gridwidth\":2}},\"shapedefaults\":{\"line\":{\"color\":\"#2a3f5f\"}},\"annotationdefaults\":{\"arrowcolor\":\"#2a3f5f\",\"arrowhead\":0,\"arrowwidth\":1},\"geo\":{\"bgcolor\":\"white\",\"landcolor\":\"#E5ECF6\",\"subunitcolor\":\"white\",\"showland\":true,\"showlakes\":true,\"lakecolor\":\"white\"},\"title\":{\"x\":0.05},\"mapbox\":{\"style\":\"light\"}}},\"xaxis\":{\"anchor\":\"y\",\"domain\":[0.0,1.0],\"title\":{\"text\":\"x\"},\"range\":[-4,0]},\"yaxis\":{\"anchor\":\"x\",\"domain\":[0.0,1.0],\"title\":{\"text\":\"y\"},\"range\":[-2,1]},\"legend\":{\"tracegroupgap\":0},\"margin\":{\"t\":60},\"updatemenus\":[{\"buttons\":[{\"args\":[null,{\"frame\":{\"duration\":500,\"redraw\":false},\"mode\":\"immediate\",\"fromcurrent\":true,\"transition\":{\"duration\":500,\"easing\":\"linear\"}}],\"label\":\"&#9654;\",\"method\":\"animate\"},{\"args\":[[null],{\"frame\":{\"duration\":0,\"redraw\":false},\"mode\":\"immediate\",\"fromcurrent\":true,\"transition\":{\"duration\":0,\"easing\":\"linear\"}}],\"label\":\"&#9724;\",\"method\":\"animate\"}],\"direction\":\"left\",\"pad\":{\"r\":10,\"t\":70},\"showactive\":false,\"type\":\"buttons\",\"x\":0.1,\"xanchor\":\"right\",\"y\":0,\"yanchor\":\"top\"}],\"sliders\":[{\"active\":0,\"currentvalue\":{\"prefix\":\"index=\"},\"len\":0.9,\"pad\":{\"b\":10,\"t\":60},\"steps\":[{\"args\":[[\"0\"],{\"frame\":{\"duration\":0,\"redraw\":false},\"mode\":\"immediate\",\"fromcurrent\":true,\"transition\":{\"duration\":0,\"easing\":\"linear\"}}],\"label\":\"0\",\"method\":\"animate\"},{\"args\":[[\"1\"],{\"frame\":{\"duration\":0,\"redraw\":false},\"mode\":\"immediate\",\"fromcurrent\":true,\"transition\":{\"duration\":0,\"easing\":\"linear\"}}],\"label\":\"1\",\"method\":\"animate\"},{\"args\":[[\"2\"],{\"frame\":{\"duration\":0,\"redraw\":false},\"mode\":\"immediate\",\"fromcurrent\":true,\"transition\":{\"duration\":0,\"easing\":\"linear\"}}],\"label\":\"2\",\"method\":\"animate\"},{\"args\":[[\"3\"],{\"frame\":{\"duration\":0,\"redraw\":false},\"mode\":\"immediate\",\"fromcurrent\":true,\"transition\":{\"duration\":0,\"easing\":\"linear\"}}],\"label\":\"3\",\"method\":\"animate\"},{\"args\":[[\"4\"],{\"frame\":{\"duration\":0,\"redraw\":false},\"mode\":\"immediate\",\"fromcurrent\":true,\"transition\":{\"duration\":0,\"easing\":\"linear\"}}],\"label\":\"4\",\"method\":\"animate\"},{\"args\":[[\"5\"],{\"frame\":{\"duration\":0,\"redraw\":false},\"mode\":\"immediate\",\"fromcurrent\":true,\"transition\":{\"duration\":0,\"easing\":\"linear\"}}],\"label\":\"5\",\"method\":\"animate\"},{\"args\":[[\"6\"],{\"frame\":{\"duration\":0,\"redraw\":false},\"mode\":\"immediate\",\"fromcurrent\":true,\"transition\":{\"duration\":0,\"easing\":\"linear\"}}],\"label\":\"6\",\"method\":\"animate\"},{\"args\":[[\"7\"],{\"frame\":{\"duration\":0,\"redraw\":false},\"mode\":\"immediate\",\"fromcurrent\":true,\"transition\":{\"duration\":0,\"easing\":\"linear\"}}],\"label\":\"7\",\"method\":\"animate\"},{\"args\":[[\"8\"],{\"frame\":{\"duration\":0,\"redraw\":false},\"mode\":\"immediate\",\"fromcurrent\":true,\"transition\":{\"duration\":0,\"easing\":\"linear\"}}],\"label\":\"8\",\"method\":\"animate\"},{\"args\":[[\"9\"],{\"frame\":{\"duration\":0,\"redraw\":false},\"mode\":\"immediate\",\"fromcurrent\":true,\"transition\":{\"duration\":0,\"easing\":\"linear\"}}],\"label\":\"9\",\"method\":\"animate\"}],\"x\":0.1,\"xanchor\":\"left\",\"y\":0,\"yanchor\":\"top\"}]},                        {\"responsive\": true}                    ).then(function(){\n",
              "                            Plotly.addFrames('65d9fe1e-eabe-44b5-bc23-3ef1ac4f07f5', [{\"data\":[{\"hovertemplate\":\"index=0\\u003cbr\\u003ex=%{x}\\u003cbr\\u003ey=%{y}\\u003cextra\\u003e\\u003c\\u002fextra\\u003e\",\"legendgroup\":\"\",\"marker\":{\"color\":\"#636efa\",\"symbol\":\"circle\"},\"mode\":\"markers\",\"name\":\"\",\"orientation\":\"v\",\"showlegend\":false,\"x\":[0],\"xaxis\":\"x\",\"y\":[0],\"yaxis\":\"y\",\"type\":\"scatter\"}],\"name\":\"0\"},{\"data\":[{\"hovertemplate\":\"index=1\\u003cbr\\u003ex=%{x}\\u003cbr\\u003ey=%{y}\\u003cextra\\u003e\\u003c\\u002fextra\\u003e\",\"legendgroup\":\"\",\"marker\":{\"color\":\"#636efa\",\"symbol\":\"circle\"},\"mode\":\"markers\",\"name\":\"\",\"orientation\":\"v\",\"showlegend\":false,\"x\":[0],\"xaxis\":\"x\",\"y\":[1],\"yaxis\":\"y\",\"type\":\"scatter\"}],\"name\":\"1\"},{\"data\":[{\"hovertemplate\":\"index=2\\u003cbr\\u003ex=%{x}\\u003cbr\\u003ey=%{y}\\u003cextra\\u003e\\u003c\\u002fextra\\u003e\",\"legendgroup\":\"\",\"marker\":{\"color\":\"#636efa\",\"symbol\":\"circle\"},\"mode\":\"markers\",\"name\":\"\",\"orientation\":\"v\",\"showlegend\":false,\"x\":[-1],\"xaxis\":\"x\",\"y\":[0],\"yaxis\":\"y\",\"type\":\"scatter\"}],\"name\":\"2\"},{\"data\":[{\"hovertemplate\":\"index=3\\u003cbr\\u003ex=%{x}\\u003cbr\\u003ey=%{y}\\u003cextra\\u003e\\u003c\\u002fextra\\u003e\",\"legendgroup\":\"\",\"marker\":{\"color\":\"#636efa\",\"symbol\":\"circle\"},\"mode\":\"markers\",\"name\":\"\",\"orientation\":\"v\",\"showlegend\":false,\"x\":[-2],\"xaxis\":\"x\",\"y\":[0],\"yaxis\":\"y\",\"type\":\"scatter\"}],\"name\":\"3\"},{\"data\":[{\"hovertemplate\":\"index=4\\u003cbr\\u003ex=%{x}\\u003cbr\\u003ey=%{y}\\u003cextra\\u003e\\u003c\\u002fextra\\u003e\",\"legendgroup\":\"\",\"marker\":{\"color\":\"#636efa\",\"symbol\":\"circle\"},\"mode\":\"markers\",\"name\":\"\",\"orientation\":\"v\",\"showlegend\":false,\"x\":[-2],\"xaxis\":\"x\",\"y\":[-1],\"yaxis\":\"y\",\"type\":\"scatter\"}],\"name\":\"4\"},{\"data\":[{\"hovertemplate\":\"index=5\\u003cbr\\u003ex=%{x}\\u003cbr\\u003ey=%{y}\\u003cextra\\u003e\\u003c\\u002fextra\\u003e\",\"legendgroup\":\"\",\"marker\":{\"color\":\"#636efa\",\"symbol\":\"circle\"},\"mode\":\"markers\",\"name\":\"\",\"orientation\":\"v\",\"showlegend\":false,\"x\":[-3],\"xaxis\":\"x\",\"y\":[0],\"yaxis\":\"y\",\"type\":\"scatter\"}],\"name\":\"5\"},{\"data\":[{\"hovertemplate\":\"index=6\\u003cbr\\u003ex=%{x}\\u003cbr\\u003ey=%{y}\\u003cextra\\u003e\\u003c\\u002fextra\\u003e\",\"legendgroup\":\"\",\"marker\":{\"color\":\"#636efa\",\"symbol\":\"circle\"},\"mode\":\"markers\",\"name\":\"\",\"orientation\":\"v\",\"showlegend\":false,\"x\":[-3],\"xaxis\":\"x\",\"y\":[-1],\"yaxis\":\"y\",\"type\":\"scatter\"}],\"name\":\"6\"},{\"data\":[{\"hovertemplate\":\"index=7\\u003cbr\\u003ex=%{x}\\u003cbr\\u003ey=%{y}\\u003cextra\\u003e\\u003c\\u002fextra\\u003e\",\"legendgroup\":\"\",\"marker\":{\"color\":\"#636efa\",\"symbol\":\"circle\"},\"mode\":\"markers\",\"name\":\"\",\"orientation\":\"v\",\"showlegend\":false,\"x\":[-3],\"xaxis\":\"x\",\"y\":[0],\"yaxis\":\"y\",\"type\":\"scatter\"}],\"name\":\"7\"},{\"data\":[{\"hovertemplate\":\"index=8\\u003cbr\\u003ex=%{x}\\u003cbr\\u003ey=%{y}\\u003cextra\\u003e\\u003c\\u002fextra\\u003e\",\"legendgroup\":\"\",\"marker\":{\"color\":\"#636efa\",\"symbol\":\"circle\"},\"mode\":\"markers\",\"name\":\"\",\"orientation\":\"v\",\"showlegend\":false,\"x\":[-4],\"xaxis\":\"x\",\"y\":[-1],\"yaxis\":\"y\",\"type\":\"scatter\"}],\"name\":\"8\"},{\"data\":[{\"hovertemplate\":\"index=9\\u003cbr\\u003ex=%{x}\\u003cbr\\u003ey=%{y}\\u003cextra\\u003e\\u003c\\u002fextra\\u003e\",\"legendgroup\":\"\",\"marker\":{\"color\":\"#636efa\",\"symbol\":\"circle\"},\"mode\":\"markers\",\"name\":\"\",\"orientation\":\"v\",\"showlegend\":false,\"x\":[-4],\"xaxis\":\"x\",\"y\":[-2],\"yaxis\":\"y\",\"type\":\"scatter\"}],\"name\":\"9\"}]);\n",
              "                        }).then(function(){\n",
              "                            \n",
              "var gd = document.getElementById('65d9fe1e-eabe-44b5-bc23-3ef1ac4f07f5');\n",
              "var x = new MutationObserver(function (mutations, observer) {{\n",
              "        var display = window.getComputedStyle(gd).display;\n",
              "        if (!display || display === 'none') {{\n",
              "            console.log([gd, 'removed!']);\n",
              "            Plotly.purge(gd);\n",
              "            observer.disconnect();\n",
              "        }}\n",
              "}});\n",
              "\n",
              "// Listen for the removal of the full notebook cells\n",
              "var notebookContainer = gd.closest('#notebook-container');\n",
              "if (notebookContainer) {{\n",
              "    x.observe(notebookContainer, {childList: true});\n",
              "}}\n",
              "\n",
              "// Listen for the clearing of the current output cell\n",
              "var outputEl = gd.closest('.output');\n",
              "if (outputEl) {{\n",
              "    x.observe(outputEl, {childList: true});\n",
              "}}\n",
              "\n",
              "                        })                };                });            </script>        </div>"
            ]
          },
          "metadata": {}
        }
      ]
    },
    {
      "cell_type": "markdown",
      "source": [
        "## Analizar partidos"
      ],
      "metadata": {
        "id": "lxsoKSocIDFJ"
      }
    },
    {
      "cell_type": "markdown",
      "source": [
        "### Tramposos en ajedrez\n",
        "\n",
        "Chess.com echó a un jugador famoso acusándolo de hacer trampa en un [informe estadístico](https://www.chess.com/blog/CHESScom/hans-niemann-report)\n",
        "\n",
        "The basic concept of cheat detection, particularly at the top level of chess, is both statistical and manual,\n",
        "involving:\n",
        "\n",
        "* Comparing the moves made to engine recommended moves\n",
        "* Removing some moves (opening, some endgame)\n",
        "* Focusing on key/critical moves\n",
        "* Discussing with a panel of trained analysts and strong players\n",
        "* Comparing player past performance and known strength profile\n",
        "* Comparing a player’s performance to performances of comparable peers\n",
        "* Looking at the statistical significance of the results (ex. “1 in a million chance of happening\n",
        "naturally”)\n",
        "* Looking at if there are behavioral factors at play (ex. “browser behavior”)\n",
        "* Reviewing time usage when compared to difficulty of the moves on the board"
      ],
      "metadata": {
        "id": "nmXr25KsG5Dc"
      }
    },
    {
      "cell_type": "markdown",
      "source": [
        "### Backtesting y simulación en finanzas"
      ],
      "metadata": {
        "id": "uWrWufRXITcc"
      }
    },
    {
      "cell_type": "markdown",
      "source": [
        "#### Dólar vs Inflación en Argentina"
      ],
      "metadata": {
        "id": "g0EMGSMRMYNy"
      }
    },
    {
      "cell_type": "code",
      "source": [
        "uva_df_tables= pd.read_html('http://data.podemosaprender.org/finanzas/UVA_BCRA_2022.html')\n",
        "uva_df= uva_df_tables[0] #A: sabemos que hay una sola!\n",
        "uva_df.rename(columns={'Valor':'UVA', 'Fecha': 'fecha'}, inplace=True)\n",
        "uva_df.fecha= pd.to_datetime( uva_df.fecha, format='%Y-%m-%d')\n",
        "\n",
        "usd_blue_df= pd.read_csv(\"https://data.podemosaprender.org/finanzas/USD_BLUE_2022.csv\", sep=\"\\t\")\n",
        "usd_blue_df.fecha= pd.to_datetime( usd_blue_df.fecha, format='%Y/%m/%d')\n",
        "\n",
        "uva_usd_df= pd.merge(uva_df, usd_blue_df, on=\"fecha\")\n",
        "\n",
        "uva_usd_df.head()"
      ],
      "metadata": {
        "colab": {
          "base_uri": "https://localhost:8080/",
          "height": 206
        },
        "id": "J6WdE35ly5CN",
        "outputId": "868393ec-e3df-4e67-db46-40500650c6b9"
      },
      "execution_count": 28,
      "outputs": [
        {
          "output_type": "execute_result",
          "data": {
            "text/plain": [
              "       fecha    UVA  compra  venta\n",
              "0 2022-01-03  97.58   202.0  202.0\n",
              "1 2022-01-04  97.82   202.5  202.5\n",
              "2 2022-01-05  97.89   203.5  203.5\n",
              "3 2022-01-06  97.97   204.5  204.5\n",
              "4 2022-01-07  98.05   204.0  204.0"
            ],
            "text/html": [
              "\n",
              "  <div id=\"df-5b4118db-5a0e-42ad-a140-2645606d4b63\" class=\"colab-df-container\">\n",
              "    <div>\n",
              "<style scoped>\n",
              "    .dataframe tbody tr th:only-of-type {\n",
              "        vertical-align: middle;\n",
              "    }\n",
              "\n",
              "    .dataframe tbody tr th {\n",
              "        vertical-align: top;\n",
              "    }\n",
              "\n",
              "    .dataframe thead th {\n",
              "        text-align: right;\n",
              "    }\n",
              "</style>\n",
              "<table border=\"1\" class=\"dataframe\">\n",
              "  <thead>\n",
              "    <tr style=\"text-align: right;\">\n",
              "      <th></th>\n",
              "      <th>fecha</th>\n",
              "      <th>UVA</th>\n",
              "      <th>compra</th>\n",
              "      <th>venta</th>\n",
              "    </tr>\n",
              "  </thead>\n",
              "  <tbody>\n",
              "    <tr>\n",
              "      <th>0</th>\n",
              "      <td>2022-01-03</td>\n",
              "      <td>97.58</td>\n",
              "      <td>202.0</td>\n",
              "      <td>202.0</td>\n",
              "    </tr>\n",
              "    <tr>\n",
              "      <th>1</th>\n",
              "      <td>2022-01-04</td>\n",
              "      <td>97.82</td>\n",
              "      <td>202.5</td>\n",
              "      <td>202.5</td>\n",
              "    </tr>\n",
              "    <tr>\n",
              "      <th>2</th>\n",
              "      <td>2022-01-05</td>\n",
              "      <td>97.89</td>\n",
              "      <td>203.5</td>\n",
              "      <td>203.5</td>\n",
              "    </tr>\n",
              "    <tr>\n",
              "      <th>3</th>\n",
              "      <td>2022-01-06</td>\n",
              "      <td>97.97</td>\n",
              "      <td>204.5</td>\n",
              "      <td>204.5</td>\n",
              "    </tr>\n",
              "    <tr>\n",
              "      <th>4</th>\n",
              "      <td>2022-01-07</td>\n",
              "      <td>98.05</td>\n",
              "      <td>204.0</td>\n",
              "      <td>204.0</td>\n",
              "    </tr>\n",
              "  </tbody>\n",
              "</table>\n",
              "</div>\n",
              "    <div class=\"colab-df-buttons\">\n",
              "\n",
              "  <div class=\"colab-df-container\">\n",
              "    <button class=\"colab-df-convert\" onclick=\"convertToInteractive('df-5b4118db-5a0e-42ad-a140-2645606d4b63')\"\n",
              "            title=\"Convert this dataframe to an interactive table.\"\n",
              "            style=\"display:none;\">\n",
              "\n",
              "  <svg xmlns=\"http://www.w3.org/2000/svg\" height=\"24px\" viewBox=\"0 -960 960 960\">\n",
              "    <path d=\"M120-120v-720h720v720H120Zm60-500h600v-160H180v160Zm220 220h160v-160H400v160Zm0 220h160v-160H400v160ZM180-400h160v-160H180v160Zm440 0h160v-160H620v160ZM180-180h160v-160H180v160Zm440 0h160v-160H620v160Z\"/>\n",
              "  </svg>\n",
              "    </button>\n",
              "\n",
              "  <style>\n",
              "    .colab-df-container {\n",
              "      display:flex;\n",
              "      gap: 12px;\n",
              "    }\n",
              "\n",
              "    .colab-df-convert {\n",
              "      background-color: #E8F0FE;\n",
              "      border: none;\n",
              "      border-radius: 50%;\n",
              "      cursor: pointer;\n",
              "      display: none;\n",
              "      fill: #1967D2;\n",
              "      height: 32px;\n",
              "      padding: 0 0 0 0;\n",
              "      width: 32px;\n",
              "    }\n",
              "\n",
              "    .colab-df-convert:hover {\n",
              "      background-color: #E2EBFA;\n",
              "      box-shadow: 0px 1px 2px rgba(60, 64, 67, 0.3), 0px 1px 3px 1px rgba(60, 64, 67, 0.15);\n",
              "      fill: #174EA6;\n",
              "    }\n",
              "\n",
              "    .colab-df-buttons div {\n",
              "      margin-bottom: 4px;\n",
              "    }\n",
              "\n",
              "    [theme=dark] .colab-df-convert {\n",
              "      background-color: #3B4455;\n",
              "      fill: #D2E3FC;\n",
              "    }\n",
              "\n",
              "    [theme=dark] .colab-df-convert:hover {\n",
              "      background-color: #434B5C;\n",
              "      box-shadow: 0px 1px 3px 1px rgba(0, 0, 0, 0.15);\n",
              "      filter: drop-shadow(0px 1px 2px rgba(0, 0, 0, 0.3));\n",
              "      fill: #FFFFFF;\n",
              "    }\n",
              "  </style>\n",
              "\n",
              "    <script>\n",
              "      const buttonEl =\n",
              "        document.querySelector('#df-5b4118db-5a0e-42ad-a140-2645606d4b63 button.colab-df-convert');\n",
              "      buttonEl.style.display =\n",
              "        google.colab.kernel.accessAllowed ? 'block' : 'none';\n",
              "\n",
              "      async function convertToInteractive(key) {\n",
              "        const element = document.querySelector('#df-5b4118db-5a0e-42ad-a140-2645606d4b63');\n",
              "        const dataTable =\n",
              "          await google.colab.kernel.invokeFunction('convertToInteractive',\n",
              "                                                    [key], {});\n",
              "        if (!dataTable) return;\n",
              "\n",
              "        const docLinkHtml = 'Like what you see? Visit the ' +\n",
              "          '<a target=\"_blank\" href=https://colab.research.google.com/notebooks/data_table.ipynb>data table notebook</a>'\n",
              "          + ' to learn more about interactive tables.';\n",
              "        element.innerHTML = '';\n",
              "        dataTable['output_type'] = 'display_data';\n",
              "        await google.colab.output.renderOutput(dataTable, element);\n",
              "        const docLink = document.createElement('div');\n",
              "        docLink.innerHTML = docLinkHtml;\n",
              "        element.appendChild(docLink);\n",
              "      }\n",
              "    </script>\n",
              "  </div>\n",
              "\n",
              "\n",
              "<div id=\"df-03dc779c-6ca4-4726-93a3-373768ae17c5\">\n",
              "  <button class=\"colab-df-quickchart\" onclick=\"quickchart('df-03dc779c-6ca4-4726-93a3-373768ae17c5')\"\n",
              "            title=\"Suggest charts.\"\n",
              "            style=\"display:none;\">\n",
              "\n",
              "<svg xmlns=\"http://www.w3.org/2000/svg\" height=\"24px\"viewBox=\"0 0 24 24\"\n",
              "     width=\"24px\">\n",
              "    <g>\n",
              "        <path d=\"M19 3H5c-1.1 0-2 .9-2 2v14c0 1.1.9 2 2 2h14c1.1 0 2-.9 2-2V5c0-1.1-.9-2-2-2zM9 17H7v-7h2v7zm4 0h-2V7h2v10zm4 0h-2v-4h2v4z\"/>\n",
              "    </g>\n",
              "</svg>\n",
              "  </button>\n",
              "\n",
              "<style>\n",
              "  .colab-df-quickchart {\n",
              "      --bg-color: #E8F0FE;\n",
              "      --fill-color: #1967D2;\n",
              "      --hover-bg-color: #E2EBFA;\n",
              "      --hover-fill-color: #174EA6;\n",
              "      --disabled-fill-color: #AAA;\n",
              "      --disabled-bg-color: #DDD;\n",
              "  }\n",
              "\n",
              "  [theme=dark] .colab-df-quickchart {\n",
              "      --bg-color: #3B4455;\n",
              "      --fill-color: #D2E3FC;\n",
              "      --hover-bg-color: #434B5C;\n",
              "      --hover-fill-color: #FFFFFF;\n",
              "      --disabled-bg-color: #3B4455;\n",
              "      --disabled-fill-color: #666;\n",
              "  }\n",
              "\n",
              "  .colab-df-quickchart {\n",
              "    background-color: var(--bg-color);\n",
              "    border: none;\n",
              "    border-radius: 50%;\n",
              "    cursor: pointer;\n",
              "    display: none;\n",
              "    fill: var(--fill-color);\n",
              "    height: 32px;\n",
              "    padding: 0;\n",
              "    width: 32px;\n",
              "  }\n",
              "\n",
              "  .colab-df-quickchart:hover {\n",
              "    background-color: var(--hover-bg-color);\n",
              "    box-shadow: 0 1px 2px rgba(60, 64, 67, 0.3), 0 1px 3px 1px rgba(60, 64, 67, 0.15);\n",
              "    fill: var(--button-hover-fill-color);\n",
              "  }\n",
              "\n",
              "  .colab-df-quickchart-complete:disabled,\n",
              "  .colab-df-quickchart-complete:disabled:hover {\n",
              "    background-color: var(--disabled-bg-color);\n",
              "    fill: var(--disabled-fill-color);\n",
              "    box-shadow: none;\n",
              "  }\n",
              "\n",
              "  .colab-df-spinner {\n",
              "    border: 2px solid var(--fill-color);\n",
              "    border-color: transparent;\n",
              "    border-bottom-color: var(--fill-color);\n",
              "    animation:\n",
              "      spin 1s steps(1) infinite;\n",
              "  }\n",
              "\n",
              "  @keyframes spin {\n",
              "    0% {\n",
              "      border-color: transparent;\n",
              "      border-bottom-color: var(--fill-color);\n",
              "      border-left-color: var(--fill-color);\n",
              "    }\n",
              "    20% {\n",
              "      border-color: transparent;\n",
              "      border-left-color: var(--fill-color);\n",
              "      border-top-color: var(--fill-color);\n",
              "    }\n",
              "    30% {\n",
              "      border-color: transparent;\n",
              "      border-left-color: var(--fill-color);\n",
              "      border-top-color: var(--fill-color);\n",
              "      border-right-color: var(--fill-color);\n",
              "    }\n",
              "    40% {\n",
              "      border-color: transparent;\n",
              "      border-right-color: var(--fill-color);\n",
              "      border-top-color: var(--fill-color);\n",
              "    }\n",
              "    60% {\n",
              "      border-color: transparent;\n",
              "      border-right-color: var(--fill-color);\n",
              "    }\n",
              "    80% {\n",
              "      border-color: transparent;\n",
              "      border-right-color: var(--fill-color);\n",
              "      border-bottom-color: var(--fill-color);\n",
              "    }\n",
              "    90% {\n",
              "      border-color: transparent;\n",
              "      border-bottom-color: var(--fill-color);\n",
              "    }\n",
              "  }\n",
              "</style>\n",
              "\n",
              "  <script>\n",
              "    async function quickchart(key) {\n",
              "      const quickchartButtonEl =\n",
              "        document.querySelector('#' + key + ' button');\n",
              "      quickchartButtonEl.disabled = true;  // To prevent multiple clicks.\n",
              "      quickchartButtonEl.classList.add('colab-df-spinner');\n",
              "      try {\n",
              "        const charts = await google.colab.kernel.invokeFunction(\n",
              "            'suggestCharts', [key], {});\n",
              "      } catch (error) {\n",
              "        console.error('Error during call to suggestCharts:', error);\n",
              "      }\n",
              "      quickchartButtonEl.classList.remove('colab-df-spinner');\n",
              "      quickchartButtonEl.classList.add('colab-df-quickchart-complete');\n",
              "    }\n",
              "    (() => {\n",
              "      let quickchartButtonEl =\n",
              "        document.querySelector('#df-03dc779c-6ca4-4726-93a3-373768ae17c5 button');\n",
              "      quickchartButtonEl.style.display =\n",
              "        google.colab.kernel.accessAllowed ? 'block' : 'none';\n",
              "    })();\n",
              "  </script>\n",
              "</div>\n",
              "    </div>\n",
              "  </div>\n"
            ]
          },
          "metadata": {},
          "execution_count": 28
        }
      ]
    },
    {
      "cell_type": "code",
      "source": [
        "fig = px.line(uva_usd_df, x=\"fecha\", y=[\"UVA\",\"venta\"], title='Dólar vs Inflación')\n",
        "fig.show()"
      ],
      "metadata": {
        "colab": {
          "base_uri": "https://localhost:8080/",
          "height": 542
        },
        "id": "92urKL5OM4rP",
        "outputId": "a6c8ad88-729b-48b7-d3ac-416f853383ca"
      },
      "execution_count": 29,
      "outputs": [
        {
          "output_type": "display_data",
          "data": {
            "application/vnd.plotly.v1+json": {
              "data": [
                {
                  "hovertemplate": "variable=UVA<br>fecha=%{x}<br>value=%{y}<extra></extra>",
                  "legendgroup": "UVA",
                  "line": {
                    "color": "#636efa",
                    "dash": "solid"
                  },
                  "marker": {
                    "symbol": "circle"
                  },
                  "mode": "lines",
                  "name": "UVA",
                  "orientation": "v",
                  "showlegend": true,
                  "x": [
                    "2022-01-03T00:00:00",
                    "2022-01-04T00:00:00",
                    "2022-01-05T00:00:00",
                    "2022-01-06T00:00:00",
                    "2022-01-07T00:00:00",
                    "2022-01-10T00:00:00",
                    "2022-01-11T00:00:00",
                    "2022-01-12T00:00:00",
                    "2022-01-13T00:00:00",
                    "2022-01-14T00:00:00",
                    "2022-01-17T00:00:00",
                    "2022-01-18T00:00:00",
                    "2022-01-19T00:00:00",
                    "2022-01-20T00:00:00",
                    "2022-01-21T00:00:00",
                    "2022-01-24T00:00:00",
                    "2022-01-25T00:00:00",
                    "2022-01-26T00:00:00",
                    "2022-01-27T00:00:00",
                    "2022-01-28T00:00:00",
                    "2022-01-31T00:00:00",
                    "2022-02-01T00:00:00",
                    "2022-02-02T00:00:00",
                    "2022-02-03T00:00:00",
                    "2022-02-04T00:00:00",
                    "2022-02-07T00:00:00",
                    "2022-02-08T00:00:00",
                    "2022-02-09T00:00:00",
                    "2022-02-10T00:00:00",
                    "2022-02-11T00:00:00",
                    "2022-02-14T00:00:00",
                    "2022-02-15T00:00:00",
                    "2022-02-16T00:00:00",
                    "2022-02-17T00:00:00",
                    "2022-02-18T00:00:00",
                    "2022-02-21T00:00:00",
                    "2022-02-22T00:00:00",
                    "2022-02-23T00:00:00",
                    "2022-02-24T00:00:00",
                    "2022-02-25T00:00:00",
                    "2022-03-02T00:00:00",
                    "2022-03-03T00:00:00",
                    "2022-03-04T00:00:00",
                    "2022-03-07T00:00:00",
                    "2022-03-07T00:00:00",
                    "2022-03-07T00:00:00",
                    "2022-03-07T00:00:00",
                    "2022-03-08T00:00:00",
                    "2022-03-09T00:00:00",
                    "2022-03-10T00:00:00",
                    "2022-03-11T00:00:00",
                    "2022-03-14T00:00:00",
                    "2022-03-15T00:00:00",
                    "2022-03-16T00:00:00",
                    "2022-03-17T00:00:00",
                    "2022-03-18T00:00:00",
                    "2022-03-21T00:00:00",
                    "2022-03-22T00:00:00",
                    "2022-03-23T00:00:00",
                    "2022-03-25T00:00:00",
                    "2022-03-28T00:00:00",
                    "2022-03-29T00:00:00",
                    "2022-03-30T00:00:00",
                    "2022-03-31T00:00:00",
                    "2022-04-01T00:00:00",
                    "2022-04-04T00:00:00",
                    "2022-04-05T00:00:00",
                    "2022-04-06T00:00:00",
                    "2022-04-07T00:00:00",
                    "2022-04-08T00:00:00",
                    "2022-04-11T00:00:00",
                    "2022-04-12T00:00:00",
                    "2022-04-13T00:00:00",
                    "2022-04-18T00:00:00",
                    "2022-04-19T00:00:00",
                    "2022-04-20T00:00:00",
                    "2022-04-21T00:00:00",
                    "2022-04-22T00:00:00",
                    "2022-04-25T00:00:00",
                    "2022-04-26T00:00:00",
                    "2022-04-27T00:00:00",
                    "2022-04-28T00:00:00",
                    "2022-04-29T00:00:00",
                    "2022-05-02T00:00:00",
                    "2022-05-03T00:00:00",
                    "2022-05-04T00:00:00",
                    "2022-05-05T00:00:00",
                    "2022-05-06T00:00:00",
                    "2022-05-09T00:00:00",
                    "2022-05-10T00:00:00",
                    "2022-05-11T00:00:00",
                    "2022-05-12T00:00:00",
                    "2022-05-13T00:00:00",
                    "2022-05-16T00:00:00",
                    "2022-05-17T00:00:00",
                    "2022-05-19T00:00:00",
                    "2022-05-20T00:00:00",
                    "2022-05-23T00:00:00",
                    "2022-05-24T00:00:00",
                    "2022-05-26T00:00:00",
                    "2022-05-27T00:00:00",
                    "2022-05-30T00:00:00",
                    "2022-05-31T00:00:00",
                    "2022-06-01T00:00:00",
                    "2022-06-02T00:00:00",
                    "2022-06-03T00:00:00",
                    "2022-06-06T00:00:00",
                    "2022-06-07T00:00:00",
                    "2022-06-08T00:00:00",
                    "2022-06-09T00:00:00",
                    "2022-06-10T00:00:00",
                    "2022-06-13T00:00:00",
                    "2022-06-14T00:00:00",
                    "2022-06-15T00:00:00",
                    "2022-06-16T00:00:00",
                    "2022-06-21T00:00:00",
                    "2022-06-22T00:00:00",
                    "2022-06-23T00:00:00",
                    "2022-06-24T00:00:00",
                    "2022-06-27T00:00:00",
                    "2022-06-28T00:00:00",
                    "2022-06-29T00:00:00",
                    "2022-06-30T00:00:00",
                    "2022-07-01T00:00:00",
                    "2022-07-04T00:00:00",
                    "2022-07-05T00:00:00",
                    "2022-07-06T00:00:00",
                    "2022-07-07T00:00:00",
                    "2022-07-08T00:00:00",
                    "2022-07-11T00:00:00",
                    "2022-07-12T00:00:00",
                    "2022-07-13T00:00:00",
                    "2022-07-14T00:00:00",
                    "2022-07-15T00:00:00",
                    "2022-07-18T00:00:00",
                    "2022-07-19T00:00:00",
                    "2022-07-20T00:00:00",
                    "2022-07-21T00:00:00",
                    "2022-07-22T00:00:00",
                    "2022-07-25T00:00:00",
                    "2022-07-26T00:00:00",
                    "2022-07-27T00:00:00",
                    "2022-07-28T00:00:00",
                    "2022-07-29T00:00:00",
                    "2022-08-01T00:00:00",
                    "2022-08-02T00:00:00",
                    "2022-08-03T00:00:00",
                    "2022-08-04T00:00:00",
                    "2022-08-05T00:00:00",
                    "2022-08-08T00:00:00",
                    "2022-08-09T00:00:00",
                    "2022-08-10T00:00:00",
                    "2022-08-11T00:00:00",
                    "2022-08-12T00:00:00",
                    "2022-08-16T00:00:00",
                    "2022-08-17T00:00:00",
                    "2022-08-18T00:00:00",
                    "2022-08-19T00:00:00",
                    "2022-08-22T00:00:00",
                    "2022-08-23T00:00:00",
                    "2022-08-24T00:00:00",
                    "2022-08-25T00:00:00",
                    "2022-08-26T00:00:00",
                    "2022-08-29T00:00:00",
                    "2022-08-30T00:00:00",
                    "2022-08-31T00:00:00",
                    "2022-09-01T00:00:00",
                    "2022-09-02T00:00:00",
                    "2022-09-05T00:00:00",
                    "2022-09-06T00:00:00",
                    "2022-09-07T00:00:00",
                    "2022-09-08T00:00:00",
                    "2022-09-09T00:00:00",
                    "2022-09-12T00:00:00",
                    "2022-09-13T00:00:00",
                    "2022-09-14T00:00:00",
                    "2022-09-15T00:00:00",
                    "2022-09-16T00:00:00",
                    "2022-09-19T00:00:00",
                    "2022-09-20T00:00:00",
                    "2022-09-21T00:00:00",
                    "2022-09-22T00:00:00",
                    "2022-09-22T00:00:00",
                    "2022-09-23T00:00:00",
                    "2022-09-26T00:00:00",
                    "2022-09-27T00:00:00",
                    "2022-09-28T00:00:00",
                    "2022-09-29T00:00:00",
                    "2022-09-30T00:00:00",
                    "2022-10-03T00:00:00",
                    "2022-10-04T00:00:00",
                    "2022-10-05T00:00:00",
                    "2022-10-06T00:00:00",
                    "2022-10-11T00:00:00",
                    "2022-10-12T00:00:00",
                    "2022-10-13T00:00:00",
                    "2022-10-14T00:00:00",
                    "2022-10-17T00:00:00",
                    "2022-10-18T00:00:00",
                    "2022-10-19T00:00:00",
                    "2022-10-20T00:00:00",
                    "2022-10-21T00:00:00",
                    "2022-10-24T00:00:00",
                    "2022-10-25T00:00:00",
                    "2022-10-26T00:00:00",
                    "2022-10-27T00:00:00",
                    "2022-10-28T00:00:00",
                    "2022-10-31T00:00:00",
                    "2022-11-01T00:00:00",
                    "2022-11-02T00:00:00",
                    "2022-11-03T00:00:00",
                    "2022-11-04T00:00:00",
                    "2022-11-07T00:00:00",
                    "2022-11-08T00:00:00",
                    "2022-11-09T00:00:00",
                    "2022-11-10T00:00:00",
                    "2022-11-11T00:00:00",
                    "2022-11-14T00:00:00",
                    "2022-11-15T00:00:00",
                    "2022-11-16T00:00:00",
                    "2022-11-17T00:00:00",
                    "2022-11-18T00:00:00",
                    "2022-11-18T00:00:00",
                    "2022-11-18T00:00:00",
                    "2022-11-22T00:00:00",
                    "2022-11-23T00:00:00",
                    "2022-11-24T00:00:00",
                    "2022-11-25T00:00:00",
                    "2022-11-28T00:00:00",
                    "2022-11-29T00:00:00",
                    "2022-11-30T00:00:00",
                    "2022-12-01T00:00:00",
                    "2022-12-02T00:00:00",
                    "2022-12-05T00:00:00",
                    "2022-12-06T00:00:00",
                    "2022-12-07T00:00:00",
                    "2022-12-12T00:00:00",
                    "2022-12-13T00:00:00",
                    "2022-12-14T00:00:00",
                    "2022-12-15T00:00:00",
                    "2022-12-16T00:00:00",
                    "2022-12-19T00:00:00",
                    "2022-12-20T00:00:00",
                    "2022-12-21T00:00:00",
                    "2022-12-22T00:00:00",
                    "2022-12-23T00:00:00",
                    "2022-12-26T00:00:00",
                    "2022-12-27T00:00:00",
                    "2022-12-28T00:00:00",
                    "2022-12-29T00:00:00",
                    "2022-12-30T00:00:00"
                  ],
                  "xaxis": "x",
                  "y": [
                    97.58,
                    97.82,
                    97.89,
                    97.97,
                    98.05,
                    98.13,
                    98.36,
                    98.44,
                    98.52,
                    98.6,
                    98.68,
                    98.99,
                    99.11,
                    99.23,
                    99.35,
                    99.47,
                    99.83,
                    99.95,
                    100.07,
                    100.19,
                    100.31,
                    100.68,
                    100.8,
                    100.92,
                    101.04,
                    101.16,
                    101.53,
                    101.65,
                    101.77,
                    101.89,
                    102.02,
                    102.39,
                    102.51,
                    102.65,
                    102.79,
                    102.93,
                    103.35,
                    103.49,
                    103.64,
                    103.78,
                    103.92,
                    104.63,
                    104.77,
                    104.92,
                    104.92,
                    104.92,
                    104.92,
                    105.35,
                    105.49,
                    105.64,
                    105.78,
                    105.93,
                    106.36,
                    106.51,
                    106.66,
                    106.82,
                    106.98,
                    107.46,
                    107.62,
                    107.78,
                    108.1,
                    108.58,
                    108.74,
                    108.9,
                    109.06,
                    109.22,
                    109.71,
                    109.87,
                    110.04,
                    110.2,
                    110.36,
                    110.85,
                    111.02,
                    111.18,
                    112.24,
                    112.48,
                    112.72,
                    112.97,
                    113.21,
                    113.95,
                    114.2,
                    114.44,
                    114.69,
                    114.94,
                    115.69,
                    115.94,
                    116.19,
                    116.44,
                    116.69,
                    117.45,
                    117.7,
                    117.96,
                    118.21,
                    118.47,
                    119.21,
                    119.43,
                    119.88,
                    120.11,
                    120.79,
                    121.01,
                    121.47,
                    121.7,
                    122.39,
                    122.62,
                    122.85,
                    123.08,
                    123.31,
                    124.01,
                    124.24,
                    124.47,
                    124.71,
                    124.94,
                    125.65,
                    125.89,
                    126.12,
                    126.33,
                    127.38,
                    127.6,
                    127.81,
                    128.02,
                    128.66,
                    128.87,
                    129.08,
                    129.3,
                    129.51,
                    130.16,
                    130.38,
                    130.59,
                    130.81,
                    131.03,
                    131.68,
                    131.9,
                    132.12,
                    132.34,
                    132.56,
                    133.22,
                    133.44,
                    133.66,
                    133.89,
                    134.11,
                    134.78,
                    135.01,
                    135.23,
                    135.46,
                    135.68,
                    136.36,
                    136.59,
                    136.82,
                    137.05,
                    137.27,
                    137.96,
                    138.19,
                    138.42,
                    138.65,
                    138.88,
                    139.9,
                    140.23,
                    140.55,
                    140.87,
                    141.85,
                    142.18,
                    142.5,
                    142.83,
                    143.16,
                    144.15,
                    144.49,
                    144.82,
                    145.15,
                    145.49,
                    146.5,
                    146.83,
                    147.17,
                    147.51,
                    147.85,
                    148.88,
                    149.22,
                    149.56,
                    149.91,
                    150.25,
                    151.27,
                    151.61,
                    151.95,
                    151.95,
                    152.3,
                    152.64,
                    153.68,
                    154.02,
                    154.37,
                    154.72,
                    155.07,
                    156.12,
                    156.47,
                    156.83,
                    157.18,
                    158.96,
                    159.32,
                    159.68,
                    160.04,
                    161.03,
                    161.34,
                    161.65,
                    161.97,
                    162.28,
                    163.23,
                    163.55,
                    163.86,
                    164.18,
                    164.5,
                    165.46,
                    165.78,
                    166.1,
                    166.43,
                    166.75,
                    167.72,
                    168.05,
                    168.38,
                    168.7,
                    169.03,
                    170.02,
                    170.35,
                    170.7,
                    171.04,
                    171.04,
                    171.04,
                    171.39,
                    172.79,
                    173.15,
                    173.5,
                    173.85,
                    174.92,
                    175.28,
                    175.63,
                    175.99,
                    176.35,
                    177.43,
                    177.79,
                    178.15,
                    179.98,
                    180.34,
                    180.71,
                    181.08,
                    181.36,
                    182.2,
                    182.48,
                    182.76,
                    183.05,
                    183.33,
                    184.18,
                    184.46,
                    184.75,
                    185.03
                  ],
                  "yaxis": "y",
                  "type": "scatter"
                },
                {
                  "hovertemplate": "variable=venta<br>fecha=%{x}<br>value=%{y}<extra></extra>",
                  "legendgroup": "venta",
                  "line": {
                    "color": "#EF553B",
                    "dash": "solid"
                  },
                  "marker": {
                    "symbol": "circle"
                  },
                  "mode": "lines",
                  "name": "venta",
                  "orientation": "v",
                  "showlegend": true,
                  "x": [
                    "2022-01-03T00:00:00",
                    "2022-01-04T00:00:00",
                    "2022-01-05T00:00:00",
                    "2022-01-06T00:00:00",
                    "2022-01-07T00:00:00",
                    "2022-01-10T00:00:00",
                    "2022-01-11T00:00:00",
                    "2022-01-12T00:00:00",
                    "2022-01-13T00:00:00",
                    "2022-01-14T00:00:00",
                    "2022-01-17T00:00:00",
                    "2022-01-18T00:00:00",
                    "2022-01-19T00:00:00",
                    "2022-01-20T00:00:00",
                    "2022-01-21T00:00:00",
                    "2022-01-24T00:00:00",
                    "2022-01-25T00:00:00",
                    "2022-01-26T00:00:00",
                    "2022-01-27T00:00:00",
                    "2022-01-28T00:00:00",
                    "2022-01-31T00:00:00",
                    "2022-02-01T00:00:00",
                    "2022-02-02T00:00:00",
                    "2022-02-03T00:00:00",
                    "2022-02-04T00:00:00",
                    "2022-02-07T00:00:00",
                    "2022-02-08T00:00:00",
                    "2022-02-09T00:00:00",
                    "2022-02-10T00:00:00",
                    "2022-02-11T00:00:00",
                    "2022-02-14T00:00:00",
                    "2022-02-15T00:00:00",
                    "2022-02-16T00:00:00",
                    "2022-02-17T00:00:00",
                    "2022-02-18T00:00:00",
                    "2022-02-21T00:00:00",
                    "2022-02-22T00:00:00",
                    "2022-02-23T00:00:00",
                    "2022-02-24T00:00:00",
                    "2022-02-25T00:00:00",
                    "2022-03-02T00:00:00",
                    "2022-03-03T00:00:00",
                    "2022-03-04T00:00:00",
                    "2022-03-07T00:00:00",
                    "2022-03-07T00:00:00",
                    "2022-03-07T00:00:00",
                    "2022-03-07T00:00:00",
                    "2022-03-08T00:00:00",
                    "2022-03-09T00:00:00",
                    "2022-03-10T00:00:00",
                    "2022-03-11T00:00:00",
                    "2022-03-14T00:00:00",
                    "2022-03-15T00:00:00",
                    "2022-03-16T00:00:00",
                    "2022-03-17T00:00:00",
                    "2022-03-18T00:00:00",
                    "2022-03-21T00:00:00",
                    "2022-03-22T00:00:00",
                    "2022-03-23T00:00:00",
                    "2022-03-25T00:00:00",
                    "2022-03-28T00:00:00",
                    "2022-03-29T00:00:00",
                    "2022-03-30T00:00:00",
                    "2022-03-31T00:00:00",
                    "2022-04-01T00:00:00",
                    "2022-04-04T00:00:00",
                    "2022-04-05T00:00:00",
                    "2022-04-06T00:00:00",
                    "2022-04-07T00:00:00",
                    "2022-04-08T00:00:00",
                    "2022-04-11T00:00:00",
                    "2022-04-12T00:00:00",
                    "2022-04-13T00:00:00",
                    "2022-04-18T00:00:00",
                    "2022-04-19T00:00:00",
                    "2022-04-20T00:00:00",
                    "2022-04-21T00:00:00",
                    "2022-04-22T00:00:00",
                    "2022-04-25T00:00:00",
                    "2022-04-26T00:00:00",
                    "2022-04-27T00:00:00",
                    "2022-04-28T00:00:00",
                    "2022-04-29T00:00:00",
                    "2022-05-02T00:00:00",
                    "2022-05-03T00:00:00",
                    "2022-05-04T00:00:00",
                    "2022-05-05T00:00:00",
                    "2022-05-06T00:00:00",
                    "2022-05-09T00:00:00",
                    "2022-05-10T00:00:00",
                    "2022-05-11T00:00:00",
                    "2022-05-12T00:00:00",
                    "2022-05-13T00:00:00",
                    "2022-05-16T00:00:00",
                    "2022-05-17T00:00:00",
                    "2022-05-19T00:00:00",
                    "2022-05-20T00:00:00",
                    "2022-05-23T00:00:00",
                    "2022-05-24T00:00:00",
                    "2022-05-26T00:00:00",
                    "2022-05-27T00:00:00",
                    "2022-05-30T00:00:00",
                    "2022-05-31T00:00:00",
                    "2022-06-01T00:00:00",
                    "2022-06-02T00:00:00",
                    "2022-06-03T00:00:00",
                    "2022-06-06T00:00:00",
                    "2022-06-07T00:00:00",
                    "2022-06-08T00:00:00",
                    "2022-06-09T00:00:00",
                    "2022-06-10T00:00:00",
                    "2022-06-13T00:00:00",
                    "2022-06-14T00:00:00",
                    "2022-06-15T00:00:00",
                    "2022-06-16T00:00:00",
                    "2022-06-21T00:00:00",
                    "2022-06-22T00:00:00",
                    "2022-06-23T00:00:00",
                    "2022-06-24T00:00:00",
                    "2022-06-27T00:00:00",
                    "2022-06-28T00:00:00",
                    "2022-06-29T00:00:00",
                    "2022-06-30T00:00:00",
                    "2022-07-01T00:00:00",
                    "2022-07-04T00:00:00",
                    "2022-07-05T00:00:00",
                    "2022-07-06T00:00:00",
                    "2022-07-07T00:00:00",
                    "2022-07-08T00:00:00",
                    "2022-07-11T00:00:00",
                    "2022-07-12T00:00:00",
                    "2022-07-13T00:00:00",
                    "2022-07-14T00:00:00",
                    "2022-07-15T00:00:00",
                    "2022-07-18T00:00:00",
                    "2022-07-19T00:00:00",
                    "2022-07-20T00:00:00",
                    "2022-07-21T00:00:00",
                    "2022-07-22T00:00:00",
                    "2022-07-25T00:00:00",
                    "2022-07-26T00:00:00",
                    "2022-07-27T00:00:00",
                    "2022-07-28T00:00:00",
                    "2022-07-29T00:00:00",
                    "2022-08-01T00:00:00",
                    "2022-08-02T00:00:00",
                    "2022-08-03T00:00:00",
                    "2022-08-04T00:00:00",
                    "2022-08-05T00:00:00",
                    "2022-08-08T00:00:00",
                    "2022-08-09T00:00:00",
                    "2022-08-10T00:00:00",
                    "2022-08-11T00:00:00",
                    "2022-08-12T00:00:00",
                    "2022-08-16T00:00:00",
                    "2022-08-17T00:00:00",
                    "2022-08-18T00:00:00",
                    "2022-08-19T00:00:00",
                    "2022-08-22T00:00:00",
                    "2022-08-23T00:00:00",
                    "2022-08-24T00:00:00",
                    "2022-08-25T00:00:00",
                    "2022-08-26T00:00:00",
                    "2022-08-29T00:00:00",
                    "2022-08-30T00:00:00",
                    "2022-08-31T00:00:00",
                    "2022-09-01T00:00:00",
                    "2022-09-02T00:00:00",
                    "2022-09-05T00:00:00",
                    "2022-09-06T00:00:00",
                    "2022-09-07T00:00:00",
                    "2022-09-08T00:00:00",
                    "2022-09-09T00:00:00",
                    "2022-09-12T00:00:00",
                    "2022-09-13T00:00:00",
                    "2022-09-14T00:00:00",
                    "2022-09-15T00:00:00",
                    "2022-09-16T00:00:00",
                    "2022-09-19T00:00:00",
                    "2022-09-20T00:00:00",
                    "2022-09-21T00:00:00",
                    "2022-09-22T00:00:00",
                    "2022-09-22T00:00:00",
                    "2022-09-23T00:00:00",
                    "2022-09-26T00:00:00",
                    "2022-09-27T00:00:00",
                    "2022-09-28T00:00:00",
                    "2022-09-29T00:00:00",
                    "2022-09-30T00:00:00",
                    "2022-10-03T00:00:00",
                    "2022-10-04T00:00:00",
                    "2022-10-05T00:00:00",
                    "2022-10-06T00:00:00",
                    "2022-10-11T00:00:00",
                    "2022-10-12T00:00:00",
                    "2022-10-13T00:00:00",
                    "2022-10-14T00:00:00",
                    "2022-10-17T00:00:00",
                    "2022-10-18T00:00:00",
                    "2022-10-19T00:00:00",
                    "2022-10-20T00:00:00",
                    "2022-10-21T00:00:00",
                    "2022-10-24T00:00:00",
                    "2022-10-25T00:00:00",
                    "2022-10-26T00:00:00",
                    "2022-10-27T00:00:00",
                    "2022-10-28T00:00:00",
                    "2022-10-31T00:00:00",
                    "2022-11-01T00:00:00",
                    "2022-11-02T00:00:00",
                    "2022-11-03T00:00:00",
                    "2022-11-04T00:00:00",
                    "2022-11-07T00:00:00",
                    "2022-11-08T00:00:00",
                    "2022-11-09T00:00:00",
                    "2022-11-10T00:00:00",
                    "2022-11-11T00:00:00",
                    "2022-11-14T00:00:00",
                    "2022-11-15T00:00:00",
                    "2022-11-16T00:00:00",
                    "2022-11-17T00:00:00",
                    "2022-11-18T00:00:00",
                    "2022-11-18T00:00:00",
                    "2022-11-18T00:00:00",
                    "2022-11-22T00:00:00",
                    "2022-11-23T00:00:00",
                    "2022-11-24T00:00:00",
                    "2022-11-25T00:00:00",
                    "2022-11-28T00:00:00",
                    "2022-11-29T00:00:00",
                    "2022-11-30T00:00:00",
                    "2022-12-01T00:00:00",
                    "2022-12-02T00:00:00",
                    "2022-12-05T00:00:00",
                    "2022-12-06T00:00:00",
                    "2022-12-07T00:00:00",
                    "2022-12-12T00:00:00",
                    "2022-12-13T00:00:00",
                    "2022-12-14T00:00:00",
                    "2022-12-15T00:00:00",
                    "2022-12-16T00:00:00",
                    "2022-12-19T00:00:00",
                    "2022-12-20T00:00:00",
                    "2022-12-21T00:00:00",
                    "2022-12-22T00:00:00",
                    "2022-12-23T00:00:00",
                    "2022-12-26T00:00:00",
                    "2022-12-27T00:00:00",
                    "2022-12-28T00:00:00",
                    "2022-12-29T00:00:00",
                    "2022-12-30T00:00:00"
                  ],
                  "xaxis": "x",
                  "y": [
                    202,
                    202.5,
                    203.5,
                    204.5,
                    204,
                    202,
                    205,
                    204.5,
                    205.5,
                    205.5,
                    205,
                    207,
                    209,
                    210,
                    215,
                    215,
                    215.5,
                    217,
                    218.5,
                    208.5,
                    209,
                    210,
                    212.5,
                    212,
                    210,
                    210,
                    211,
                    213,
                    211.5,
                    210.5,
                    211,
                    211,
                    211,
                    210,
                    207,
                    207.5,
                    206,
                    206,
                    206.5,
                    207,
                    202,
                    200,
                    197,
                    197,
                    197,
                    197,
                    197,
                    198,
                    200.5,
                    199,
                    198,
                    196,
                    196,
                    198,
                    198,
                    198.5,
                    198,
                    197,
                    197,
                    198,
                    196,
                    196,
                    197,
                    196,
                    196,
                    195,
                    192,
                    192,
                    192,
                    192.5,
                    191,
                    191,
                    191,
                    191,
                    194,
                    195.5,
                    198,
                    199,
                    201.5,
                    208.5,
                    202.5,
                    200,
                    196.5,
                    197,
                    199.5,
                    197,
                    197.5,
                    197,
                    197.5,
                    198,
                    201,
                    199.5,
                    199.5,
                    201,
                    204,
                    202,
                    201,
                    202.5,
                    204,
                    203,
                    202.5,
                    202.5,
                    201,
                    202,
                    202,
                    201,
                    201,
                    202,
                    204,
                    204,
                    206,
                    212,
                    220,
                    213,
                    212,
                    216,
                    220,
                    220,
                    222,
                    228,
                    235,
                    235,
                    234,
                    235,
                    250,
                    242,
                    245,
                    247,
                    263,
                    258,
                    262,
                    273,
                    279,
                    283,
                    281,
                    291,
                    307,
                    327,
                    328,
                    312,
                    313,
                    316,
                    304,
                    286,
                    272,
                    281,
                    288,
                    281,
                    283,
                    282,
                    283,
                    285,
                    287,
                    285,
                    286,
                    287,
                    288,
                    290,
                    287,
                    292,
                    290,
                    288,
                    288,
                    287,
                    286,
                    285,
                    280,
                    280,
                    266,
                    272,
                    280,
                    276,
                    270,
                    268,
                    269,
                    273,
                    272,
                    273,
                    273,
                    283,
                    283,
                    283,
                    281,
                    283,
                    282,
                    286,
                    286,
                    284,
                    284,
                    280,
                    278,
                    278,
                    273,
                    276,
                    285,
                    287,
                    286,
                    283,
                    286,
                    288,
                    287,
                    287,
                    287,
                    289,
                    288,
                    287,
                    288,
                    286,
                    286,
                    287,
                    283,
                    285,
                    286,
                    287,
                    288,
                    288,
                    289,
                    290,
                    298,
                    304,
                    303,
                    303,
                    303,
                    302,
                    304,
                    308,
                    315,
                    316,
                    314,
                    311,
                    310,
                    309,
                    308,
                    308,
                    311,
                    312,
                    308,
                    311,
                    316,
                    316,
                    317,
                    321,
                    322,
                    321,
                    326,
                    336,
                    342,
                    352,
                    353,
                    346,
                    342
                  ],
                  "yaxis": "y",
                  "type": "scatter"
                }
              ],
              "layout": {
                "template": {
                  "data": {
                    "histogram2dcontour": [
                      {
                        "type": "histogram2dcontour",
                        "colorbar": {
                          "outlinewidth": 0,
                          "ticks": ""
                        },
                        "colorscale": [
                          [
                            0,
                            "#0d0887"
                          ],
                          [
                            0.1111111111111111,
                            "#46039f"
                          ],
                          [
                            0.2222222222222222,
                            "#7201a8"
                          ],
                          [
                            0.3333333333333333,
                            "#9c179e"
                          ],
                          [
                            0.4444444444444444,
                            "#bd3786"
                          ],
                          [
                            0.5555555555555556,
                            "#d8576b"
                          ],
                          [
                            0.6666666666666666,
                            "#ed7953"
                          ],
                          [
                            0.7777777777777778,
                            "#fb9f3a"
                          ],
                          [
                            0.8888888888888888,
                            "#fdca26"
                          ],
                          [
                            1,
                            "#f0f921"
                          ]
                        ]
                      }
                    ],
                    "choropleth": [
                      {
                        "type": "choropleth",
                        "colorbar": {
                          "outlinewidth": 0,
                          "ticks": ""
                        }
                      }
                    ],
                    "histogram2d": [
                      {
                        "type": "histogram2d",
                        "colorbar": {
                          "outlinewidth": 0,
                          "ticks": ""
                        },
                        "colorscale": [
                          [
                            0,
                            "#0d0887"
                          ],
                          [
                            0.1111111111111111,
                            "#46039f"
                          ],
                          [
                            0.2222222222222222,
                            "#7201a8"
                          ],
                          [
                            0.3333333333333333,
                            "#9c179e"
                          ],
                          [
                            0.4444444444444444,
                            "#bd3786"
                          ],
                          [
                            0.5555555555555556,
                            "#d8576b"
                          ],
                          [
                            0.6666666666666666,
                            "#ed7953"
                          ],
                          [
                            0.7777777777777778,
                            "#fb9f3a"
                          ],
                          [
                            0.8888888888888888,
                            "#fdca26"
                          ],
                          [
                            1,
                            "#f0f921"
                          ]
                        ]
                      }
                    ],
                    "heatmap": [
                      {
                        "type": "heatmap",
                        "colorbar": {
                          "outlinewidth": 0,
                          "ticks": ""
                        },
                        "colorscale": [
                          [
                            0,
                            "#0d0887"
                          ],
                          [
                            0.1111111111111111,
                            "#46039f"
                          ],
                          [
                            0.2222222222222222,
                            "#7201a8"
                          ],
                          [
                            0.3333333333333333,
                            "#9c179e"
                          ],
                          [
                            0.4444444444444444,
                            "#bd3786"
                          ],
                          [
                            0.5555555555555556,
                            "#d8576b"
                          ],
                          [
                            0.6666666666666666,
                            "#ed7953"
                          ],
                          [
                            0.7777777777777778,
                            "#fb9f3a"
                          ],
                          [
                            0.8888888888888888,
                            "#fdca26"
                          ],
                          [
                            1,
                            "#f0f921"
                          ]
                        ]
                      }
                    ],
                    "heatmapgl": [
                      {
                        "type": "heatmapgl",
                        "colorbar": {
                          "outlinewidth": 0,
                          "ticks": ""
                        },
                        "colorscale": [
                          [
                            0,
                            "#0d0887"
                          ],
                          [
                            0.1111111111111111,
                            "#46039f"
                          ],
                          [
                            0.2222222222222222,
                            "#7201a8"
                          ],
                          [
                            0.3333333333333333,
                            "#9c179e"
                          ],
                          [
                            0.4444444444444444,
                            "#bd3786"
                          ],
                          [
                            0.5555555555555556,
                            "#d8576b"
                          ],
                          [
                            0.6666666666666666,
                            "#ed7953"
                          ],
                          [
                            0.7777777777777778,
                            "#fb9f3a"
                          ],
                          [
                            0.8888888888888888,
                            "#fdca26"
                          ],
                          [
                            1,
                            "#f0f921"
                          ]
                        ]
                      }
                    ],
                    "contourcarpet": [
                      {
                        "type": "contourcarpet",
                        "colorbar": {
                          "outlinewidth": 0,
                          "ticks": ""
                        }
                      }
                    ],
                    "contour": [
                      {
                        "type": "contour",
                        "colorbar": {
                          "outlinewidth": 0,
                          "ticks": ""
                        },
                        "colorscale": [
                          [
                            0,
                            "#0d0887"
                          ],
                          [
                            0.1111111111111111,
                            "#46039f"
                          ],
                          [
                            0.2222222222222222,
                            "#7201a8"
                          ],
                          [
                            0.3333333333333333,
                            "#9c179e"
                          ],
                          [
                            0.4444444444444444,
                            "#bd3786"
                          ],
                          [
                            0.5555555555555556,
                            "#d8576b"
                          ],
                          [
                            0.6666666666666666,
                            "#ed7953"
                          ],
                          [
                            0.7777777777777778,
                            "#fb9f3a"
                          ],
                          [
                            0.8888888888888888,
                            "#fdca26"
                          ],
                          [
                            1,
                            "#f0f921"
                          ]
                        ]
                      }
                    ],
                    "surface": [
                      {
                        "type": "surface",
                        "colorbar": {
                          "outlinewidth": 0,
                          "ticks": ""
                        },
                        "colorscale": [
                          [
                            0,
                            "#0d0887"
                          ],
                          [
                            0.1111111111111111,
                            "#46039f"
                          ],
                          [
                            0.2222222222222222,
                            "#7201a8"
                          ],
                          [
                            0.3333333333333333,
                            "#9c179e"
                          ],
                          [
                            0.4444444444444444,
                            "#bd3786"
                          ],
                          [
                            0.5555555555555556,
                            "#d8576b"
                          ],
                          [
                            0.6666666666666666,
                            "#ed7953"
                          ],
                          [
                            0.7777777777777778,
                            "#fb9f3a"
                          ],
                          [
                            0.8888888888888888,
                            "#fdca26"
                          ],
                          [
                            1,
                            "#f0f921"
                          ]
                        ]
                      }
                    ],
                    "mesh3d": [
                      {
                        "type": "mesh3d",
                        "colorbar": {
                          "outlinewidth": 0,
                          "ticks": ""
                        }
                      }
                    ],
                    "scatter": [
                      {
                        "fillpattern": {
                          "fillmode": "overlay",
                          "size": 10,
                          "solidity": 0.2
                        },
                        "type": "scatter"
                      }
                    ],
                    "parcoords": [
                      {
                        "type": "parcoords",
                        "line": {
                          "colorbar": {
                            "outlinewidth": 0,
                            "ticks": ""
                          }
                        }
                      }
                    ],
                    "scatterpolargl": [
                      {
                        "type": "scatterpolargl",
                        "marker": {
                          "colorbar": {
                            "outlinewidth": 0,
                            "ticks": ""
                          }
                        }
                      }
                    ],
                    "bar": [
                      {
                        "error_x": {
                          "color": "#2a3f5f"
                        },
                        "error_y": {
                          "color": "#2a3f5f"
                        },
                        "marker": {
                          "line": {
                            "color": "#E5ECF6",
                            "width": 0.5
                          },
                          "pattern": {
                            "fillmode": "overlay",
                            "size": 10,
                            "solidity": 0.2
                          }
                        },
                        "type": "bar"
                      }
                    ],
                    "scattergeo": [
                      {
                        "type": "scattergeo",
                        "marker": {
                          "colorbar": {
                            "outlinewidth": 0,
                            "ticks": ""
                          }
                        }
                      }
                    ],
                    "scatterpolar": [
                      {
                        "type": "scatterpolar",
                        "marker": {
                          "colorbar": {
                            "outlinewidth": 0,
                            "ticks": ""
                          }
                        }
                      }
                    ],
                    "histogram": [
                      {
                        "marker": {
                          "pattern": {
                            "fillmode": "overlay",
                            "size": 10,
                            "solidity": 0.2
                          }
                        },
                        "type": "histogram"
                      }
                    ],
                    "scattergl": [
                      {
                        "type": "scattergl",
                        "marker": {
                          "colorbar": {
                            "outlinewidth": 0,
                            "ticks": ""
                          }
                        }
                      }
                    ],
                    "scatter3d": [
                      {
                        "type": "scatter3d",
                        "line": {
                          "colorbar": {
                            "outlinewidth": 0,
                            "ticks": ""
                          }
                        },
                        "marker": {
                          "colorbar": {
                            "outlinewidth": 0,
                            "ticks": ""
                          }
                        }
                      }
                    ],
                    "scattermapbox": [
                      {
                        "type": "scattermapbox",
                        "marker": {
                          "colorbar": {
                            "outlinewidth": 0,
                            "ticks": ""
                          }
                        }
                      }
                    ],
                    "scatterternary": [
                      {
                        "type": "scatterternary",
                        "marker": {
                          "colorbar": {
                            "outlinewidth": 0,
                            "ticks": ""
                          }
                        }
                      }
                    ],
                    "scattercarpet": [
                      {
                        "type": "scattercarpet",
                        "marker": {
                          "colorbar": {
                            "outlinewidth": 0,
                            "ticks": ""
                          }
                        }
                      }
                    ],
                    "carpet": [
                      {
                        "aaxis": {
                          "endlinecolor": "#2a3f5f",
                          "gridcolor": "white",
                          "linecolor": "white",
                          "minorgridcolor": "white",
                          "startlinecolor": "#2a3f5f"
                        },
                        "baxis": {
                          "endlinecolor": "#2a3f5f",
                          "gridcolor": "white",
                          "linecolor": "white",
                          "minorgridcolor": "white",
                          "startlinecolor": "#2a3f5f"
                        },
                        "type": "carpet"
                      }
                    ],
                    "table": [
                      {
                        "cells": {
                          "fill": {
                            "color": "#EBF0F8"
                          },
                          "line": {
                            "color": "white"
                          }
                        },
                        "header": {
                          "fill": {
                            "color": "#C8D4E3"
                          },
                          "line": {
                            "color": "white"
                          }
                        },
                        "type": "table"
                      }
                    ],
                    "barpolar": [
                      {
                        "marker": {
                          "line": {
                            "color": "#E5ECF6",
                            "width": 0.5
                          },
                          "pattern": {
                            "fillmode": "overlay",
                            "size": 10,
                            "solidity": 0.2
                          }
                        },
                        "type": "barpolar"
                      }
                    ],
                    "pie": [
                      {
                        "automargin": true,
                        "type": "pie"
                      }
                    ]
                  },
                  "layout": {
                    "autotypenumbers": "strict",
                    "colorway": [
                      "#636efa",
                      "#EF553B",
                      "#00cc96",
                      "#ab63fa",
                      "#FFA15A",
                      "#19d3f3",
                      "#FF6692",
                      "#B6E880",
                      "#FF97FF",
                      "#FECB52"
                    ],
                    "font": {
                      "color": "#2a3f5f"
                    },
                    "hovermode": "closest",
                    "hoverlabel": {
                      "align": "left"
                    },
                    "paper_bgcolor": "white",
                    "plot_bgcolor": "#E5ECF6",
                    "polar": {
                      "bgcolor": "#E5ECF6",
                      "angularaxis": {
                        "gridcolor": "white",
                        "linecolor": "white",
                        "ticks": ""
                      },
                      "radialaxis": {
                        "gridcolor": "white",
                        "linecolor": "white",
                        "ticks": ""
                      }
                    },
                    "ternary": {
                      "bgcolor": "#E5ECF6",
                      "aaxis": {
                        "gridcolor": "white",
                        "linecolor": "white",
                        "ticks": ""
                      },
                      "baxis": {
                        "gridcolor": "white",
                        "linecolor": "white",
                        "ticks": ""
                      },
                      "caxis": {
                        "gridcolor": "white",
                        "linecolor": "white",
                        "ticks": ""
                      }
                    },
                    "coloraxis": {
                      "colorbar": {
                        "outlinewidth": 0,
                        "ticks": ""
                      }
                    },
                    "colorscale": {
                      "sequential": [
                        [
                          0,
                          "#0d0887"
                        ],
                        [
                          0.1111111111111111,
                          "#46039f"
                        ],
                        [
                          0.2222222222222222,
                          "#7201a8"
                        ],
                        [
                          0.3333333333333333,
                          "#9c179e"
                        ],
                        [
                          0.4444444444444444,
                          "#bd3786"
                        ],
                        [
                          0.5555555555555556,
                          "#d8576b"
                        ],
                        [
                          0.6666666666666666,
                          "#ed7953"
                        ],
                        [
                          0.7777777777777778,
                          "#fb9f3a"
                        ],
                        [
                          0.8888888888888888,
                          "#fdca26"
                        ],
                        [
                          1,
                          "#f0f921"
                        ]
                      ],
                      "sequentialminus": [
                        [
                          0,
                          "#0d0887"
                        ],
                        [
                          0.1111111111111111,
                          "#46039f"
                        ],
                        [
                          0.2222222222222222,
                          "#7201a8"
                        ],
                        [
                          0.3333333333333333,
                          "#9c179e"
                        ],
                        [
                          0.4444444444444444,
                          "#bd3786"
                        ],
                        [
                          0.5555555555555556,
                          "#d8576b"
                        ],
                        [
                          0.6666666666666666,
                          "#ed7953"
                        ],
                        [
                          0.7777777777777778,
                          "#fb9f3a"
                        ],
                        [
                          0.8888888888888888,
                          "#fdca26"
                        ],
                        [
                          1,
                          "#f0f921"
                        ]
                      ],
                      "diverging": [
                        [
                          0,
                          "#8e0152"
                        ],
                        [
                          0.1,
                          "#c51b7d"
                        ],
                        [
                          0.2,
                          "#de77ae"
                        ],
                        [
                          0.3,
                          "#f1b6da"
                        ],
                        [
                          0.4,
                          "#fde0ef"
                        ],
                        [
                          0.5,
                          "#f7f7f7"
                        ],
                        [
                          0.6,
                          "#e6f5d0"
                        ],
                        [
                          0.7,
                          "#b8e186"
                        ],
                        [
                          0.8,
                          "#7fbc41"
                        ],
                        [
                          0.9,
                          "#4d9221"
                        ],
                        [
                          1,
                          "#276419"
                        ]
                      ]
                    },
                    "xaxis": {
                      "gridcolor": "white",
                      "linecolor": "white",
                      "ticks": "",
                      "title": {
                        "standoff": 15
                      },
                      "zerolinecolor": "white",
                      "automargin": true,
                      "zerolinewidth": 2
                    },
                    "yaxis": {
                      "gridcolor": "white",
                      "linecolor": "white",
                      "ticks": "",
                      "title": {
                        "standoff": 15
                      },
                      "zerolinecolor": "white",
                      "automargin": true,
                      "zerolinewidth": 2
                    },
                    "scene": {
                      "xaxis": {
                        "backgroundcolor": "#E5ECF6",
                        "gridcolor": "white",
                        "linecolor": "white",
                        "showbackground": true,
                        "ticks": "",
                        "zerolinecolor": "white",
                        "gridwidth": 2
                      },
                      "yaxis": {
                        "backgroundcolor": "#E5ECF6",
                        "gridcolor": "white",
                        "linecolor": "white",
                        "showbackground": true,
                        "ticks": "",
                        "zerolinecolor": "white",
                        "gridwidth": 2
                      },
                      "zaxis": {
                        "backgroundcolor": "#E5ECF6",
                        "gridcolor": "white",
                        "linecolor": "white",
                        "showbackground": true,
                        "ticks": "",
                        "zerolinecolor": "white",
                        "gridwidth": 2
                      }
                    },
                    "shapedefaults": {
                      "line": {
                        "color": "#2a3f5f"
                      }
                    },
                    "annotationdefaults": {
                      "arrowcolor": "#2a3f5f",
                      "arrowhead": 0,
                      "arrowwidth": 1
                    },
                    "geo": {
                      "bgcolor": "white",
                      "landcolor": "#E5ECF6",
                      "subunitcolor": "white",
                      "showland": true,
                      "showlakes": true,
                      "lakecolor": "white"
                    },
                    "title": {
                      "x": 0.05
                    },
                    "mapbox": {
                      "style": "light"
                    }
                  }
                },
                "xaxis": {
                  "anchor": "y",
                  "domain": [
                    0,
                    1
                  ],
                  "title": {
                    "text": "fecha"
                  }
                },
                "yaxis": {
                  "anchor": "x",
                  "domain": [
                    0,
                    1
                  ],
                  "title": {
                    "text": "value"
                  }
                },
                "legend": {
                  "title": {
                    "text": "variable"
                  },
                  "tracegroupgap": 0
                },
                "title": {
                  "text": "Dólar vs Inflación"
                }
              },
              "config": {
                "plotlyServerURL": "https://plot.ly"
              }
            },
            "text/html": [
              "<div>                            <div id=\"bf930462-3bd3-459f-b366-8ca474f0ae23\" class=\"plotly-graph-div\" style=\"height:525px; width:100%;\"></div>            <script type=\"text/javascript\">                require([\"plotly\"], function(Plotly) {                    window.PLOTLYENV=window.PLOTLYENV || {};                                    if (document.getElementById(\"bf930462-3bd3-459f-b366-8ca474f0ae23\")) {                    Plotly.newPlot(                        \"bf930462-3bd3-459f-b366-8ca474f0ae23\",                        [{\"hovertemplate\":\"variable=UVA\\u003cbr\\u003efecha=%{x}\\u003cbr\\u003evalue=%{y}\\u003cextra\\u003e\\u003c\\u002fextra\\u003e\",\"legendgroup\":\"UVA\",\"line\":{\"color\":\"#636efa\",\"dash\":\"solid\"},\"marker\":{\"symbol\":\"circle\"},\"mode\":\"lines\",\"name\":\"UVA\",\"orientation\":\"v\",\"showlegend\":true,\"x\":[\"2022-01-03T00:00:00\",\"2022-01-04T00:00:00\",\"2022-01-05T00:00:00\",\"2022-01-06T00:00:00\",\"2022-01-07T00:00:00\",\"2022-01-10T00:00:00\",\"2022-01-11T00:00:00\",\"2022-01-12T00:00:00\",\"2022-01-13T00:00:00\",\"2022-01-14T00:00:00\",\"2022-01-17T00:00:00\",\"2022-01-18T00:00:00\",\"2022-01-19T00:00:00\",\"2022-01-20T00:00:00\",\"2022-01-21T00:00:00\",\"2022-01-24T00:00:00\",\"2022-01-25T00:00:00\",\"2022-01-26T00:00:00\",\"2022-01-27T00:00:00\",\"2022-01-28T00:00:00\",\"2022-01-31T00:00:00\",\"2022-02-01T00:00:00\",\"2022-02-02T00:00:00\",\"2022-02-03T00:00:00\",\"2022-02-04T00:00:00\",\"2022-02-07T00:00:00\",\"2022-02-08T00:00:00\",\"2022-02-09T00:00:00\",\"2022-02-10T00:00:00\",\"2022-02-11T00:00:00\",\"2022-02-14T00:00:00\",\"2022-02-15T00:00:00\",\"2022-02-16T00:00:00\",\"2022-02-17T00:00:00\",\"2022-02-18T00:00:00\",\"2022-02-21T00:00:00\",\"2022-02-22T00:00:00\",\"2022-02-23T00:00:00\",\"2022-02-24T00:00:00\",\"2022-02-25T00:00:00\",\"2022-03-02T00:00:00\",\"2022-03-03T00:00:00\",\"2022-03-04T00:00:00\",\"2022-03-07T00:00:00\",\"2022-03-07T00:00:00\",\"2022-03-07T00:00:00\",\"2022-03-07T00:00:00\",\"2022-03-08T00:00:00\",\"2022-03-09T00:00:00\",\"2022-03-10T00:00:00\",\"2022-03-11T00:00:00\",\"2022-03-14T00:00:00\",\"2022-03-15T00:00:00\",\"2022-03-16T00:00:00\",\"2022-03-17T00:00:00\",\"2022-03-18T00:00:00\",\"2022-03-21T00:00:00\",\"2022-03-22T00:00:00\",\"2022-03-23T00:00:00\",\"2022-03-25T00:00:00\",\"2022-03-28T00:00:00\",\"2022-03-29T00:00:00\",\"2022-03-30T00:00:00\",\"2022-03-31T00:00:00\",\"2022-04-01T00:00:00\",\"2022-04-04T00:00:00\",\"2022-04-05T00:00:00\",\"2022-04-06T00:00:00\",\"2022-04-07T00:00:00\",\"2022-04-08T00:00:00\",\"2022-04-11T00:00:00\",\"2022-04-12T00:00:00\",\"2022-04-13T00:00:00\",\"2022-04-18T00:00:00\",\"2022-04-19T00:00:00\",\"2022-04-20T00:00:00\",\"2022-04-21T00:00:00\",\"2022-04-22T00:00:00\",\"2022-04-25T00:00:00\",\"2022-04-26T00:00:00\",\"2022-04-27T00:00:00\",\"2022-04-28T00:00:00\",\"2022-04-29T00:00:00\",\"2022-05-02T00:00:00\",\"2022-05-03T00:00:00\",\"2022-05-04T00:00:00\",\"2022-05-05T00:00:00\",\"2022-05-06T00:00:00\",\"2022-05-09T00:00:00\",\"2022-05-10T00:00:00\",\"2022-05-11T00:00:00\",\"2022-05-12T00:00:00\",\"2022-05-13T00:00:00\",\"2022-05-16T00:00:00\",\"2022-05-17T00:00:00\",\"2022-05-19T00:00:00\",\"2022-05-20T00:00:00\",\"2022-05-23T00:00:00\",\"2022-05-24T00:00:00\",\"2022-05-26T00:00:00\",\"2022-05-27T00:00:00\",\"2022-05-30T00:00:00\",\"2022-05-31T00:00:00\",\"2022-06-01T00:00:00\",\"2022-06-02T00:00:00\",\"2022-06-03T00:00:00\",\"2022-06-06T00:00:00\",\"2022-06-07T00:00:00\",\"2022-06-08T00:00:00\",\"2022-06-09T00:00:00\",\"2022-06-10T00:00:00\",\"2022-06-13T00:00:00\",\"2022-06-14T00:00:00\",\"2022-06-15T00:00:00\",\"2022-06-16T00:00:00\",\"2022-06-21T00:00:00\",\"2022-06-22T00:00:00\",\"2022-06-23T00:00:00\",\"2022-06-24T00:00:00\",\"2022-06-27T00:00:00\",\"2022-06-28T00:00:00\",\"2022-06-29T00:00:00\",\"2022-06-30T00:00:00\",\"2022-07-01T00:00:00\",\"2022-07-04T00:00:00\",\"2022-07-05T00:00:00\",\"2022-07-06T00:00:00\",\"2022-07-07T00:00:00\",\"2022-07-08T00:00:00\",\"2022-07-11T00:00:00\",\"2022-07-12T00:00:00\",\"2022-07-13T00:00:00\",\"2022-07-14T00:00:00\",\"2022-07-15T00:00:00\",\"2022-07-18T00:00:00\",\"2022-07-19T00:00:00\",\"2022-07-20T00:00:00\",\"2022-07-21T00:00:00\",\"2022-07-22T00:00:00\",\"2022-07-25T00:00:00\",\"2022-07-26T00:00:00\",\"2022-07-27T00:00:00\",\"2022-07-28T00:00:00\",\"2022-07-29T00:00:00\",\"2022-08-01T00:00:00\",\"2022-08-02T00:00:00\",\"2022-08-03T00:00:00\",\"2022-08-04T00:00:00\",\"2022-08-05T00:00:00\",\"2022-08-08T00:00:00\",\"2022-08-09T00:00:00\",\"2022-08-10T00:00:00\",\"2022-08-11T00:00:00\",\"2022-08-12T00:00:00\",\"2022-08-16T00:00:00\",\"2022-08-17T00:00:00\",\"2022-08-18T00:00:00\",\"2022-08-19T00:00:00\",\"2022-08-22T00:00:00\",\"2022-08-23T00:00:00\",\"2022-08-24T00:00:00\",\"2022-08-25T00:00:00\",\"2022-08-26T00:00:00\",\"2022-08-29T00:00:00\",\"2022-08-30T00:00:00\",\"2022-08-31T00:00:00\",\"2022-09-01T00:00:00\",\"2022-09-02T00:00:00\",\"2022-09-05T00:00:00\",\"2022-09-06T00:00:00\",\"2022-09-07T00:00:00\",\"2022-09-08T00:00:00\",\"2022-09-09T00:00:00\",\"2022-09-12T00:00:00\",\"2022-09-13T00:00:00\",\"2022-09-14T00:00:00\",\"2022-09-15T00:00:00\",\"2022-09-16T00:00:00\",\"2022-09-19T00:00:00\",\"2022-09-20T00:00:00\",\"2022-09-21T00:00:00\",\"2022-09-22T00:00:00\",\"2022-09-22T00:00:00\",\"2022-09-23T00:00:00\",\"2022-09-26T00:00:00\",\"2022-09-27T00:00:00\",\"2022-09-28T00:00:00\",\"2022-09-29T00:00:00\",\"2022-09-30T00:00:00\",\"2022-10-03T00:00:00\",\"2022-10-04T00:00:00\",\"2022-10-05T00:00:00\",\"2022-10-06T00:00:00\",\"2022-10-11T00:00:00\",\"2022-10-12T00:00:00\",\"2022-10-13T00:00:00\",\"2022-10-14T00:00:00\",\"2022-10-17T00:00:00\",\"2022-10-18T00:00:00\",\"2022-10-19T00:00:00\",\"2022-10-20T00:00:00\",\"2022-10-21T00:00:00\",\"2022-10-24T00:00:00\",\"2022-10-25T00:00:00\",\"2022-10-26T00:00:00\",\"2022-10-27T00:00:00\",\"2022-10-28T00:00:00\",\"2022-10-31T00:00:00\",\"2022-11-01T00:00:00\",\"2022-11-02T00:00:00\",\"2022-11-03T00:00:00\",\"2022-11-04T00:00:00\",\"2022-11-07T00:00:00\",\"2022-11-08T00:00:00\",\"2022-11-09T00:00:00\",\"2022-11-10T00:00:00\",\"2022-11-11T00:00:00\",\"2022-11-14T00:00:00\",\"2022-11-15T00:00:00\",\"2022-11-16T00:00:00\",\"2022-11-17T00:00:00\",\"2022-11-18T00:00:00\",\"2022-11-18T00:00:00\",\"2022-11-18T00:00:00\",\"2022-11-22T00:00:00\",\"2022-11-23T00:00:00\",\"2022-11-24T00:00:00\",\"2022-11-25T00:00:00\",\"2022-11-28T00:00:00\",\"2022-11-29T00:00:00\",\"2022-11-30T00:00:00\",\"2022-12-01T00:00:00\",\"2022-12-02T00:00:00\",\"2022-12-05T00:00:00\",\"2022-12-06T00:00:00\",\"2022-12-07T00:00:00\",\"2022-12-12T00:00:00\",\"2022-12-13T00:00:00\",\"2022-12-14T00:00:00\",\"2022-12-15T00:00:00\",\"2022-12-16T00:00:00\",\"2022-12-19T00:00:00\",\"2022-12-20T00:00:00\",\"2022-12-21T00:00:00\",\"2022-12-22T00:00:00\",\"2022-12-23T00:00:00\",\"2022-12-26T00:00:00\",\"2022-12-27T00:00:00\",\"2022-12-28T00:00:00\",\"2022-12-29T00:00:00\",\"2022-12-30T00:00:00\"],\"xaxis\":\"x\",\"y\":[97.58,97.82,97.89,97.97,98.05,98.13,98.36,98.44,98.52,98.6,98.68,98.99,99.11,99.23,99.35,99.47,99.83,99.95,100.07,100.19,100.31,100.68,100.8,100.92,101.04,101.16,101.53,101.65,101.77,101.89,102.02,102.39,102.51,102.65,102.79,102.93,103.35,103.49,103.64,103.78,103.92,104.63,104.77,104.92,104.92,104.92,104.92,105.35,105.49,105.64,105.78,105.93,106.36,106.51,106.66,106.82,106.98,107.46,107.62,107.78,108.1,108.58,108.74,108.9,109.06,109.22,109.71,109.87,110.04,110.2,110.36,110.85,111.02,111.18,112.24,112.48,112.72,112.97,113.21,113.95,114.2,114.44,114.69,114.94,115.69,115.94,116.19,116.44,116.69,117.45,117.7,117.96,118.21,118.47,119.21,119.43,119.88,120.11,120.79,121.01,121.47,121.7,122.39,122.62,122.85,123.08,123.31,124.01,124.24,124.47,124.71,124.94,125.65,125.89,126.12,126.33,127.38,127.6,127.81,128.02,128.66,128.87,129.08,129.3,129.51,130.16,130.38,130.59,130.81,131.03,131.68,131.9,132.12,132.34,132.56,133.22,133.44,133.66,133.89,134.11,134.78,135.01,135.23,135.46,135.68,136.36,136.59,136.82,137.05,137.27,137.96,138.19,138.42,138.65,138.88,139.9,140.23,140.55,140.87,141.85,142.18,142.5,142.83,143.16,144.15,144.49,144.82,145.15,145.49,146.5,146.83,147.17,147.51,147.85,148.88,149.22,149.56,149.91,150.25,151.27,151.61,151.95,151.95,152.3,152.64,153.68,154.02,154.37,154.72,155.07,156.12,156.47,156.83,157.18,158.96,159.32,159.68,160.04,161.03,161.34,161.65,161.97,162.28,163.23,163.55,163.86,164.18,164.5,165.46,165.78,166.1,166.43,166.75,167.72,168.05,168.38,168.7,169.03,170.02,170.35,170.7,171.04,171.04,171.04,171.39,172.79,173.15,173.5,173.85,174.92,175.28,175.63,175.99,176.35,177.43,177.79,178.15,179.98,180.34,180.71,181.08,181.36,182.2,182.48,182.76,183.05,183.33,184.18,184.46,184.75,185.03],\"yaxis\":\"y\",\"type\":\"scatter\"},{\"hovertemplate\":\"variable=venta\\u003cbr\\u003efecha=%{x}\\u003cbr\\u003evalue=%{y}\\u003cextra\\u003e\\u003c\\u002fextra\\u003e\",\"legendgroup\":\"venta\",\"line\":{\"color\":\"#EF553B\",\"dash\":\"solid\"},\"marker\":{\"symbol\":\"circle\"},\"mode\":\"lines\",\"name\":\"venta\",\"orientation\":\"v\",\"showlegend\":true,\"x\":[\"2022-01-03T00:00:00\",\"2022-01-04T00:00:00\",\"2022-01-05T00:00:00\",\"2022-01-06T00:00:00\",\"2022-01-07T00:00:00\",\"2022-01-10T00:00:00\",\"2022-01-11T00:00:00\",\"2022-01-12T00:00:00\",\"2022-01-13T00:00:00\",\"2022-01-14T00:00:00\",\"2022-01-17T00:00:00\",\"2022-01-18T00:00:00\",\"2022-01-19T00:00:00\",\"2022-01-20T00:00:00\",\"2022-01-21T00:00:00\",\"2022-01-24T00:00:00\",\"2022-01-25T00:00:00\",\"2022-01-26T00:00:00\",\"2022-01-27T00:00:00\",\"2022-01-28T00:00:00\",\"2022-01-31T00:00:00\",\"2022-02-01T00:00:00\",\"2022-02-02T00:00:00\",\"2022-02-03T00:00:00\",\"2022-02-04T00:00:00\",\"2022-02-07T00:00:00\",\"2022-02-08T00:00:00\",\"2022-02-09T00:00:00\",\"2022-02-10T00:00:00\",\"2022-02-11T00:00:00\",\"2022-02-14T00:00:00\",\"2022-02-15T00:00:00\",\"2022-02-16T00:00:00\",\"2022-02-17T00:00:00\",\"2022-02-18T00:00:00\",\"2022-02-21T00:00:00\",\"2022-02-22T00:00:00\",\"2022-02-23T00:00:00\",\"2022-02-24T00:00:00\",\"2022-02-25T00:00:00\",\"2022-03-02T00:00:00\",\"2022-03-03T00:00:00\",\"2022-03-04T00:00:00\",\"2022-03-07T00:00:00\",\"2022-03-07T00:00:00\",\"2022-03-07T00:00:00\",\"2022-03-07T00:00:00\",\"2022-03-08T00:00:00\",\"2022-03-09T00:00:00\",\"2022-03-10T00:00:00\",\"2022-03-11T00:00:00\",\"2022-03-14T00:00:00\",\"2022-03-15T00:00:00\",\"2022-03-16T00:00:00\",\"2022-03-17T00:00:00\",\"2022-03-18T00:00:00\",\"2022-03-21T00:00:00\",\"2022-03-22T00:00:00\",\"2022-03-23T00:00:00\",\"2022-03-25T00:00:00\",\"2022-03-28T00:00:00\",\"2022-03-29T00:00:00\",\"2022-03-30T00:00:00\",\"2022-03-31T00:00:00\",\"2022-04-01T00:00:00\",\"2022-04-04T00:00:00\",\"2022-04-05T00:00:00\",\"2022-04-06T00:00:00\",\"2022-04-07T00:00:00\",\"2022-04-08T00:00:00\",\"2022-04-11T00:00:00\",\"2022-04-12T00:00:00\",\"2022-04-13T00:00:00\",\"2022-04-18T00:00:00\",\"2022-04-19T00:00:00\",\"2022-04-20T00:00:00\",\"2022-04-21T00:00:00\",\"2022-04-22T00:00:00\",\"2022-04-25T00:00:00\",\"2022-04-26T00:00:00\",\"2022-04-27T00:00:00\",\"2022-04-28T00:00:00\",\"2022-04-29T00:00:00\",\"2022-05-02T00:00:00\",\"2022-05-03T00:00:00\",\"2022-05-04T00:00:00\",\"2022-05-05T00:00:00\",\"2022-05-06T00:00:00\",\"2022-05-09T00:00:00\",\"2022-05-10T00:00:00\",\"2022-05-11T00:00:00\",\"2022-05-12T00:00:00\",\"2022-05-13T00:00:00\",\"2022-05-16T00:00:00\",\"2022-05-17T00:00:00\",\"2022-05-19T00:00:00\",\"2022-05-20T00:00:00\",\"2022-05-23T00:00:00\",\"2022-05-24T00:00:00\",\"2022-05-26T00:00:00\",\"2022-05-27T00:00:00\",\"2022-05-30T00:00:00\",\"2022-05-31T00:00:00\",\"2022-06-01T00:00:00\",\"2022-06-02T00:00:00\",\"2022-06-03T00:00:00\",\"2022-06-06T00:00:00\",\"2022-06-07T00:00:00\",\"2022-06-08T00:00:00\",\"2022-06-09T00:00:00\",\"2022-06-10T00:00:00\",\"2022-06-13T00:00:00\",\"2022-06-14T00:00:00\",\"2022-06-15T00:00:00\",\"2022-06-16T00:00:00\",\"2022-06-21T00:00:00\",\"2022-06-22T00:00:00\",\"2022-06-23T00:00:00\",\"2022-06-24T00:00:00\",\"2022-06-27T00:00:00\",\"2022-06-28T00:00:00\",\"2022-06-29T00:00:00\",\"2022-06-30T00:00:00\",\"2022-07-01T00:00:00\",\"2022-07-04T00:00:00\",\"2022-07-05T00:00:00\",\"2022-07-06T00:00:00\",\"2022-07-07T00:00:00\",\"2022-07-08T00:00:00\",\"2022-07-11T00:00:00\",\"2022-07-12T00:00:00\",\"2022-07-13T00:00:00\",\"2022-07-14T00:00:00\",\"2022-07-15T00:00:00\",\"2022-07-18T00:00:00\",\"2022-07-19T00:00:00\",\"2022-07-20T00:00:00\",\"2022-07-21T00:00:00\",\"2022-07-22T00:00:00\",\"2022-07-25T00:00:00\",\"2022-07-26T00:00:00\",\"2022-07-27T00:00:00\",\"2022-07-28T00:00:00\",\"2022-07-29T00:00:00\",\"2022-08-01T00:00:00\",\"2022-08-02T00:00:00\",\"2022-08-03T00:00:00\",\"2022-08-04T00:00:00\",\"2022-08-05T00:00:00\",\"2022-08-08T00:00:00\",\"2022-08-09T00:00:00\",\"2022-08-10T00:00:00\",\"2022-08-11T00:00:00\",\"2022-08-12T00:00:00\",\"2022-08-16T00:00:00\",\"2022-08-17T00:00:00\",\"2022-08-18T00:00:00\",\"2022-08-19T00:00:00\",\"2022-08-22T00:00:00\",\"2022-08-23T00:00:00\",\"2022-08-24T00:00:00\",\"2022-08-25T00:00:00\",\"2022-08-26T00:00:00\",\"2022-08-29T00:00:00\",\"2022-08-30T00:00:00\",\"2022-08-31T00:00:00\",\"2022-09-01T00:00:00\",\"2022-09-02T00:00:00\",\"2022-09-05T00:00:00\",\"2022-09-06T00:00:00\",\"2022-09-07T00:00:00\",\"2022-09-08T00:00:00\",\"2022-09-09T00:00:00\",\"2022-09-12T00:00:00\",\"2022-09-13T00:00:00\",\"2022-09-14T00:00:00\",\"2022-09-15T00:00:00\",\"2022-09-16T00:00:00\",\"2022-09-19T00:00:00\",\"2022-09-20T00:00:00\",\"2022-09-21T00:00:00\",\"2022-09-22T00:00:00\",\"2022-09-22T00:00:00\",\"2022-09-23T00:00:00\",\"2022-09-26T00:00:00\",\"2022-09-27T00:00:00\",\"2022-09-28T00:00:00\",\"2022-09-29T00:00:00\",\"2022-09-30T00:00:00\",\"2022-10-03T00:00:00\",\"2022-10-04T00:00:00\",\"2022-10-05T00:00:00\",\"2022-10-06T00:00:00\",\"2022-10-11T00:00:00\",\"2022-10-12T00:00:00\",\"2022-10-13T00:00:00\",\"2022-10-14T00:00:00\",\"2022-10-17T00:00:00\",\"2022-10-18T00:00:00\",\"2022-10-19T00:00:00\",\"2022-10-20T00:00:00\",\"2022-10-21T00:00:00\",\"2022-10-24T00:00:00\",\"2022-10-25T00:00:00\",\"2022-10-26T00:00:00\",\"2022-10-27T00:00:00\",\"2022-10-28T00:00:00\",\"2022-10-31T00:00:00\",\"2022-11-01T00:00:00\",\"2022-11-02T00:00:00\",\"2022-11-03T00:00:00\",\"2022-11-04T00:00:00\",\"2022-11-07T00:00:00\",\"2022-11-08T00:00:00\",\"2022-11-09T00:00:00\",\"2022-11-10T00:00:00\",\"2022-11-11T00:00:00\",\"2022-11-14T00:00:00\",\"2022-11-15T00:00:00\",\"2022-11-16T00:00:00\",\"2022-11-17T00:00:00\",\"2022-11-18T00:00:00\",\"2022-11-18T00:00:00\",\"2022-11-18T00:00:00\",\"2022-11-22T00:00:00\",\"2022-11-23T00:00:00\",\"2022-11-24T00:00:00\",\"2022-11-25T00:00:00\",\"2022-11-28T00:00:00\",\"2022-11-29T00:00:00\",\"2022-11-30T00:00:00\",\"2022-12-01T00:00:00\",\"2022-12-02T00:00:00\",\"2022-12-05T00:00:00\",\"2022-12-06T00:00:00\",\"2022-12-07T00:00:00\",\"2022-12-12T00:00:00\",\"2022-12-13T00:00:00\",\"2022-12-14T00:00:00\",\"2022-12-15T00:00:00\",\"2022-12-16T00:00:00\",\"2022-12-19T00:00:00\",\"2022-12-20T00:00:00\",\"2022-12-21T00:00:00\",\"2022-12-22T00:00:00\",\"2022-12-23T00:00:00\",\"2022-12-26T00:00:00\",\"2022-12-27T00:00:00\",\"2022-12-28T00:00:00\",\"2022-12-29T00:00:00\",\"2022-12-30T00:00:00\"],\"xaxis\":\"x\",\"y\":[202.0,202.5,203.5,204.5,204.0,202.0,205.0,204.5,205.5,205.5,205.0,207.0,209.0,210.0,215.0,215.0,215.5,217.0,218.5,208.5,209.0,210.0,212.5,212.0,210.0,210.0,211.0,213.0,211.5,210.5,211.0,211.0,211.0,210.0,207.0,207.5,206.0,206.0,206.5,207.0,202.0,200.0,197.0,197.0,197.0,197.0,197.0,198.0,200.5,199.0,198.0,196.0,196.0,198.0,198.0,198.5,198.0,197.0,197.0,198.0,196.0,196.0,197.0,196.0,196.0,195.0,192.0,192.0,192.0,192.5,191.0,191.0,191.0,191.0,194.0,195.5,198.0,199.0,201.5,208.5,202.5,200.0,196.5,197.0,199.5,197.0,197.5,197.0,197.5,198.0,201.0,199.5,199.5,201.0,204.0,202.0,201.0,202.5,204.0,203.0,202.5,202.5,201.0,202.0,202.0,201.0,201.0,202.0,204.0,204.0,206.0,212.0,220.0,213.0,212.0,216.0,220.0,220.0,222.0,228.0,235.0,235.0,234.0,235.0,250.0,242.0,245.0,247.0,263.0,258.0,262.0,273.0,279.0,283.0,281.0,291.0,307.0,327.0,328.0,312.0,313.0,316.0,304.0,286.0,272.0,281.0,288.0,281.0,283.0,282.0,283.0,285.0,287.0,285.0,286.0,287.0,288.0,290.0,287.0,292.0,290.0,288.0,288.0,287.0,286.0,285.0,280.0,280.0,266.0,272.0,280.0,276.0,270.0,268.0,269.0,273.0,272.0,273.0,273.0,283.0,283.0,283.0,281.0,283.0,282.0,286.0,286.0,284.0,284.0,280.0,278.0,278.0,273.0,276.0,285.0,287.0,286.0,283.0,286.0,288.0,287.0,287.0,287.0,289.0,288.0,287.0,288.0,286.0,286.0,287.0,283.0,285.0,286.0,287.0,288.0,288.0,289.0,290.0,298.0,304.0,303.0,303.0,303.0,302.0,304.0,308.0,315.0,316.0,314.0,311.0,310.0,309.0,308.0,308.0,311.0,312.0,308.0,311.0,316.0,316.0,317.0,321.0,322.0,321.0,326.0,336.0,342.0,352.0,353.0,346.0,342.0],\"yaxis\":\"y\",\"type\":\"scatter\"}],                        {\"template\":{\"data\":{\"histogram2dcontour\":[{\"type\":\"histogram2dcontour\",\"colorbar\":{\"outlinewidth\":0,\"ticks\":\"\"},\"colorscale\":[[0.0,\"#0d0887\"],[0.1111111111111111,\"#46039f\"],[0.2222222222222222,\"#7201a8\"],[0.3333333333333333,\"#9c179e\"],[0.4444444444444444,\"#bd3786\"],[0.5555555555555556,\"#d8576b\"],[0.6666666666666666,\"#ed7953\"],[0.7777777777777778,\"#fb9f3a\"],[0.8888888888888888,\"#fdca26\"],[1.0,\"#f0f921\"]]}],\"choropleth\":[{\"type\":\"choropleth\",\"colorbar\":{\"outlinewidth\":0,\"ticks\":\"\"}}],\"histogram2d\":[{\"type\":\"histogram2d\",\"colorbar\":{\"outlinewidth\":0,\"ticks\":\"\"},\"colorscale\":[[0.0,\"#0d0887\"],[0.1111111111111111,\"#46039f\"],[0.2222222222222222,\"#7201a8\"],[0.3333333333333333,\"#9c179e\"],[0.4444444444444444,\"#bd3786\"],[0.5555555555555556,\"#d8576b\"],[0.6666666666666666,\"#ed7953\"],[0.7777777777777778,\"#fb9f3a\"],[0.8888888888888888,\"#fdca26\"],[1.0,\"#f0f921\"]]}],\"heatmap\":[{\"type\":\"heatmap\",\"colorbar\":{\"outlinewidth\":0,\"ticks\":\"\"},\"colorscale\":[[0.0,\"#0d0887\"],[0.1111111111111111,\"#46039f\"],[0.2222222222222222,\"#7201a8\"],[0.3333333333333333,\"#9c179e\"],[0.4444444444444444,\"#bd3786\"],[0.5555555555555556,\"#d8576b\"],[0.6666666666666666,\"#ed7953\"],[0.7777777777777778,\"#fb9f3a\"],[0.8888888888888888,\"#fdca26\"],[1.0,\"#f0f921\"]]}],\"heatmapgl\":[{\"type\":\"heatmapgl\",\"colorbar\":{\"outlinewidth\":0,\"ticks\":\"\"},\"colorscale\":[[0.0,\"#0d0887\"],[0.1111111111111111,\"#46039f\"],[0.2222222222222222,\"#7201a8\"],[0.3333333333333333,\"#9c179e\"],[0.4444444444444444,\"#bd3786\"],[0.5555555555555556,\"#d8576b\"],[0.6666666666666666,\"#ed7953\"],[0.7777777777777778,\"#fb9f3a\"],[0.8888888888888888,\"#fdca26\"],[1.0,\"#f0f921\"]]}],\"contourcarpet\":[{\"type\":\"contourcarpet\",\"colorbar\":{\"outlinewidth\":0,\"ticks\":\"\"}}],\"contour\":[{\"type\":\"contour\",\"colorbar\":{\"outlinewidth\":0,\"ticks\":\"\"},\"colorscale\":[[0.0,\"#0d0887\"],[0.1111111111111111,\"#46039f\"],[0.2222222222222222,\"#7201a8\"],[0.3333333333333333,\"#9c179e\"],[0.4444444444444444,\"#bd3786\"],[0.5555555555555556,\"#d8576b\"],[0.6666666666666666,\"#ed7953\"],[0.7777777777777778,\"#fb9f3a\"],[0.8888888888888888,\"#fdca26\"],[1.0,\"#f0f921\"]]}],\"surface\":[{\"type\":\"surface\",\"colorbar\":{\"outlinewidth\":0,\"ticks\":\"\"},\"colorscale\":[[0.0,\"#0d0887\"],[0.1111111111111111,\"#46039f\"],[0.2222222222222222,\"#7201a8\"],[0.3333333333333333,\"#9c179e\"],[0.4444444444444444,\"#bd3786\"],[0.5555555555555556,\"#d8576b\"],[0.6666666666666666,\"#ed7953\"],[0.7777777777777778,\"#fb9f3a\"],[0.8888888888888888,\"#fdca26\"],[1.0,\"#f0f921\"]]}],\"mesh3d\":[{\"type\":\"mesh3d\",\"colorbar\":{\"outlinewidth\":0,\"ticks\":\"\"}}],\"scatter\":[{\"fillpattern\":{\"fillmode\":\"overlay\",\"size\":10,\"solidity\":0.2},\"type\":\"scatter\"}],\"parcoords\":[{\"type\":\"parcoords\",\"line\":{\"colorbar\":{\"outlinewidth\":0,\"ticks\":\"\"}}}],\"scatterpolargl\":[{\"type\":\"scatterpolargl\",\"marker\":{\"colorbar\":{\"outlinewidth\":0,\"ticks\":\"\"}}}],\"bar\":[{\"error_x\":{\"color\":\"#2a3f5f\"},\"error_y\":{\"color\":\"#2a3f5f\"},\"marker\":{\"line\":{\"color\":\"#E5ECF6\",\"width\":0.5},\"pattern\":{\"fillmode\":\"overlay\",\"size\":10,\"solidity\":0.2}},\"type\":\"bar\"}],\"scattergeo\":[{\"type\":\"scattergeo\",\"marker\":{\"colorbar\":{\"outlinewidth\":0,\"ticks\":\"\"}}}],\"scatterpolar\":[{\"type\":\"scatterpolar\",\"marker\":{\"colorbar\":{\"outlinewidth\":0,\"ticks\":\"\"}}}],\"histogram\":[{\"marker\":{\"pattern\":{\"fillmode\":\"overlay\",\"size\":10,\"solidity\":0.2}},\"type\":\"histogram\"}],\"scattergl\":[{\"type\":\"scattergl\",\"marker\":{\"colorbar\":{\"outlinewidth\":0,\"ticks\":\"\"}}}],\"scatter3d\":[{\"type\":\"scatter3d\",\"line\":{\"colorbar\":{\"outlinewidth\":0,\"ticks\":\"\"}},\"marker\":{\"colorbar\":{\"outlinewidth\":0,\"ticks\":\"\"}}}],\"scattermapbox\":[{\"type\":\"scattermapbox\",\"marker\":{\"colorbar\":{\"outlinewidth\":0,\"ticks\":\"\"}}}],\"scatterternary\":[{\"type\":\"scatterternary\",\"marker\":{\"colorbar\":{\"outlinewidth\":0,\"ticks\":\"\"}}}],\"scattercarpet\":[{\"type\":\"scattercarpet\",\"marker\":{\"colorbar\":{\"outlinewidth\":0,\"ticks\":\"\"}}}],\"carpet\":[{\"aaxis\":{\"endlinecolor\":\"#2a3f5f\",\"gridcolor\":\"white\",\"linecolor\":\"white\",\"minorgridcolor\":\"white\",\"startlinecolor\":\"#2a3f5f\"},\"baxis\":{\"endlinecolor\":\"#2a3f5f\",\"gridcolor\":\"white\",\"linecolor\":\"white\",\"minorgridcolor\":\"white\",\"startlinecolor\":\"#2a3f5f\"},\"type\":\"carpet\"}],\"table\":[{\"cells\":{\"fill\":{\"color\":\"#EBF0F8\"},\"line\":{\"color\":\"white\"}},\"header\":{\"fill\":{\"color\":\"#C8D4E3\"},\"line\":{\"color\":\"white\"}},\"type\":\"table\"}],\"barpolar\":[{\"marker\":{\"line\":{\"color\":\"#E5ECF6\",\"width\":0.5},\"pattern\":{\"fillmode\":\"overlay\",\"size\":10,\"solidity\":0.2}},\"type\":\"barpolar\"}],\"pie\":[{\"automargin\":true,\"type\":\"pie\"}]},\"layout\":{\"autotypenumbers\":\"strict\",\"colorway\":[\"#636efa\",\"#EF553B\",\"#00cc96\",\"#ab63fa\",\"#FFA15A\",\"#19d3f3\",\"#FF6692\",\"#B6E880\",\"#FF97FF\",\"#FECB52\"],\"font\":{\"color\":\"#2a3f5f\"},\"hovermode\":\"closest\",\"hoverlabel\":{\"align\":\"left\"},\"paper_bgcolor\":\"white\",\"plot_bgcolor\":\"#E5ECF6\",\"polar\":{\"bgcolor\":\"#E5ECF6\",\"angularaxis\":{\"gridcolor\":\"white\",\"linecolor\":\"white\",\"ticks\":\"\"},\"radialaxis\":{\"gridcolor\":\"white\",\"linecolor\":\"white\",\"ticks\":\"\"}},\"ternary\":{\"bgcolor\":\"#E5ECF6\",\"aaxis\":{\"gridcolor\":\"white\",\"linecolor\":\"white\",\"ticks\":\"\"},\"baxis\":{\"gridcolor\":\"white\",\"linecolor\":\"white\",\"ticks\":\"\"},\"caxis\":{\"gridcolor\":\"white\",\"linecolor\":\"white\",\"ticks\":\"\"}},\"coloraxis\":{\"colorbar\":{\"outlinewidth\":0,\"ticks\":\"\"}},\"colorscale\":{\"sequential\":[[0.0,\"#0d0887\"],[0.1111111111111111,\"#46039f\"],[0.2222222222222222,\"#7201a8\"],[0.3333333333333333,\"#9c179e\"],[0.4444444444444444,\"#bd3786\"],[0.5555555555555556,\"#d8576b\"],[0.6666666666666666,\"#ed7953\"],[0.7777777777777778,\"#fb9f3a\"],[0.8888888888888888,\"#fdca26\"],[1.0,\"#f0f921\"]],\"sequentialminus\":[[0.0,\"#0d0887\"],[0.1111111111111111,\"#46039f\"],[0.2222222222222222,\"#7201a8\"],[0.3333333333333333,\"#9c179e\"],[0.4444444444444444,\"#bd3786\"],[0.5555555555555556,\"#d8576b\"],[0.6666666666666666,\"#ed7953\"],[0.7777777777777778,\"#fb9f3a\"],[0.8888888888888888,\"#fdca26\"],[1.0,\"#f0f921\"]],\"diverging\":[[0,\"#8e0152\"],[0.1,\"#c51b7d\"],[0.2,\"#de77ae\"],[0.3,\"#f1b6da\"],[0.4,\"#fde0ef\"],[0.5,\"#f7f7f7\"],[0.6,\"#e6f5d0\"],[0.7,\"#b8e186\"],[0.8,\"#7fbc41\"],[0.9,\"#4d9221\"],[1,\"#276419\"]]},\"xaxis\":{\"gridcolor\":\"white\",\"linecolor\":\"white\",\"ticks\":\"\",\"title\":{\"standoff\":15},\"zerolinecolor\":\"white\",\"automargin\":true,\"zerolinewidth\":2},\"yaxis\":{\"gridcolor\":\"white\",\"linecolor\":\"white\",\"ticks\":\"\",\"title\":{\"standoff\":15},\"zerolinecolor\":\"white\",\"automargin\":true,\"zerolinewidth\":2},\"scene\":{\"xaxis\":{\"backgroundcolor\":\"#E5ECF6\",\"gridcolor\":\"white\",\"linecolor\":\"white\",\"showbackground\":true,\"ticks\":\"\",\"zerolinecolor\":\"white\",\"gridwidth\":2},\"yaxis\":{\"backgroundcolor\":\"#E5ECF6\",\"gridcolor\":\"white\",\"linecolor\":\"white\",\"showbackground\":true,\"ticks\":\"\",\"zerolinecolor\":\"white\",\"gridwidth\":2},\"zaxis\":{\"backgroundcolor\":\"#E5ECF6\",\"gridcolor\":\"white\",\"linecolor\":\"white\",\"showbackground\":true,\"ticks\":\"\",\"zerolinecolor\":\"white\",\"gridwidth\":2}},\"shapedefaults\":{\"line\":{\"color\":\"#2a3f5f\"}},\"annotationdefaults\":{\"arrowcolor\":\"#2a3f5f\",\"arrowhead\":0,\"arrowwidth\":1},\"geo\":{\"bgcolor\":\"white\",\"landcolor\":\"#E5ECF6\",\"subunitcolor\":\"white\",\"showland\":true,\"showlakes\":true,\"lakecolor\":\"white\"},\"title\":{\"x\":0.05},\"mapbox\":{\"style\":\"light\"}}},\"xaxis\":{\"anchor\":\"y\",\"domain\":[0.0,1.0],\"title\":{\"text\":\"fecha\"}},\"yaxis\":{\"anchor\":\"x\",\"domain\":[0.0,1.0],\"title\":{\"text\":\"value\"}},\"legend\":{\"title\":{\"text\":\"variable\"},\"tracegroupgap\":0},\"title\":{\"text\":\"D\\u00f3lar vs Inflaci\\u00f3n\"}},                        {\"responsive\": true}                    ).then(function(){\n",
              "                            \n",
              "var gd = document.getElementById('bf930462-3bd3-459f-b366-8ca474f0ae23');\n",
              "var x = new MutationObserver(function (mutations, observer) {{\n",
              "        var display = window.getComputedStyle(gd).display;\n",
              "        if (!display || display === 'none') {{\n",
              "            console.log([gd, 'removed!']);\n",
              "            Plotly.purge(gd);\n",
              "            observer.disconnect();\n",
              "        }}\n",
              "}});\n",
              "\n",
              "// Listen for the removal of the full notebook cells\n",
              "var notebookContainer = gd.closest('#notebook-container');\n",
              "if (notebookContainer) {{\n",
              "    x.observe(notebookContainer, {childList: true});\n",
              "}}\n",
              "\n",
              "// Listen for the clearing of the current output cell\n",
              "var outputEl = gd.closest('.output');\n",
              "if (outputEl) {{\n",
              "    x.observe(outputEl, {childList: true});\n",
              "}}\n",
              "\n",
              "                        })                };                });            </script>        </div>"
            ]
          },
          "metadata": {}
        }
      ]
    },
    {
      "cell_type": "markdown",
      "source": [],
      "metadata": {
        "id": "CnAnain3MohE"
      }
    },
    {
      "cell_type": "code",
      "source": [
        "uva_usd_df['usd_en_uva']= uva_usd_df.venta / uva_usd_df.UVA\n",
        "uva_usd_df.head()"
      ],
      "metadata": {
        "colab": {
          "base_uri": "https://localhost:8080/",
          "height": 206
        },
        "id": "ed2AObDCKgZd",
        "outputId": "c1d56737-4796-4939-c355-29552539d639"
      },
      "execution_count": 30,
      "outputs": [
        {
          "output_type": "execute_result",
          "data": {
            "text/plain": [
              "       fecha    UVA  compra  venta  usd_en_uva\n",
              "0 2022-01-03  97.58   202.0  202.0    2.070096\n",
              "1 2022-01-04  97.82   202.5  202.5    2.070129\n",
              "2 2022-01-05  97.89   203.5  203.5    2.078864\n",
              "3 2022-01-06  97.97   204.5  204.5    2.087374\n",
              "4 2022-01-07  98.05   204.0  204.0    2.080571"
            ],
            "text/html": [
              "\n",
              "  <div id=\"df-bd9f6da9-946f-4828-bc05-53d2b1f22d83\" class=\"colab-df-container\">\n",
              "    <div>\n",
              "<style scoped>\n",
              "    .dataframe tbody tr th:only-of-type {\n",
              "        vertical-align: middle;\n",
              "    }\n",
              "\n",
              "    .dataframe tbody tr th {\n",
              "        vertical-align: top;\n",
              "    }\n",
              "\n",
              "    .dataframe thead th {\n",
              "        text-align: right;\n",
              "    }\n",
              "</style>\n",
              "<table border=\"1\" class=\"dataframe\">\n",
              "  <thead>\n",
              "    <tr style=\"text-align: right;\">\n",
              "      <th></th>\n",
              "      <th>fecha</th>\n",
              "      <th>UVA</th>\n",
              "      <th>compra</th>\n",
              "      <th>venta</th>\n",
              "      <th>usd_en_uva</th>\n",
              "    </tr>\n",
              "  </thead>\n",
              "  <tbody>\n",
              "    <tr>\n",
              "      <th>0</th>\n",
              "      <td>2022-01-03</td>\n",
              "      <td>97.58</td>\n",
              "      <td>202.0</td>\n",
              "      <td>202.0</td>\n",
              "      <td>2.070096</td>\n",
              "    </tr>\n",
              "    <tr>\n",
              "      <th>1</th>\n",
              "      <td>2022-01-04</td>\n",
              "      <td>97.82</td>\n",
              "      <td>202.5</td>\n",
              "      <td>202.5</td>\n",
              "      <td>2.070129</td>\n",
              "    </tr>\n",
              "    <tr>\n",
              "      <th>2</th>\n",
              "      <td>2022-01-05</td>\n",
              "      <td>97.89</td>\n",
              "      <td>203.5</td>\n",
              "      <td>203.5</td>\n",
              "      <td>2.078864</td>\n",
              "    </tr>\n",
              "    <tr>\n",
              "      <th>3</th>\n",
              "      <td>2022-01-06</td>\n",
              "      <td>97.97</td>\n",
              "      <td>204.5</td>\n",
              "      <td>204.5</td>\n",
              "      <td>2.087374</td>\n",
              "    </tr>\n",
              "    <tr>\n",
              "      <th>4</th>\n",
              "      <td>2022-01-07</td>\n",
              "      <td>98.05</td>\n",
              "      <td>204.0</td>\n",
              "      <td>204.0</td>\n",
              "      <td>2.080571</td>\n",
              "    </tr>\n",
              "  </tbody>\n",
              "</table>\n",
              "</div>\n",
              "    <div class=\"colab-df-buttons\">\n",
              "\n",
              "  <div class=\"colab-df-container\">\n",
              "    <button class=\"colab-df-convert\" onclick=\"convertToInteractive('df-bd9f6da9-946f-4828-bc05-53d2b1f22d83')\"\n",
              "            title=\"Convert this dataframe to an interactive table.\"\n",
              "            style=\"display:none;\">\n",
              "\n",
              "  <svg xmlns=\"http://www.w3.org/2000/svg\" height=\"24px\" viewBox=\"0 -960 960 960\">\n",
              "    <path d=\"M120-120v-720h720v720H120Zm60-500h600v-160H180v160Zm220 220h160v-160H400v160Zm0 220h160v-160H400v160ZM180-400h160v-160H180v160Zm440 0h160v-160H620v160ZM180-180h160v-160H180v160Zm440 0h160v-160H620v160Z\"/>\n",
              "  </svg>\n",
              "    </button>\n",
              "\n",
              "  <style>\n",
              "    .colab-df-container {\n",
              "      display:flex;\n",
              "      gap: 12px;\n",
              "    }\n",
              "\n",
              "    .colab-df-convert {\n",
              "      background-color: #E8F0FE;\n",
              "      border: none;\n",
              "      border-radius: 50%;\n",
              "      cursor: pointer;\n",
              "      display: none;\n",
              "      fill: #1967D2;\n",
              "      height: 32px;\n",
              "      padding: 0 0 0 0;\n",
              "      width: 32px;\n",
              "    }\n",
              "\n",
              "    .colab-df-convert:hover {\n",
              "      background-color: #E2EBFA;\n",
              "      box-shadow: 0px 1px 2px rgba(60, 64, 67, 0.3), 0px 1px 3px 1px rgba(60, 64, 67, 0.15);\n",
              "      fill: #174EA6;\n",
              "    }\n",
              "\n",
              "    .colab-df-buttons div {\n",
              "      margin-bottom: 4px;\n",
              "    }\n",
              "\n",
              "    [theme=dark] .colab-df-convert {\n",
              "      background-color: #3B4455;\n",
              "      fill: #D2E3FC;\n",
              "    }\n",
              "\n",
              "    [theme=dark] .colab-df-convert:hover {\n",
              "      background-color: #434B5C;\n",
              "      box-shadow: 0px 1px 3px 1px rgba(0, 0, 0, 0.15);\n",
              "      filter: drop-shadow(0px 1px 2px rgba(0, 0, 0, 0.3));\n",
              "      fill: #FFFFFF;\n",
              "    }\n",
              "  </style>\n",
              "\n",
              "    <script>\n",
              "      const buttonEl =\n",
              "        document.querySelector('#df-bd9f6da9-946f-4828-bc05-53d2b1f22d83 button.colab-df-convert');\n",
              "      buttonEl.style.display =\n",
              "        google.colab.kernel.accessAllowed ? 'block' : 'none';\n",
              "\n",
              "      async function convertToInteractive(key) {\n",
              "        const element = document.querySelector('#df-bd9f6da9-946f-4828-bc05-53d2b1f22d83');\n",
              "        const dataTable =\n",
              "          await google.colab.kernel.invokeFunction('convertToInteractive',\n",
              "                                                    [key], {});\n",
              "        if (!dataTable) return;\n",
              "\n",
              "        const docLinkHtml = 'Like what you see? Visit the ' +\n",
              "          '<a target=\"_blank\" href=https://colab.research.google.com/notebooks/data_table.ipynb>data table notebook</a>'\n",
              "          + ' to learn more about interactive tables.';\n",
              "        element.innerHTML = '';\n",
              "        dataTable['output_type'] = 'display_data';\n",
              "        await google.colab.output.renderOutput(dataTable, element);\n",
              "        const docLink = document.createElement('div');\n",
              "        docLink.innerHTML = docLinkHtml;\n",
              "        element.appendChild(docLink);\n",
              "      }\n",
              "    </script>\n",
              "  </div>\n",
              "\n",
              "\n",
              "<div id=\"df-06c05755-c03d-43c7-9dfb-dc536a56287b\">\n",
              "  <button class=\"colab-df-quickchart\" onclick=\"quickchart('df-06c05755-c03d-43c7-9dfb-dc536a56287b')\"\n",
              "            title=\"Suggest charts.\"\n",
              "            style=\"display:none;\">\n",
              "\n",
              "<svg xmlns=\"http://www.w3.org/2000/svg\" height=\"24px\"viewBox=\"0 0 24 24\"\n",
              "     width=\"24px\">\n",
              "    <g>\n",
              "        <path d=\"M19 3H5c-1.1 0-2 .9-2 2v14c0 1.1.9 2 2 2h14c1.1 0 2-.9 2-2V5c0-1.1-.9-2-2-2zM9 17H7v-7h2v7zm4 0h-2V7h2v10zm4 0h-2v-4h2v4z\"/>\n",
              "    </g>\n",
              "</svg>\n",
              "  </button>\n",
              "\n",
              "<style>\n",
              "  .colab-df-quickchart {\n",
              "      --bg-color: #E8F0FE;\n",
              "      --fill-color: #1967D2;\n",
              "      --hover-bg-color: #E2EBFA;\n",
              "      --hover-fill-color: #174EA6;\n",
              "      --disabled-fill-color: #AAA;\n",
              "      --disabled-bg-color: #DDD;\n",
              "  }\n",
              "\n",
              "  [theme=dark] .colab-df-quickchart {\n",
              "      --bg-color: #3B4455;\n",
              "      --fill-color: #D2E3FC;\n",
              "      --hover-bg-color: #434B5C;\n",
              "      --hover-fill-color: #FFFFFF;\n",
              "      --disabled-bg-color: #3B4455;\n",
              "      --disabled-fill-color: #666;\n",
              "  }\n",
              "\n",
              "  .colab-df-quickchart {\n",
              "    background-color: var(--bg-color);\n",
              "    border: none;\n",
              "    border-radius: 50%;\n",
              "    cursor: pointer;\n",
              "    display: none;\n",
              "    fill: var(--fill-color);\n",
              "    height: 32px;\n",
              "    padding: 0;\n",
              "    width: 32px;\n",
              "  }\n",
              "\n",
              "  .colab-df-quickchart:hover {\n",
              "    background-color: var(--hover-bg-color);\n",
              "    box-shadow: 0 1px 2px rgba(60, 64, 67, 0.3), 0 1px 3px 1px rgba(60, 64, 67, 0.15);\n",
              "    fill: var(--button-hover-fill-color);\n",
              "  }\n",
              "\n",
              "  .colab-df-quickchart-complete:disabled,\n",
              "  .colab-df-quickchart-complete:disabled:hover {\n",
              "    background-color: var(--disabled-bg-color);\n",
              "    fill: var(--disabled-fill-color);\n",
              "    box-shadow: none;\n",
              "  }\n",
              "\n",
              "  .colab-df-spinner {\n",
              "    border: 2px solid var(--fill-color);\n",
              "    border-color: transparent;\n",
              "    border-bottom-color: var(--fill-color);\n",
              "    animation:\n",
              "      spin 1s steps(1) infinite;\n",
              "  }\n",
              "\n",
              "  @keyframes spin {\n",
              "    0% {\n",
              "      border-color: transparent;\n",
              "      border-bottom-color: var(--fill-color);\n",
              "      border-left-color: var(--fill-color);\n",
              "    }\n",
              "    20% {\n",
              "      border-color: transparent;\n",
              "      border-left-color: var(--fill-color);\n",
              "      border-top-color: var(--fill-color);\n",
              "    }\n",
              "    30% {\n",
              "      border-color: transparent;\n",
              "      border-left-color: var(--fill-color);\n",
              "      border-top-color: var(--fill-color);\n",
              "      border-right-color: var(--fill-color);\n",
              "    }\n",
              "    40% {\n",
              "      border-color: transparent;\n",
              "      border-right-color: var(--fill-color);\n",
              "      border-top-color: var(--fill-color);\n",
              "    }\n",
              "    60% {\n",
              "      border-color: transparent;\n",
              "      border-right-color: var(--fill-color);\n",
              "    }\n",
              "    80% {\n",
              "      border-color: transparent;\n",
              "      border-right-color: var(--fill-color);\n",
              "      border-bottom-color: var(--fill-color);\n",
              "    }\n",
              "    90% {\n",
              "      border-color: transparent;\n",
              "      border-bottom-color: var(--fill-color);\n",
              "    }\n",
              "  }\n",
              "</style>\n",
              "\n",
              "  <script>\n",
              "    async function quickchart(key) {\n",
              "      const quickchartButtonEl =\n",
              "        document.querySelector('#' + key + ' button');\n",
              "      quickchartButtonEl.disabled = true;  // To prevent multiple clicks.\n",
              "      quickchartButtonEl.classList.add('colab-df-spinner');\n",
              "      try {\n",
              "        const charts = await google.colab.kernel.invokeFunction(\n",
              "            'suggestCharts', [key], {});\n",
              "      } catch (error) {\n",
              "        console.error('Error during call to suggestCharts:', error);\n",
              "      }\n",
              "      quickchartButtonEl.classList.remove('colab-df-spinner');\n",
              "      quickchartButtonEl.classList.add('colab-df-quickchart-complete');\n",
              "    }\n",
              "    (() => {\n",
              "      let quickchartButtonEl =\n",
              "        document.querySelector('#df-06c05755-c03d-43c7-9dfb-dc536a56287b button');\n",
              "      quickchartButtonEl.style.display =\n",
              "        google.colab.kernel.accessAllowed ? 'block' : 'none';\n",
              "    })();\n",
              "  </script>\n",
              "</div>\n",
              "    </div>\n",
              "  </div>\n"
            ]
          },
          "metadata": {},
          "execution_count": 30
        }
      ]
    },
    {
      "cell_type": "code",
      "source": [
        "fig = px.line(uva_usd_df, x=\"fecha\", y=[\"usd_en_uva\"], title='USD/UVA')\n",
        "fig.show()"
      ],
      "metadata": {
        "colab": {
          "base_uri": "https://localhost:8080/",
          "height": 542
        },
        "id": "ltNGD1mCNYyO",
        "outputId": "069e0f40-f504-44ad-a813-9052ae352132"
      },
      "execution_count": 31,
      "outputs": [
        {
          "output_type": "display_data",
          "data": {
            "application/vnd.plotly.v1+json": {
              "data": [
                {
                  "hovertemplate": "variable=usd_en_uva<br>fecha=%{x}<br>value=%{y}<extra></extra>",
                  "legendgroup": "usd_en_uva",
                  "line": {
                    "color": "#636efa",
                    "dash": "solid"
                  },
                  "marker": {
                    "symbol": "circle"
                  },
                  "mode": "lines",
                  "name": "usd_en_uva",
                  "orientation": "v",
                  "showlegend": true,
                  "x": [
                    "2022-01-03T00:00:00",
                    "2022-01-04T00:00:00",
                    "2022-01-05T00:00:00",
                    "2022-01-06T00:00:00",
                    "2022-01-07T00:00:00",
                    "2022-01-10T00:00:00",
                    "2022-01-11T00:00:00",
                    "2022-01-12T00:00:00",
                    "2022-01-13T00:00:00",
                    "2022-01-14T00:00:00",
                    "2022-01-17T00:00:00",
                    "2022-01-18T00:00:00",
                    "2022-01-19T00:00:00",
                    "2022-01-20T00:00:00",
                    "2022-01-21T00:00:00",
                    "2022-01-24T00:00:00",
                    "2022-01-25T00:00:00",
                    "2022-01-26T00:00:00",
                    "2022-01-27T00:00:00",
                    "2022-01-28T00:00:00",
                    "2022-01-31T00:00:00",
                    "2022-02-01T00:00:00",
                    "2022-02-02T00:00:00",
                    "2022-02-03T00:00:00",
                    "2022-02-04T00:00:00",
                    "2022-02-07T00:00:00",
                    "2022-02-08T00:00:00",
                    "2022-02-09T00:00:00",
                    "2022-02-10T00:00:00",
                    "2022-02-11T00:00:00",
                    "2022-02-14T00:00:00",
                    "2022-02-15T00:00:00",
                    "2022-02-16T00:00:00",
                    "2022-02-17T00:00:00",
                    "2022-02-18T00:00:00",
                    "2022-02-21T00:00:00",
                    "2022-02-22T00:00:00",
                    "2022-02-23T00:00:00",
                    "2022-02-24T00:00:00",
                    "2022-02-25T00:00:00",
                    "2022-03-02T00:00:00",
                    "2022-03-03T00:00:00",
                    "2022-03-04T00:00:00",
                    "2022-03-07T00:00:00",
                    "2022-03-07T00:00:00",
                    "2022-03-07T00:00:00",
                    "2022-03-07T00:00:00",
                    "2022-03-08T00:00:00",
                    "2022-03-09T00:00:00",
                    "2022-03-10T00:00:00",
                    "2022-03-11T00:00:00",
                    "2022-03-14T00:00:00",
                    "2022-03-15T00:00:00",
                    "2022-03-16T00:00:00",
                    "2022-03-17T00:00:00",
                    "2022-03-18T00:00:00",
                    "2022-03-21T00:00:00",
                    "2022-03-22T00:00:00",
                    "2022-03-23T00:00:00",
                    "2022-03-25T00:00:00",
                    "2022-03-28T00:00:00",
                    "2022-03-29T00:00:00",
                    "2022-03-30T00:00:00",
                    "2022-03-31T00:00:00",
                    "2022-04-01T00:00:00",
                    "2022-04-04T00:00:00",
                    "2022-04-05T00:00:00",
                    "2022-04-06T00:00:00",
                    "2022-04-07T00:00:00",
                    "2022-04-08T00:00:00",
                    "2022-04-11T00:00:00",
                    "2022-04-12T00:00:00",
                    "2022-04-13T00:00:00",
                    "2022-04-18T00:00:00",
                    "2022-04-19T00:00:00",
                    "2022-04-20T00:00:00",
                    "2022-04-21T00:00:00",
                    "2022-04-22T00:00:00",
                    "2022-04-25T00:00:00",
                    "2022-04-26T00:00:00",
                    "2022-04-27T00:00:00",
                    "2022-04-28T00:00:00",
                    "2022-04-29T00:00:00",
                    "2022-05-02T00:00:00",
                    "2022-05-03T00:00:00",
                    "2022-05-04T00:00:00",
                    "2022-05-05T00:00:00",
                    "2022-05-06T00:00:00",
                    "2022-05-09T00:00:00",
                    "2022-05-10T00:00:00",
                    "2022-05-11T00:00:00",
                    "2022-05-12T00:00:00",
                    "2022-05-13T00:00:00",
                    "2022-05-16T00:00:00",
                    "2022-05-17T00:00:00",
                    "2022-05-19T00:00:00",
                    "2022-05-20T00:00:00",
                    "2022-05-23T00:00:00",
                    "2022-05-24T00:00:00",
                    "2022-05-26T00:00:00",
                    "2022-05-27T00:00:00",
                    "2022-05-30T00:00:00",
                    "2022-05-31T00:00:00",
                    "2022-06-01T00:00:00",
                    "2022-06-02T00:00:00",
                    "2022-06-03T00:00:00",
                    "2022-06-06T00:00:00",
                    "2022-06-07T00:00:00",
                    "2022-06-08T00:00:00",
                    "2022-06-09T00:00:00",
                    "2022-06-10T00:00:00",
                    "2022-06-13T00:00:00",
                    "2022-06-14T00:00:00",
                    "2022-06-15T00:00:00",
                    "2022-06-16T00:00:00",
                    "2022-06-21T00:00:00",
                    "2022-06-22T00:00:00",
                    "2022-06-23T00:00:00",
                    "2022-06-24T00:00:00",
                    "2022-06-27T00:00:00",
                    "2022-06-28T00:00:00",
                    "2022-06-29T00:00:00",
                    "2022-06-30T00:00:00",
                    "2022-07-01T00:00:00",
                    "2022-07-04T00:00:00",
                    "2022-07-05T00:00:00",
                    "2022-07-06T00:00:00",
                    "2022-07-07T00:00:00",
                    "2022-07-08T00:00:00",
                    "2022-07-11T00:00:00",
                    "2022-07-12T00:00:00",
                    "2022-07-13T00:00:00",
                    "2022-07-14T00:00:00",
                    "2022-07-15T00:00:00",
                    "2022-07-18T00:00:00",
                    "2022-07-19T00:00:00",
                    "2022-07-20T00:00:00",
                    "2022-07-21T00:00:00",
                    "2022-07-22T00:00:00",
                    "2022-07-25T00:00:00",
                    "2022-07-26T00:00:00",
                    "2022-07-27T00:00:00",
                    "2022-07-28T00:00:00",
                    "2022-07-29T00:00:00",
                    "2022-08-01T00:00:00",
                    "2022-08-02T00:00:00",
                    "2022-08-03T00:00:00",
                    "2022-08-04T00:00:00",
                    "2022-08-05T00:00:00",
                    "2022-08-08T00:00:00",
                    "2022-08-09T00:00:00",
                    "2022-08-10T00:00:00",
                    "2022-08-11T00:00:00",
                    "2022-08-12T00:00:00",
                    "2022-08-16T00:00:00",
                    "2022-08-17T00:00:00",
                    "2022-08-18T00:00:00",
                    "2022-08-19T00:00:00",
                    "2022-08-22T00:00:00",
                    "2022-08-23T00:00:00",
                    "2022-08-24T00:00:00",
                    "2022-08-25T00:00:00",
                    "2022-08-26T00:00:00",
                    "2022-08-29T00:00:00",
                    "2022-08-30T00:00:00",
                    "2022-08-31T00:00:00",
                    "2022-09-01T00:00:00",
                    "2022-09-02T00:00:00",
                    "2022-09-05T00:00:00",
                    "2022-09-06T00:00:00",
                    "2022-09-07T00:00:00",
                    "2022-09-08T00:00:00",
                    "2022-09-09T00:00:00",
                    "2022-09-12T00:00:00",
                    "2022-09-13T00:00:00",
                    "2022-09-14T00:00:00",
                    "2022-09-15T00:00:00",
                    "2022-09-16T00:00:00",
                    "2022-09-19T00:00:00",
                    "2022-09-20T00:00:00",
                    "2022-09-21T00:00:00",
                    "2022-09-22T00:00:00",
                    "2022-09-22T00:00:00",
                    "2022-09-23T00:00:00",
                    "2022-09-26T00:00:00",
                    "2022-09-27T00:00:00",
                    "2022-09-28T00:00:00",
                    "2022-09-29T00:00:00",
                    "2022-09-30T00:00:00",
                    "2022-10-03T00:00:00",
                    "2022-10-04T00:00:00",
                    "2022-10-05T00:00:00",
                    "2022-10-06T00:00:00",
                    "2022-10-11T00:00:00",
                    "2022-10-12T00:00:00",
                    "2022-10-13T00:00:00",
                    "2022-10-14T00:00:00",
                    "2022-10-17T00:00:00",
                    "2022-10-18T00:00:00",
                    "2022-10-19T00:00:00",
                    "2022-10-20T00:00:00",
                    "2022-10-21T00:00:00",
                    "2022-10-24T00:00:00",
                    "2022-10-25T00:00:00",
                    "2022-10-26T00:00:00",
                    "2022-10-27T00:00:00",
                    "2022-10-28T00:00:00",
                    "2022-10-31T00:00:00",
                    "2022-11-01T00:00:00",
                    "2022-11-02T00:00:00",
                    "2022-11-03T00:00:00",
                    "2022-11-04T00:00:00",
                    "2022-11-07T00:00:00",
                    "2022-11-08T00:00:00",
                    "2022-11-09T00:00:00",
                    "2022-11-10T00:00:00",
                    "2022-11-11T00:00:00",
                    "2022-11-14T00:00:00",
                    "2022-11-15T00:00:00",
                    "2022-11-16T00:00:00",
                    "2022-11-17T00:00:00",
                    "2022-11-18T00:00:00",
                    "2022-11-18T00:00:00",
                    "2022-11-18T00:00:00",
                    "2022-11-22T00:00:00",
                    "2022-11-23T00:00:00",
                    "2022-11-24T00:00:00",
                    "2022-11-25T00:00:00",
                    "2022-11-28T00:00:00",
                    "2022-11-29T00:00:00",
                    "2022-11-30T00:00:00",
                    "2022-12-01T00:00:00",
                    "2022-12-02T00:00:00",
                    "2022-12-05T00:00:00",
                    "2022-12-06T00:00:00",
                    "2022-12-07T00:00:00",
                    "2022-12-12T00:00:00",
                    "2022-12-13T00:00:00",
                    "2022-12-14T00:00:00",
                    "2022-12-15T00:00:00",
                    "2022-12-16T00:00:00",
                    "2022-12-19T00:00:00",
                    "2022-12-20T00:00:00",
                    "2022-12-21T00:00:00",
                    "2022-12-22T00:00:00",
                    "2022-12-23T00:00:00",
                    "2022-12-26T00:00:00",
                    "2022-12-27T00:00:00",
                    "2022-12-28T00:00:00",
                    "2022-12-29T00:00:00",
                    "2022-12-30T00:00:00"
                  ],
                  "xaxis": "x",
                  "y": [
                    2.070096331215413,
                    2.070128808014721,
                    2.078864031055266,
                    2.0873736858221905,
                    2.080571137174911,
                    2.0584938347090596,
                    2.084180561203741,
                    2.0774075579032916,
                    2.0858708891595614,
                    2.084178498985801,
                    2.0774219700040533,
                    2.091120315183352,
                    2.108768035516093,
                    2.116295475158722,
                    2.1640664318067437,
                    2.1614557152910425,
                    2.1586697385555444,
                    2.1710855427713858,
                    2.1834715699010694,
                    2.0810460125761057,
                    2.0835410228292295,
                    2.0858164481525625,
                    2.1081349206349205,
                    2.1006738010305193,
                    2.0783847980997625,
                    2.0759193357058128,
                    2.078203486654191,
                    2.0954254795868175,
                    2.0782155841603616,
                    2.06595347924232,
                    2.0682219172711234,
                    2.0607481199335873,
                    2.058335772119793,
                    2.045786653677545,
                    2.013814573402082,
                    2.0159331584572038,
                    1.9932268988872763,
                    1.9905304860372983,
                    1.9924739482825164,
                    1.994603969936404,
                    1.9438029253271747,
                    1.9114976584153685,
                    1.8803092488307722,
                    1.8776210446054136,
                    1.8776210446054136,
                    1.8776210446054136,
                    1.8776210446054136,
                    1.8794494542002849,
                    1.9006540904351124,
                    1.883756152972359,
                    1.8718094157685763,
                    1.8502784857925043,
                    1.8427980443775855,
                    1.8589803774293492,
                    1.8563660228764298,
                    1.8582662422767273,
                    1.8508132361189007,
                    1.8332402754513308,
                    1.8305147742055379,
                    1.8370755242159955,
                    1.81313598519889,
                    1.8051206483698656,
                    1.8116608423763105,
                    1.7998163452708906,
                    1.797175866495507,
                    1.785387291704816,
                    1.7500683620453925,
                    1.7475197961226905,
                    1.7448200654307524,
                    1.7468239564428312,
                    1.730699528814788,
                    1.7230491655390168,
                    1.7204107368041794,
                    1.7179348803741679,
                    1.7284390591589451,
                    1.7380867709815078,
                    1.7565649396735274,
                    1.7615296096308755,
                    1.7798781026411095,
                    1.8297498903027642,
                    1.7732049036777582,
                    1.7476406850751487,
                    1.7133141511901648,
                    1.7139377066295458,
                    1.724435992739217,
                    1.6991547352078662,
                    1.6998020483690508,
                    1.6918584678804536,
                    1.692518639129317,
                    1.685823754789272,
                    1.707731520815633,
                    1.6912512716174974,
                    1.6876744776245665,
                    1.6966320587490504,
                    1.711265833403238,
                    1.6913673281420079,
                    1.6766766766766767,
                    1.6859545416701358,
                    1.688881529927974,
                    1.6775473101396579,
                    1.6670782909360335,
                    1.6639276910435497,
                    1.6422910368494157,
                    1.6473658457021692,
                    1.6442816442816444,
                    1.6330841728956775,
                    1.6300381153191144,
                    1.6289008950891057,
                    1.6419832582099163,
                    1.6389491443721378,
                    1.651832250821907,
                    1.6968144709460542,
                    1.7508953442101074,
                    1.6919532925569942,
                    1.6809387884554392,
                    1.7098076466397532,
                    1.7271157167530224,
                    1.7241379310344829,
                    1.736953290039903,
                    1.780971723168255,
                    1.8265195087828385,
                    1.8235431054551097,
                    1.8128292531763246,
                    1.8174787316318637,
                    1.9303528685043627,
                    1.8592501536570376,
                    1.8791225648105538,
                    1.8914158817673634,
                    2.0105496521672657,
                    1.9690147294512708,
                    1.9896719319562575,
                    2.0697498104624716,
                    2.111716621253406,
                    2.1384313132839656,
                    2.119794809897405,
                    2.184356703197718,
                    2.3006594724220624,
                    2.4465060601526263,
                    2.4497722010605725,
                    2.3264484378495265,
                    2.3223030123163673,
                    2.3405673653803425,
                    2.248021888634179,
                    2.111324376199616,
                    2.0047169811320753,
                    2.0607216192431794,
                    2.1084998901822973,
                    2.053793305072358,
                    2.0649398029916086,
                    2.0543454505718657,
                    2.0513192229631776,
                    2.062377885519936,
                    2.073399797717093,
                    2.0555355210962856,
                    2.059331797235023,
                    2.0514653323802716,
                    2.0537688083862227,
                    2.063322660974742,
                    2.037339390927806,
                    2.0585125132181883,
                    2.039668026445351,
                    2.0210526315789474,
                    2.0163831127914302,
                    2.004749930148086,
                    1.9840443981963232,
                    1.9724548411654785,
                    1.9334346084794918,
                    1.9290389252497415,
                    1.828304350814489,
                    1.8566552901023892,
                    1.906967241027038,
                    1.8753822110484475,
                    1.8303843807199514,
                    1.81264795400744,
                    1.8068242880171952,
                    1.82951347004423,
                    1.8186680930730141,
                    1.821092655593356,
                    1.816971713810316,
                    1.870826998082898,
                    1.866631488688081,
                    1.8624547548535704,
                    1.8492925304376442,
                    1.8581746552856204,
                    1.8474842767295598,
                    1.8610098906819363,
                    1.856901701077782,
                    1.8397356999416985,
                    1.8355739400206825,
                    1.805636164312891,
                    1.7806815270304892,
                    1.776698408640634,
                    1.7407383791366446,
                    1.7559485939686983,
                    1.7929038751887267,
                    1.8014059753954306,
                    1.7910821643286572,
                    1.7683079230192453,
                    1.7760665714463144,
                    1.7850502045370025,
                    1.7754407670893906,
                    1.7719330740260542,
                    1.76854818831649,
                    1.7705078723273908,
                    1.7609293793946803,
                    1.75149517881118,
                    1.7541722499695456,
                    1.7386018237082066,
                    1.7285144445787501,
                    1.7312100373989625,
                    1.7037928958458761,
                    1.712431652947185,
                    1.7151424287856072,
                    1.7111853088480802,
                    1.7137756620053555,
                    1.7104169141228174,
                    1.7131001778304684,
                    1.7156717742412588,
                    1.7527349723561934,
                    1.784561197534488,
                    1.7750439367311073,
                    1.7715154349859683,
                    1.7715154349859683,
                    1.7656688493919552,
                    1.7737324231285374,
                    1.7825105619538169,
                    1.8192318798729425,
                    1.8213256484149856,
                    1.8061547310900201,
                    1.777955636862566,
                    1.7685988133272479,
                    1.7593805158571998,
                    1.7500994374680379,
                    1.7465267933087611,
                    1.7528039226737304,
                    1.754879352044547,
                    1.7288801571709234,
                    1.72796977441938,
                    1.7522457580126427,
                    1.7486580709423938,
                    1.7506074663132316,
                    1.7699602999558888,
                    1.7672886937431396,
                    1.7590968873301185,
                    1.7837601225651127,
                    1.8355640535372848,
                    1.8654884634266076,
                    1.9111738516668475,
                    1.9136940258050525,
                    1.8728010825439783,
                    1.8483489163919364
                  ],
                  "yaxis": "y",
                  "type": "scatter"
                }
              ],
              "layout": {
                "template": {
                  "data": {
                    "histogram2dcontour": [
                      {
                        "type": "histogram2dcontour",
                        "colorbar": {
                          "outlinewidth": 0,
                          "ticks": ""
                        },
                        "colorscale": [
                          [
                            0,
                            "#0d0887"
                          ],
                          [
                            0.1111111111111111,
                            "#46039f"
                          ],
                          [
                            0.2222222222222222,
                            "#7201a8"
                          ],
                          [
                            0.3333333333333333,
                            "#9c179e"
                          ],
                          [
                            0.4444444444444444,
                            "#bd3786"
                          ],
                          [
                            0.5555555555555556,
                            "#d8576b"
                          ],
                          [
                            0.6666666666666666,
                            "#ed7953"
                          ],
                          [
                            0.7777777777777778,
                            "#fb9f3a"
                          ],
                          [
                            0.8888888888888888,
                            "#fdca26"
                          ],
                          [
                            1,
                            "#f0f921"
                          ]
                        ]
                      }
                    ],
                    "choropleth": [
                      {
                        "type": "choropleth",
                        "colorbar": {
                          "outlinewidth": 0,
                          "ticks": ""
                        }
                      }
                    ],
                    "histogram2d": [
                      {
                        "type": "histogram2d",
                        "colorbar": {
                          "outlinewidth": 0,
                          "ticks": ""
                        },
                        "colorscale": [
                          [
                            0,
                            "#0d0887"
                          ],
                          [
                            0.1111111111111111,
                            "#46039f"
                          ],
                          [
                            0.2222222222222222,
                            "#7201a8"
                          ],
                          [
                            0.3333333333333333,
                            "#9c179e"
                          ],
                          [
                            0.4444444444444444,
                            "#bd3786"
                          ],
                          [
                            0.5555555555555556,
                            "#d8576b"
                          ],
                          [
                            0.6666666666666666,
                            "#ed7953"
                          ],
                          [
                            0.7777777777777778,
                            "#fb9f3a"
                          ],
                          [
                            0.8888888888888888,
                            "#fdca26"
                          ],
                          [
                            1,
                            "#f0f921"
                          ]
                        ]
                      }
                    ],
                    "heatmap": [
                      {
                        "type": "heatmap",
                        "colorbar": {
                          "outlinewidth": 0,
                          "ticks": ""
                        },
                        "colorscale": [
                          [
                            0,
                            "#0d0887"
                          ],
                          [
                            0.1111111111111111,
                            "#46039f"
                          ],
                          [
                            0.2222222222222222,
                            "#7201a8"
                          ],
                          [
                            0.3333333333333333,
                            "#9c179e"
                          ],
                          [
                            0.4444444444444444,
                            "#bd3786"
                          ],
                          [
                            0.5555555555555556,
                            "#d8576b"
                          ],
                          [
                            0.6666666666666666,
                            "#ed7953"
                          ],
                          [
                            0.7777777777777778,
                            "#fb9f3a"
                          ],
                          [
                            0.8888888888888888,
                            "#fdca26"
                          ],
                          [
                            1,
                            "#f0f921"
                          ]
                        ]
                      }
                    ],
                    "heatmapgl": [
                      {
                        "type": "heatmapgl",
                        "colorbar": {
                          "outlinewidth": 0,
                          "ticks": ""
                        },
                        "colorscale": [
                          [
                            0,
                            "#0d0887"
                          ],
                          [
                            0.1111111111111111,
                            "#46039f"
                          ],
                          [
                            0.2222222222222222,
                            "#7201a8"
                          ],
                          [
                            0.3333333333333333,
                            "#9c179e"
                          ],
                          [
                            0.4444444444444444,
                            "#bd3786"
                          ],
                          [
                            0.5555555555555556,
                            "#d8576b"
                          ],
                          [
                            0.6666666666666666,
                            "#ed7953"
                          ],
                          [
                            0.7777777777777778,
                            "#fb9f3a"
                          ],
                          [
                            0.8888888888888888,
                            "#fdca26"
                          ],
                          [
                            1,
                            "#f0f921"
                          ]
                        ]
                      }
                    ],
                    "contourcarpet": [
                      {
                        "type": "contourcarpet",
                        "colorbar": {
                          "outlinewidth": 0,
                          "ticks": ""
                        }
                      }
                    ],
                    "contour": [
                      {
                        "type": "contour",
                        "colorbar": {
                          "outlinewidth": 0,
                          "ticks": ""
                        },
                        "colorscale": [
                          [
                            0,
                            "#0d0887"
                          ],
                          [
                            0.1111111111111111,
                            "#46039f"
                          ],
                          [
                            0.2222222222222222,
                            "#7201a8"
                          ],
                          [
                            0.3333333333333333,
                            "#9c179e"
                          ],
                          [
                            0.4444444444444444,
                            "#bd3786"
                          ],
                          [
                            0.5555555555555556,
                            "#d8576b"
                          ],
                          [
                            0.6666666666666666,
                            "#ed7953"
                          ],
                          [
                            0.7777777777777778,
                            "#fb9f3a"
                          ],
                          [
                            0.8888888888888888,
                            "#fdca26"
                          ],
                          [
                            1,
                            "#f0f921"
                          ]
                        ]
                      }
                    ],
                    "surface": [
                      {
                        "type": "surface",
                        "colorbar": {
                          "outlinewidth": 0,
                          "ticks": ""
                        },
                        "colorscale": [
                          [
                            0,
                            "#0d0887"
                          ],
                          [
                            0.1111111111111111,
                            "#46039f"
                          ],
                          [
                            0.2222222222222222,
                            "#7201a8"
                          ],
                          [
                            0.3333333333333333,
                            "#9c179e"
                          ],
                          [
                            0.4444444444444444,
                            "#bd3786"
                          ],
                          [
                            0.5555555555555556,
                            "#d8576b"
                          ],
                          [
                            0.6666666666666666,
                            "#ed7953"
                          ],
                          [
                            0.7777777777777778,
                            "#fb9f3a"
                          ],
                          [
                            0.8888888888888888,
                            "#fdca26"
                          ],
                          [
                            1,
                            "#f0f921"
                          ]
                        ]
                      }
                    ],
                    "mesh3d": [
                      {
                        "type": "mesh3d",
                        "colorbar": {
                          "outlinewidth": 0,
                          "ticks": ""
                        }
                      }
                    ],
                    "scatter": [
                      {
                        "fillpattern": {
                          "fillmode": "overlay",
                          "size": 10,
                          "solidity": 0.2
                        },
                        "type": "scatter"
                      }
                    ],
                    "parcoords": [
                      {
                        "type": "parcoords",
                        "line": {
                          "colorbar": {
                            "outlinewidth": 0,
                            "ticks": ""
                          }
                        }
                      }
                    ],
                    "scatterpolargl": [
                      {
                        "type": "scatterpolargl",
                        "marker": {
                          "colorbar": {
                            "outlinewidth": 0,
                            "ticks": ""
                          }
                        }
                      }
                    ],
                    "bar": [
                      {
                        "error_x": {
                          "color": "#2a3f5f"
                        },
                        "error_y": {
                          "color": "#2a3f5f"
                        },
                        "marker": {
                          "line": {
                            "color": "#E5ECF6",
                            "width": 0.5
                          },
                          "pattern": {
                            "fillmode": "overlay",
                            "size": 10,
                            "solidity": 0.2
                          }
                        },
                        "type": "bar"
                      }
                    ],
                    "scattergeo": [
                      {
                        "type": "scattergeo",
                        "marker": {
                          "colorbar": {
                            "outlinewidth": 0,
                            "ticks": ""
                          }
                        }
                      }
                    ],
                    "scatterpolar": [
                      {
                        "type": "scatterpolar",
                        "marker": {
                          "colorbar": {
                            "outlinewidth": 0,
                            "ticks": ""
                          }
                        }
                      }
                    ],
                    "histogram": [
                      {
                        "marker": {
                          "pattern": {
                            "fillmode": "overlay",
                            "size": 10,
                            "solidity": 0.2
                          }
                        },
                        "type": "histogram"
                      }
                    ],
                    "scattergl": [
                      {
                        "type": "scattergl",
                        "marker": {
                          "colorbar": {
                            "outlinewidth": 0,
                            "ticks": ""
                          }
                        }
                      }
                    ],
                    "scatter3d": [
                      {
                        "type": "scatter3d",
                        "line": {
                          "colorbar": {
                            "outlinewidth": 0,
                            "ticks": ""
                          }
                        },
                        "marker": {
                          "colorbar": {
                            "outlinewidth": 0,
                            "ticks": ""
                          }
                        }
                      }
                    ],
                    "scattermapbox": [
                      {
                        "type": "scattermapbox",
                        "marker": {
                          "colorbar": {
                            "outlinewidth": 0,
                            "ticks": ""
                          }
                        }
                      }
                    ],
                    "scatterternary": [
                      {
                        "type": "scatterternary",
                        "marker": {
                          "colorbar": {
                            "outlinewidth": 0,
                            "ticks": ""
                          }
                        }
                      }
                    ],
                    "scattercarpet": [
                      {
                        "type": "scattercarpet",
                        "marker": {
                          "colorbar": {
                            "outlinewidth": 0,
                            "ticks": ""
                          }
                        }
                      }
                    ],
                    "carpet": [
                      {
                        "aaxis": {
                          "endlinecolor": "#2a3f5f",
                          "gridcolor": "white",
                          "linecolor": "white",
                          "minorgridcolor": "white",
                          "startlinecolor": "#2a3f5f"
                        },
                        "baxis": {
                          "endlinecolor": "#2a3f5f",
                          "gridcolor": "white",
                          "linecolor": "white",
                          "minorgridcolor": "white",
                          "startlinecolor": "#2a3f5f"
                        },
                        "type": "carpet"
                      }
                    ],
                    "table": [
                      {
                        "cells": {
                          "fill": {
                            "color": "#EBF0F8"
                          },
                          "line": {
                            "color": "white"
                          }
                        },
                        "header": {
                          "fill": {
                            "color": "#C8D4E3"
                          },
                          "line": {
                            "color": "white"
                          }
                        },
                        "type": "table"
                      }
                    ],
                    "barpolar": [
                      {
                        "marker": {
                          "line": {
                            "color": "#E5ECF6",
                            "width": 0.5
                          },
                          "pattern": {
                            "fillmode": "overlay",
                            "size": 10,
                            "solidity": 0.2
                          }
                        },
                        "type": "barpolar"
                      }
                    ],
                    "pie": [
                      {
                        "automargin": true,
                        "type": "pie"
                      }
                    ]
                  },
                  "layout": {
                    "autotypenumbers": "strict",
                    "colorway": [
                      "#636efa",
                      "#EF553B",
                      "#00cc96",
                      "#ab63fa",
                      "#FFA15A",
                      "#19d3f3",
                      "#FF6692",
                      "#B6E880",
                      "#FF97FF",
                      "#FECB52"
                    ],
                    "font": {
                      "color": "#2a3f5f"
                    },
                    "hovermode": "closest",
                    "hoverlabel": {
                      "align": "left"
                    },
                    "paper_bgcolor": "white",
                    "plot_bgcolor": "#E5ECF6",
                    "polar": {
                      "bgcolor": "#E5ECF6",
                      "angularaxis": {
                        "gridcolor": "white",
                        "linecolor": "white",
                        "ticks": ""
                      },
                      "radialaxis": {
                        "gridcolor": "white",
                        "linecolor": "white",
                        "ticks": ""
                      }
                    },
                    "ternary": {
                      "bgcolor": "#E5ECF6",
                      "aaxis": {
                        "gridcolor": "white",
                        "linecolor": "white",
                        "ticks": ""
                      },
                      "baxis": {
                        "gridcolor": "white",
                        "linecolor": "white",
                        "ticks": ""
                      },
                      "caxis": {
                        "gridcolor": "white",
                        "linecolor": "white",
                        "ticks": ""
                      }
                    },
                    "coloraxis": {
                      "colorbar": {
                        "outlinewidth": 0,
                        "ticks": ""
                      }
                    },
                    "colorscale": {
                      "sequential": [
                        [
                          0,
                          "#0d0887"
                        ],
                        [
                          0.1111111111111111,
                          "#46039f"
                        ],
                        [
                          0.2222222222222222,
                          "#7201a8"
                        ],
                        [
                          0.3333333333333333,
                          "#9c179e"
                        ],
                        [
                          0.4444444444444444,
                          "#bd3786"
                        ],
                        [
                          0.5555555555555556,
                          "#d8576b"
                        ],
                        [
                          0.6666666666666666,
                          "#ed7953"
                        ],
                        [
                          0.7777777777777778,
                          "#fb9f3a"
                        ],
                        [
                          0.8888888888888888,
                          "#fdca26"
                        ],
                        [
                          1,
                          "#f0f921"
                        ]
                      ],
                      "sequentialminus": [
                        [
                          0,
                          "#0d0887"
                        ],
                        [
                          0.1111111111111111,
                          "#46039f"
                        ],
                        [
                          0.2222222222222222,
                          "#7201a8"
                        ],
                        [
                          0.3333333333333333,
                          "#9c179e"
                        ],
                        [
                          0.4444444444444444,
                          "#bd3786"
                        ],
                        [
                          0.5555555555555556,
                          "#d8576b"
                        ],
                        [
                          0.6666666666666666,
                          "#ed7953"
                        ],
                        [
                          0.7777777777777778,
                          "#fb9f3a"
                        ],
                        [
                          0.8888888888888888,
                          "#fdca26"
                        ],
                        [
                          1,
                          "#f0f921"
                        ]
                      ],
                      "diverging": [
                        [
                          0,
                          "#8e0152"
                        ],
                        [
                          0.1,
                          "#c51b7d"
                        ],
                        [
                          0.2,
                          "#de77ae"
                        ],
                        [
                          0.3,
                          "#f1b6da"
                        ],
                        [
                          0.4,
                          "#fde0ef"
                        ],
                        [
                          0.5,
                          "#f7f7f7"
                        ],
                        [
                          0.6,
                          "#e6f5d0"
                        ],
                        [
                          0.7,
                          "#b8e186"
                        ],
                        [
                          0.8,
                          "#7fbc41"
                        ],
                        [
                          0.9,
                          "#4d9221"
                        ],
                        [
                          1,
                          "#276419"
                        ]
                      ]
                    },
                    "xaxis": {
                      "gridcolor": "white",
                      "linecolor": "white",
                      "ticks": "",
                      "title": {
                        "standoff": 15
                      },
                      "zerolinecolor": "white",
                      "automargin": true,
                      "zerolinewidth": 2
                    },
                    "yaxis": {
                      "gridcolor": "white",
                      "linecolor": "white",
                      "ticks": "",
                      "title": {
                        "standoff": 15
                      },
                      "zerolinecolor": "white",
                      "automargin": true,
                      "zerolinewidth": 2
                    },
                    "scene": {
                      "xaxis": {
                        "backgroundcolor": "#E5ECF6",
                        "gridcolor": "white",
                        "linecolor": "white",
                        "showbackground": true,
                        "ticks": "",
                        "zerolinecolor": "white",
                        "gridwidth": 2
                      },
                      "yaxis": {
                        "backgroundcolor": "#E5ECF6",
                        "gridcolor": "white",
                        "linecolor": "white",
                        "showbackground": true,
                        "ticks": "",
                        "zerolinecolor": "white",
                        "gridwidth": 2
                      },
                      "zaxis": {
                        "backgroundcolor": "#E5ECF6",
                        "gridcolor": "white",
                        "linecolor": "white",
                        "showbackground": true,
                        "ticks": "",
                        "zerolinecolor": "white",
                        "gridwidth": 2
                      }
                    },
                    "shapedefaults": {
                      "line": {
                        "color": "#2a3f5f"
                      }
                    },
                    "annotationdefaults": {
                      "arrowcolor": "#2a3f5f",
                      "arrowhead": 0,
                      "arrowwidth": 1
                    },
                    "geo": {
                      "bgcolor": "white",
                      "landcolor": "#E5ECF6",
                      "subunitcolor": "white",
                      "showland": true,
                      "showlakes": true,
                      "lakecolor": "white"
                    },
                    "title": {
                      "x": 0.05
                    },
                    "mapbox": {
                      "style": "light"
                    }
                  }
                },
                "xaxis": {
                  "anchor": "y",
                  "domain": [
                    0,
                    1
                  ],
                  "title": {
                    "text": "fecha"
                  }
                },
                "yaxis": {
                  "anchor": "x",
                  "domain": [
                    0,
                    1
                  ],
                  "title": {
                    "text": "value"
                  }
                },
                "legend": {
                  "title": {
                    "text": "variable"
                  },
                  "tracegroupgap": 0
                },
                "title": {
                  "text": "USD/UVA"
                }
              },
              "config": {
                "plotlyServerURL": "https://plot.ly"
              }
            },
            "text/html": [
              "<div>                            <div id=\"e65fd192-0eb2-49c6-984a-cc1a2997a82e\" class=\"plotly-graph-div\" style=\"height:525px; width:100%;\"></div>            <script type=\"text/javascript\">                require([\"plotly\"], function(Plotly) {                    window.PLOTLYENV=window.PLOTLYENV || {};                                    if (document.getElementById(\"e65fd192-0eb2-49c6-984a-cc1a2997a82e\")) {                    Plotly.newPlot(                        \"e65fd192-0eb2-49c6-984a-cc1a2997a82e\",                        [{\"hovertemplate\":\"variable=usd_en_uva\\u003cbr\\u003efecha=%{x}\\u003cbr\\u003evalue=%{y}\\u003cextra\\u003e\\u003c\\u002fextra\\u003e\",\"legendgroup\":\"usd_en_uva\",\"line\":{\"color\":\"#636efa\",\"dash\":\"solid\"},\"marker\":{\"symbol\":\"circle\"},\"mode\":\"lines\",\"name\":\"usd_en_uva\",\"orientation\":\"v\",\"showlegend\":true,\"x\":[\"2022-01-03T00:00:00\",\"2022-01-04T00:00:00\",\"2022-01-05T00:00:00\",\"2022-01-06T00:00:00\",\"2022-01-07T00:00:00\",\"2022-01-10T00:00:00\",\"2022-01-11T00:00:00\",\"2022-01-12T00:00:00\",\"2022-01-13T00:00:00\",\"2022-01-14T00:00:00\",\"2022-01-17T00:00:00\",\"2022-01-18T00:00:00\",\"2022-01-19T00:00:00\",\"2022-01-20T00:00:00\",\"2022-01-21T00:00:00\",\"2022-01-24T00:00:00\",\"2022-01-25T00:00:00\",\"2022-01-26T00:00:00\",\"2022-01-27T00:00:00\",\"2022-01-28T00:00:00\",\"2022-01-31T00:00:00\",\"2022-02-01T00:00:00\",\"2022-02-02T00:00:00\",\"2022-02-03T00:00:00\",\"2022-02-04T00:00:00\",\"2022-02-07T00:00:00\",\"2022-02-08T00:00:00\",\"2022-02-09T00:00:00\",\"2022-02-10T00:00:00\",\"2022-02-11T00:00:00\",\"2022-02-14T00:00:00\",\"2022-02-15T00:00:00\",\"2022-02-16T00:00:00\",\"2022-02-17T00:00:00\",\"2022-02-18T00:00:00\",\"2022-02-21T00:00:00\",\"2022-02-22T00:00:00\",\"2022-02-23T00:00:00\",\"2022-02-24T00:00:00\",\"2022-02-25T00:00:00\",\"2022-03-02T00:00:00\",\"2022-03-03T00:00:00\",\"2022-03-04T00:00:00\",\"2022-03-07T00:00:00\",\"2022-03-07T00:00:00\",\"2022-03-07T00:00:00\",\"2022-03-07T00:00:00\",\"2022-03-08T00:00:00\",\"2022-03-09T00:00:00\",\"2022-03-10T00:00:00\",\"2022-03-11T00:00:00\",\"2022-03-14T00:00:00\",\"2022-03-15T00:00:00\",\"2022-03-16T00:00:00\",\"2022-03-17T00:00:00\",\"2022-03-18T00:00:00\",\"2022-03-21T00:00:00\",\"2022-03-22T00:00:00\",\"2022-03-23T00:00:00\",\"2022-03-25T00:00:00\",\"2022-03-28T00:00:00\",\"2022-03-29T00:00:00\",\"2022-03-30T00:00:00\",\"2022-03-31T00:00:00\",\"2022-04-01T00:00:00\",\"2022-04-04T00:00:00\",\"2022-04-05T00:00:00\",\"2022-04-06T00:00:00\",\"2022-04-07T00:00:00\",\"2022-04-08T00:00:00\",\"2022-04-11T00:00:00\",\"2022-04-12T00:00:00\",\"2022-04-13T00:00:00\",\"2022-04-18T00:00:00\",\"2022-04-19T00:00:00\",\"2022-04-20T00:00:00\",\"2022-04-21T00:00:00\",\"2022-04-22T00:00:00\",\"2022-04-25T00:00:00\",\"2022-04-26T00:00:00\",\"2022-04-27T00:00:00\",\"2022-04-28T00:00:00\",\"2022-04-29T00:00:00\",\"2022-05-02T00:00:00\",\"2022-05-03T00:00:00\",\"2022-05-04T00:00:00\",\"2022-05-05T00:00:00\",\"2022-05-06T00:00:00\",\"2022-05-09T00:00:00\",\"2022-05-10T00:00:00\",\"2022-05-11T00:00:00\",\"2022-05-12T00:00:00\",\"2022-05-13T00:00:00\",\"2022-05-16T00:00:00\",\"2022-05-17T00:00:00\",\"2022-05-19T00:00:00\",\"2022-05-20T00:00:00\",\"2022-05-23T00:00:00\",\"2022-05-24T00:00:00\",\"2022-05-26T00:00:00\",\"2022-05-27T00:00:00\",\"2022-05-30T00:00:00\",\"2022-05-31T00:00:00\",\"2022-06-01T00:00:00\",\"2022-06-02T00:00:00\",\"2022-06-03T00:00:00\",\"2022-06-06T00:00:00\",\"2022-06-07T00:00:00\",\"2022-06-08T00:00:00\",\"2022-06-09T00:00:00\",\"2022-06-10T00:00:00\",\"2022-06-13T00:00:00\",\"2022-06-14T00:00:00\",\"2022-06-15T00:00:00\",\"2022-06-16T00:00:00\",\"2022-06-21T00:00:00\",\"2022-06-22T00:00:00\",\"2022-06-23T00:00:00\",\"2022-06-24T00:00:00\",\"2022-06-27T00:00:00\",\"2022-06-28T00:00:00\",\"2022-06-29T00:00:00\",\"2022-06-30T00:00:00\",\"2022-07-01T00:00:00\",\"2022-07-04T00:00:00\",\"2022-07-05T00:00:00\",\"2022-07-06T00:00:00\",\"2022-07-07T00:00:00\",\"2022-07-08T00:00:00\",\"2022-07-11T00:00:00\",\"2022-07-12T00:00:00\",\"2022-07-13T00:00:00\",\"2022-07-14T00:00:00\",\"2022-07-15T00:00:00\",\"2022-07-18T00:00:00\",\"2022-07-19T00:00:00\",\"2022-07-20T00:00:00\",\"2022-07-21T00:00:00\",\"2022-07-22T00:00:00\",\"2022-07-25T00:00:00\",\"2022-07-26T00:00:00\",\"2022-07-27T00:00:00\",\"2022-07-28T00:00:00\",\"2022-07-29T00:00:00\",\"2022-08-01T00:00:00\",\"2022-08-02T00:00:00\",\"2022-08-03T00:00:00\",\"2022-08-04T00:00:00\",\"2022-08-05T00:00:00\",\"2022-08-08T00:00:00\",\"2022-08-09T00:00:00\",\"2022-08-10T00:00:00\",\"2022-08-11T00:00:00\",\"2022-08-12T00:00:00\",\"2022-08-16T00:00:00\",\"2022-08-17T00:00:00\",\"2022-08-18T00:00:00\",\"2022-08-19T00:00:00\",\"2022-08-22T00:00:00\",\"2022-08-23T00:00:00\",\"2022-08-24T00:00:00\",\"2022-08-25T00:00:00\",\"2022-08-26T00:00:00\",\"2022-08-29T00:00:00\",\"2022-08-30T00:00:00\",\"2022-08-31T00:00:00\",\"2022-09-01T00:00:00\",\"2022-09-02T00:00:00\",\"2022-09-05T00:00:00\",\"2022-09-06T00:00:00\",\"2022-09-07T00:00:00\",\"2022-09-08T00:00:00\",\"2022-09-09T00:00:00\",\"2022-09-12T00:00:00\",\"2022-09-13T00:00:00\",\"2022-09-14T00:00:00\",\"2022-09-15T00:00:00\",\"2022-09-16T00:00:00\",\"2022-09-19T00:00:00\",\"2022-09-20T00:00:00\",\"2022-09-21T00:00:00\",\"2022-09-22T00:00:00\",\"2022-09-22T00:00:00\",\"2022-09-23T00:00:00\",\"2022-09-26T00:00:00\",\"2022-09-27T00:00:00\",\"2022-09-28T00:00:00\",\"2022-09-29T00:00:00\",\"2022-09-30T00:00:00\",\"2022-10-03T00:00:00\",\"2022-10-04T00:00:00\",\"2022-10-05T00:00:00\",\"2022-10-06T00:00:00\",\"2022-10-11T00:00:00\",\"2022-10-12T00:00:00\",\"2022-10-13T00:00:00\",\"2022-10-14T00:00:00\",\"2022-10-17T00:00:00\",\"2022-10-18T00:00:00\",\"2022-10-19T00:00:00\",\"2022-10-20T00:00:00\",\"2022-10-21T00:00:00\",\"2022-10-24T00:00:00\",\"2022-10-25T00:00:00\",\"2022-10-26T00:00:00\",\"2022-10-27T00:00:00\",\"2022-10-28T00:00:00\",\"2022-10-31T00:00:00\",\"2022-11-01T00:00:00\",\"2022-11-02T00:00:00\",\"2022-11-03T00:00:00\",\"2022-11-04T00:00:00\",\"2022-11-07T00:00:00\",\"2022-11-08T00:00:00\",\"2022-11-09T00:00:00\",\"2022-11-10T00:00:00\",\"2022-11-11T00:00:00\",\"2022-11-14T00:00:00\",\"2022-11-15T00:00:00\",\"2022-11-16T00:00:00\",\"2022-11-17T00:00:00\",\"2022-11-18T00:00:00\",\"2022-11-18T00:00:00\",\"2022-11-18T00:00:00\",\"2022-11-22T00:00:00\",\"2022-11-23T00:00:00\",\"2022-11-24T00:00:00\",\"2022-11-25T00:00:00\",\"2022-11-28T00:00:00\",\"2022-11-29T00:00:00\",\"2022-11-30T00:00:00\",\"2022-12-01T00:00:00\",\"2022-12-02T00:00:00\",\"2022-12-05T00:00:00\",\"2022-12-06T00:00:00\",\"2022-12-07T00:00:00\",\"2022-12-12T00:00:00\",\"2022-12-13T00:00:00\",\"2022-12-14T00:00:00\",\"2022-12-15T00:00:00\",\"2022-12-16T00:00:00\",\"2022-12-19T00:00:00\",\"2022-12-20T00:00:00\",\"2022-12-21T00:00:00\",\"2022-12-22T00:00:00\",\"2022-12-23T00:00:00\",\"2022-12-26T00:00:00\",\"2022-12-27T00:00:00\",\"2022-12-28T00:00:00\",\"2022-12-29T00:00:00\",\"2022-12-30T00:00:00\"],\"xaxis\":\"x\",\"y\":[2.070096331215413,2.070128808014721,2.078864031055266,2.0873736858221905,2.080571137174911,2.0584938347090596,2.084180561203741,2.0774075579032916,2.0858708891595614,2.084178498985801,2.0774219700040533,2.091120315183352,2.108768035516093,2.116295475158722,2.1640664318067437,2.1614557152910425,2.1586697385555444,2.1710855427713858,2.1834715699010694,2.0810460125761057,2.0835410228292295,2.0858164481525625,2.1081349206349205,2.1006738010305193,2.0783847980997625,2.0759193357058128,2.078203486654191,2.0954254795868175,2.0782155841603616,2.06595347924232,2.0682219172711234,2.0607481199335873,2.058335772119793,2.045786653677545,2.013814573402082,2.0159331584572038,1.9932268988872763,1.9905304860372983,1.9924739482825164,1.994603969936404,1.9438029253271747,1.9114976584153685,1.8803092488307722,1.8776210446054136,1.8776210446054136,1.8776210446054136,1.8776210446054136,1.8794494542002849,1.9006540904351124,1.883756152972359,1.8718094157685763,1.8502784857925043,1.8427980443775855,1.8589803774293492,1.8563660228764298,1.8582662422767273,1.8508132361189007,1.8332402754513308,1.8305147742055379,1.8370755242159955,1.81313598519889,1.8051206483698656,1.8116608423763105,1.7998163452708906,1.797175866495507,1.785387291704816,1.7500683620453925,1.7475197961226905,1.7448200654307524,1.7468239564428312,1.730699528814788,1.7230491655390168,1.7204107368041794,1.7179348803741679,1.7284390591589451,1.7380867709815078,1.7565649396735274,1.7615296096308755,1.7798781026411095,1.8297498903027642,1.7732049036777582,1.7476406850751487,1.7133141511901648,1.7139377066295458,1.724435992739217,1.6991547352078662,1.6998020483690508,1.6918584678804536,1.692518639129317,1.685823754789272,1.707731520815633,1.6912512716174974,1.6876744776245665,1.6966320587490504,1.711265833403238,1.6913673281420079,1.6766766766766767,1.6859545416701358,1.688881529927974,1.6775473101396579,1.6670782909360335,1.6639276910435497,1.6422910368494157,1.6473658457021692,1.6442816442816444,1.6330841728956775,1.6300381153191144,1.6289008950891057,1.6419832582099163,1.6389491443721378,1.651832250821907,1.6968144709460542,1.7508953442101074,1.6919532925569942,1.6809387884554392,1.7098076466397532,1.7271157167530224,1.7241379310344829,1.736953290039903,1.780971723168255,1.8265195087828385,1.8235431054551097,1.8128292531763246,1.8174787316318637,1.9303528685043627,1.8592501536570376,1.8791225648105538,1.8914158817673634,2.0105496521672657,1.9690147294512708,1.9896719319562575,2.0697498104624716,2.111716621253406,2.1384313132839656,2.119794809897405,2.184356703197718,2.3006594724220624,2.4465060601526263,2.4497722010605725,2.3264484378495265,2.3223030123163673,2.3405673653803425,2.248021888634179,2.111324376199616,2.0047169811320753,2.0607216192431794,2.1084998901822973,2.053793305072358,2.0649398029916086,2.0543454505718657,2.0513192229631776,2.062377885519936,2.073399797717093,2.0555355210962856,2.059331797235023,2.0514653323802716,2.0537688083862227,2.063322660974742,2.037339390927806,2.0585125132181883,2.039668026445351,2.0210526315789474,2.0163831127914302,2.004749930148086,1.9840443981963232,1.9724548411654785,1.9334346084794918,1.9290389252497415,1.828304350814489,1.8566552901023892,1.906967241027038,1.8753822110484475,1.8303843807199514,1.81264795400744,1.8068242880171952,1.82951347004423,1.8186680930730141,1.821092655593356,1.816971713810316,1.870826998082898,1.866631488688081,1.8624547548535704,1.8492925304376442,1.8581746552856204,1.8474842767295598,1.8610098906819363,1.856901701077782,1.8397356999416985,1.8355739400206825,1.805636164312891,1.7806815270304892,1.776698408640634,1.7407383791366446,1.7559485939686983,1.7929038751887267,1.8014059753954306,1.7910821643286572,1.7683079230192453,1.7760665714463144,1.7850502045370025,1.7754407670893906,1.7719330740260542,1.76854818831649,1.7705078723273908,1.7609293793946803,1.75149517881118,1.7541722499695456,1.7386018237082066,1.7285144445787501,1.7312100373989625,1.7037928958458761,1.712431652947185,1.7151424287856072,1.7111853088480802,1.7137756620053555,1.7104169141228174,1.7131001778304684,1.7156717742412588,1.7527349723561934,1.784561197534488,1.7750439367311073,1.7715154349859683,1.7715154349859683,1.7656688493919552,1.7737324231285374,1.7825105619538169,1.8192318798729425,1.8213256484149856,1.8061547310900201,1.777955636862566,1.7685988133272479,1.7593805158571998,1.7500994374680379,1.7465267933087611,1.7528039226737304,1.754879352044547,1.7288801571709234,1.72796977441938,1.7522457580126427,1.7486580709423938,1.7506074663132316,1.7699602999558888,1.7672886937431396,1.7590968873301185,1.7837601225651127,1.8355640535372848,1.8654884634266076,1.9111738516668475,1.9136940258050525,1.8728010825439783,1.8483489163919364],\"yaxis\":\"y\",\"type\":\"scatter\"}],                        {\"template\":{\"data\":{\"histogram2dcontour\":[{\"type\":\"histogram2dcontour\",\"colorbar\":{\"outlinewidth\":0,\"ticks\":\"\"},\"colorscale\":[[0.0,\"#0d0887\"],[0.1111111111111111,\"#46039f\"],[0.2222222222222222,\"#7201a8\"],[0.3333333333333333,\"#9c179e\"],[0.4444444444444444,\"#bd3786\"],[0.5555555555555556,\"#d8576b\"],[0.6666666666666666,\"#ed7953\"],[0.7777777777777778,\"#fb9f3a\"],[0.8888888888888888,\"#fdca26\"],[1.0,\"#f0f921\"]]}],\"choropleth\":[{\"type\":\"choropleth\",\"colorbar\":{\"outlinewidth\":0,\"ticks\":\"\"}}],\"histogram2d\":[{\"type\":\"histogram2d\",\"colorbar\":{\"outlinewidth\":0,\"ticks\":\"\"},\"colorscale\":[[0.0,\"#0d0887\"],[0.1111111111111111,\"#46039f\"],[0.2222222222222222,\"#7201a8\"],[0.3333333333333333,\"#9c179e\"],[0.4444444444444444,\"#bd3786\"],[0.5555555555555556,\"#d8576b\"],[0.6666666666666666,\"#ed7953\"],[0.7777777777777778,\"#fb9f3a\"],[0.8888888888888888,\"#fdca26\"],[1.0,\"#f0f921\"]]}],\"heatmap\":[{\"type\":\"heatmap\",\"colorbar\":{\"outlinewidth\":0,\"ticks\":\"\"},\"colorscale\":[[0.0,\"#0d0887\"],[0.1111111111111111,\"#46039f\"],[0.2222222222222222,\"#7201a8\"],[0.3333333333333333,\"#9c179e\"],[0.4444444444444444,\"#bd3786\"],[0.5555555555555556,\"#d8576b\"],[0.6666666666666666,\"#ed7953\"],[0.7777777777777778,\"#fb9f3a\"],[0.8888888888888888,\"#fdca26\"],[1.0,\"#f0f921\"]]}],\"heatmapgl\":[{\"type\":\"heatmapgl\",\"colorbar\":{\"outlinewidth\":0,\"ticks\":\"\"},\"colorscale\":[[0.0,\"#0d0887\"],[0.1111111111111111,\"#46039f\"],[0.2222222222222222,\"#7201a8\"],[0.3333333333333333,\"#9c179e\"],[0.4444444444444444,\"#bd3786\"],[0.5555555555555556,\"#d8576b\"],[0.6666666666666666,\"#ed7953\"],[0.7777777777777778,\"#fb9f3a\"],[0.8888888888888888,\"#fdca26\"],[1.0,\"#f0f921\"]]}],\"contourcarpet\":[{\"type\":\"contourcarpet\",\"colorbar\":{\"outlinewidth\":0,\"ticks\":\"\"}}],\"contour\":[{\"type\":\"contour\",\"colorbar\":{\"outlinewidth\":0,\"ticks\":\"\"},\"colorscale\":[[0.0,\"#0d0887\"],[0.1111111111111111,\"#46039f\"],[0.2222222222222222,\"#7201a8\"],[0.3333333333333333,\"#9c179e\"],[0.4444444444444444,\"#bd3786\"],[0.5555555555555556,\"#d8576b\"],[0.6666666666666666,\"#ed7953\"],[0.7777777777777778,\"#fb9f3a\"],[0.8888888888888888,\"#fdca26\"],[1.0,\"#f0f921\"]]}],\"surface\":[{\"type\":\"surface\",\"colorbar\":{\"outlinewidth\":0,\"ticks\":\"\"},\"colorscale\":[[0.0,\"#0d0887\"],[0.1111111111111111,\"#46039f\"],[0.2222222222222222,\"#7201a8\"],[0.3333333333333333,\"#9c179e\"],[0.4444444444444444,\"#bd3786\"],[0.5555555555555556,\"#d8576b\"],[0.6666666666666666,\"#ed7953\"],[0.7777777777777778,\"#fb9f3a\"],[0.8888888888888888,\"#fdca26\"],[1.0,\"#f0f921\"]]}],\"mesh3d\":[{\"type\":\"mesh3d\",\"colorbar\":{\"outlinewidth\":0,\"ticks\":\"\"}}],\"scatter\":[{\"fillpattern\":{\"fillmode\":\"overlay\",\"size\":10,\"solidity\":0.2},\"type\":\"scatter\"}],\"parcoords\":[{\"type\":\"parcoords\",\"line\":{\"colorbar\":{\"outlinewidth\":0,\"ticks\":\"\"}}}],\"scatterpolargl\":[{\"type\":\"scatterpolargl\",\"marker\":{\"colorbar\":{\"outlinewidth\":0,\"ticks\":\"\"}}}],\"bar\":[{\"error_x\":{\"color\":\"#2a3f5f\"},\"error_y\":{\"color\":\"#2a3f5f\"},\"marker\":{\"line\":{\"color\":\"#E5ECF6\",\"width\":0.5},\"pattern\":{\"fillmode\":\"overlay\",\"size\":10,\"solidity\":0.2}},\"type\":\"bar\"}],\"scattergeo\":[{\"type\":\"scattergeo\",\"marker\":{\"colorbar\":{\"outlinewidth\":0,\"ticks\":\"\"}}}],\"scatterpolar\":[{\"type\":\"scatterpolar\",\"marker\":{\"colorbar\":{\"outlinewidth\":0,\"ticks\":\"\"}}}],\"histogram\":[{\"marker\":{\"pattern\":{\"fillmode\":\"overlay\",\"size\":10,\"solidity\":0.2}},\"type\":\"histogram\"}],\"scattergl\":[{\"type\":\"scattergl\",\"marker\":{\"colorbar\":{\"outlinewidth\":0,\"ticks\":\"\"}}}],\"scatter3d\":[{\"type\":\"scatter3d\",\"line\":{\"colorbar\":{\"outlinewidth\":0,\"ticks\":\"\"}},\"marker\":{\"colorbar\":{\"outlinewidth\":0,\"ticks\":\"\"}}}],\"scattermapbox\":[{\"type\":\"scattermapbox\",\"marker\":{\"colorbar\":{\"outlinewidth\":0,\"ticks\":\"\"}}}],\"scatterternary\":[{\"type\":\"scatterternary\",\"marker\":{\"colorbar\":{\"outlinewidth\":0,\"ticks\":\"\"}}}],\"scattercarpet\":[{\"type\":\"scattercarpet\",\"marker\":{\"colorbar\":{\"outlinewidth\":0,\"ticks\":\"\"}}}],\"carpet\":[{\"aaxis\":{\"endlinecolor\":\"#2a3f5f\",\"gridcolor\":\"white\",\"linecolor\":\"white\",\"minorgridcolor\":\"white\",\"startlinecolor\":\"#2a3f5f\"},\"baxis\":{\"endlinecolor\":\"#2a3f5f\",\"gridcolor\":\"white\",\"linecolor\":\"white\",\"minorgridcolor\":\"white\",\"startlinecolor\":\"#2a3f5f\"},\"type\":\"carpet\"}],\"table\":[{\"cells\":{\"fill\":{\"color\":\"#EBF0F8\"},\"line\":{\"color\":\"white\"}},\"header\":{\"fill\":{\"color\":\"#C8D4E3\"},\"line\":{\"color\":\"white\"}},\"type\":\"table\"}],\"barpolar\":[{\"marker\":{\"line\":{\"color\":\"#E5ECF6\",\"width\":0.5},\"pattern\":{\"fillmode\":\"overlay\",\"size\":10,\"solidity\":0.2}},\"type\":\"barpolar\"}],\"pie\":[{\"automargin\":true,\"type\":\"pie\"}]},\"layout\":{\"autotypenumbers\":\"strict\",\"colorway\":[\"#636efa\",\"#EF553B\",\"#00cc96\",\"#ab63fa\",\"#FFA15A\",\"#19d3f3\",\"#FF6692\",\"#B6E880\",\"#FF97FF\",\"#FECB52\"],\"font\":{\"color\":\"#2a3f5f\"},\"hovermode\":\"closest\",\"hoverlabel\":{\"align\":\"left\"},\"paper_bgcolor\":\"white\",\"plot_bgcolor\":\"#E5ECF6\",\"polar\":{\"bgcolor\":\"#E5ECF6\",\"angularaxis\":{\"gridcolor\":\"white\",\"linecolor\":\"white\",\"ticks\":\"\"},\"radialaxis\":{\"gridcolor\":\"white\",\"linecolor\":\"white\",\"ticks\":\"\"}},\"ternary\":{\"bgcolor\":\"#E5ECF6\",\"aaxis\":{\"gridcolor\":\"white\",\"linecolor\":\"white\",\"ticks\":\"\"},\"baxis\":{\"gridcolor\":\"white\",\"linecolor\":\"white\",\"ticks\":\"\"},\"caxis\":{\"gridcolor\":\"white\",\"linecolor\":\"white\",\"ticks\":\"\"}},\"coloraxis\":{\"colorbar\":{\"outlinewidth\":0,\"ticks\":\"\"}},\"colorscale\":{\"sequential\":[[0.0,\"#0d0887\"],[0.1111111111111111,\"#46039f\"],[0.2222222222222222,\"#7201a8\"],[0.3333333333333333,\"#9c179e\"],[0.4444444444444444,\"#bd3786\"],[0.5555555555555556,\"#d8576b\"],[0.6666666666666666,\"#ed7953\"],[0.7777777777777778,\"#fb9f3a\"],[0.8888888888888888,\"#fdca26\"],[1.0,\"#f0f921\"]],\"sequentialminus\":[[0.0,\"#0d0887\"],[0.1111111111111111,\"#46039f\"],[0.2222222222222222,\"#7201a8\"],[0.3333333333333333,\"#9c179e\"],[0.4444444444444444,\"#bd3786\"],[0.5555555555555556,\"#d8576b\"],[0.6666666666666666,\"#ed7953\"],[0.7777777777777778,\"#fb9f3a\"],[0.8888888888888888,\"#fdca26\"],[1.0,\"#f0f921\"]],\"diverging\":[[0,\"#8e0152\"],[0.1,\"#c51b7d\"],[0.2,\"#de77ae\"],[0.3,\"#f1b6da\"],[0.4,\"#fde0ef\"],[0.5,\"#f7f7f7\"],[0.6,\"#e6f5d0\"],[0.7,\"#b8e186\"],[0.8,\"#7fbc41\"],[0.9,\"#4d9221\"],[1,\"#276419\"]]},\"xaxis\":{\"gridcolor\":\"white\",\"linecolor\":\"white\",\"ticks\":\"\",\"title\":{\"standoff\":15},\"zerolinecolor\":\"white\",\"automargin\":true,\"zerolinewidth\":2},\"yaxis\":{\"gridcolor\":\"white\",\"linecolor\":\"white\",\"ticks\":\"\",\"title\":{\"standoff\":15},\"zerolinecolor\":\"white\",\"automargin\":true,\"zerolinewidth\":2},\"scene\":{\"xaxis\":{\"backgroundcolor\":\"#E5ECF6\",\"gridcolor\":\"white\",\"linecolor\":\"white\",\"showbackground\":true,\"ticks\":\"\",\"zerolinecolor\":\"white\",\"gridwidth\":2},\"yaxis\":{\"backgroundcolor\":\"#E5ECF6\",\"gridcolor\":\"white\",\"linecolor\":\"white\",\"showbackground\":true,\"ticks\":\"\",\"zerolinecolor\":\"white\",\"gridwidth\":2},\"zaxis\":{\"backgroundcolor\":\"#E5ECF6\",\"gridcolor\":\"white\",\"linecolor\":\"white\",\"showbackground\":true,\"ticks\":\"\",\"zerolinecolor\":\"white\",\"gridwidth\":2}},\"shapedefaults\":{\"line\":{\"color\":\"#2a3f5f\"}},\"annotationdefaults\":{\"arrowcolor\":\"#2a3f5f\",\"arrowhead\":0,\"arrowwidth\":1},\"geo\":{\"bgcolor\":\"white\",\"landcolor\":\"#E5ECF6\",\"subunitcolor\":\"white\",\"showland\":true,\"showlakes\":true,\"lakecolor\":\"white\"},\"title\":{\"x\":0.05},\"mapbox\":{\"style\":\"light\"}}},\"xaxis\":{\"anchor\":\"y\",\"domain\":[0.0,1.0],\"title\":{\"text\":\"fecha\"}},\"yaxis\":{\"anchor\":\"x\",\"domain\":[0.0,1.0],\"title\":{\"text\":\"value\"}},\"legend\":{\"title\":{\"text\":\"variable\"},\"tracegroupgap\":0},\"title\":{\"text\":\"USD\\u002fUVA\"}},                        {\"responsive\": true}                    ).then(function(){\n",
              "                            \n",
              "var gd = document.getElementById('e65fd192-0eb2-49c6-984a-cc1a2997a82e');\n",
              "var x = new MutationObserver(function (mutations, observer) {{\n",
              "        var display = window.getComputedStyle(gd).display;\n",
              "        if (!display || display === 'none') {{\n",
              "            console.log([gd, 'removed!']);\n",
              "            Plotly.purge(gd);\n",
              "            observer.disconnect();\n",
              "        }}\n",
              "}});\n",
              "\n",
              "// Listen for the removal of the full notebook cells\n",
              "var notebookContainer = gd.closest('#notebook-container');\n",
              "if (notebookContainer) {{\n",
              "    x.observe(notebookContainer, {childList: true});\n",
              "}}\n",
              "\n",
              "// Listen for the clearing of the current output cell\n",
              "var outputEl = gd.closest('.output');\n",
              "if (outputEl) {{\n",
              "    x.observe(outputEl, {childList: true});\n",
              "}}\n",
              "\n",
              "                        })                };                });            </script>        </div>"
            ]
          },
          "metadata": {}
        }
      ]
    },
    {
      "cell_type": "code",
      "source": [
        "uva_usd_df['chg']= uva_usd_df.usd_en_uva.pct_change()"
      ],
      "metadata": {
        "id": "0CzWtWpYOAvs"
      },
      "execution_count": 32,
      "outputs": []
    },
    {
      "cell_type": "code",
      "source": [
        "px.histogram(uva_usd_df, x='chg', nbins=10, title='Cuantos días para cada % de suba/baja del dólar en uva')"
      ],
      "metadata": {
        "colab": {
          "base_uri": "https://localhost:8080/",
          "height": 542
        },
        "id": "ltfb3vO4ObRm",
        "outputId": "9c80a649-f47d-41b3-b8a3-fa773edd5ae5"
      },
      "execution_count": 33,
      "outputs": [
        {
          "output_type": "display_data",
          "data": {
            "application/vnd.plotly.v1+json": {
              "data": [
                {
                  "alignmentgroup": "True",
                  "bingroup": "x",
                  "hovertemplate": "chg=%{x}<br>count=%{y}<extra></extra>",
                  "legendgroup": "",
                  "marker": {
                    "color": "#636efa",
                    "pattern": {
                      "shape": ""
                    }
                  },
                  "name": "",
                  "nbinsx": 10,
                  "offsetgroup": "",
                  "orientation": "v",
                  "showlegend": false,
                  "x": [
                    null,
                    0.000015688544933167847,
                    0.004219651939882274,
                    0.004093415750045404,
                    -0.0032589031343470687,
                    -0.010611174052827077,
                    0.012478408271896502,
                    -0.0032497200225961587,
                    0.004073986938226026,
                    -0.0008113590263690851,
                    -0.0032418187717778713,
                    0.00659391562094247,
                    0.008439361525304667,
                    0.0035695911147415327,
                    0.02257291441991982,
                    -0.0012063938876042402,
                    -0.0012889353761860178,
                    0.005751599697760845,
                    0.005704992680239052,
                    -0.0469094989542751,
                    0.001198921233863226,
                    0.0010920952831747766,
                    0.010700113378684817,
                    -0.0035392040288171334,
                    -0.01061040648949041,
                    -0.0011862396204032066,
                    0.001100308142561568,
                    0.00828696181255717,
                    -0.00821307920234382,
                    -0.005900304574511073,
                    0.001098010217362333,
                    -0.003613634143959432,
                    -0.0011706175007317743,
                    -0.006096730481112922,
                    -0.01562825733464912,
                    0.0010520258831689944,
                    -0.011263399024253662,
                    -0.0013527877089574147,
                    0.0009763539211535832,
                    0.001069033628130267,
                    -0.025469238693458074,
                    -0.016619620482549058,
                    -0.016316216474181466,
                    -0.0014296606938620782,
                    0,
                    0,
                    0,
                    0.0009737905314410877,
                    0.011282365794641702,
                    -0.00889059063813391,
                    -0.006341976473405064,
                    -0.011502736226610577,
                    -0.004042873260624247,
                    0.0087813925682938,
                    -0.001406337896118437,
                    0.0010236232385643085,
                    -0.0040107310719347256,
                    -0.00949472390008399,
                    -0.001486712506969079,
                    0.003584101097083403,
                    -0.013031330885169834,
                    -0.004420703628660871,
                    0.003623134006223383,
                    -0.006537921904788635,
                    -0.0014670823399962618,
                    -0.006559499829963178,
                    -0.019782223063601112,
                    -0.0014562664967689987,
                    -0.0015448927662669032,
                    0.0011484800362977499,
                    -0.009230711296677185,
                    -0.004420387911592161,
                    -0.0015312556296163127,
                    -0.001439107753193114,
                    0.006114421975348394,
                    0.005581748324558822,
                    0.010631326928278062,
                    0.0028263515029911535,
                    0.010416227413900137,
                    0.028019777077796126,
                    -0.030903123385704778,
                    -0.014416956861323493,
                    -0.019641642688987715,
                    0.00036394693813024404,
                    0.006125243682465031,
                    -0.014660594906275581,
                    0.0003809618675520987,
                    -0.004673238566937243,
                    0.00039020477267848186,
                    -0.00395557495513843,
                    0.012995288483818701,
                    -0.009650374779206716,
                    -0.002114880297775179,
                    0.005307647442231778,
                    0.008625190464087495,
                    -0.01162794515780019,
                    -0.00868566586388364,
                    0.00553348485281524,
                    0.001736101529130618,
                    -0.006711080432503458,
                    -0.006240670018869854,
                    -0.0018898931799506968,
                    -0.013003362051486889,
                    0.0030900788830272585,
                    -0.0018722018722017175,
                    -0.006809947325574384,
                    -0.0018652177438974737,
                    -0.0006976648087679838,
                    0.00803140520104817,
                    -0.0018478348196353522,
                    0.007860589508837057,
                    0.027231711998458197,
                    0.03187200144156033,
                    -0.03366394904642578,
                    -0.00650993390302701,
                    0.017174247142479615,
                    0.01012281711763574,
                    -0.0017241379310344307,
                    0.007432908223143686,
                    0.02534232404565162,
                    0.025574682080609534,
                    -0.0016295491580663457,
                    -0.005875294226242667,
                    0.002564763585645169,
                    0.062104791053677166,
                    -0.03683405039950827,
                    0.010688400974139034,
                    0.006542051693178896,
                    0.06298655496568117,
                    -0.02065849140866649,
                    0.010491136605536466,
                    0.04024677496831397,
                    0.02027627231986906,
                    0.01265069932285856,
                    -0.008715034834549273,
                    0.03045667108857475,
                    0.053243487684079494,
                    0.06339338327936961,
                    0.0013350226108748142,
                    -0.05034091053758216,
                    -0.0017818686482435897,
                    0.007864758804992267,
                    -0.03953976207436549,
                    -0.060807909889888045,
                    -0.05049313893653529,
                    0.02793643124600953,
                    0.023185213613018174,
                    -0.025945737708911953,
                    0.005427273470860916,
                    -0.00513058656934906,
                    -0.0014730860420021363,
                    0.005391000305054572,
                    0.005344273847456504,
                    -0.008615934389728852,
                    0.0018468550408279327,
                    -0.0038199113252723738,
                    0.001122844227291031,
                    0.004651863710027904,
                    -0.012592926224471945,
                    0.010392535669150327,
                    -0.009154419344955311,
                    -0.009126678765880247,
                    -0.0023104389834069927,
                    -0.005769331517183507,
                    -0.010328236774266086,
                    -0.005841379881105779,
                    -0.01978257340630951,
                    -0.002273510161901582,
                    -0.05222008385456045,
                    0.015506684800739023,
                    0.027098164744342013,
                    -0.016562964113415846,
                    -0.02399395177335062,
                    -0.0096900011272687,
                    -0.0032127948382749683,
                    0.012557492268345571,
                    -0.005928011544486522,
                    0.001333152832876161,
                    -0.00226289517470879,
                    0.029640133560276283,
                    -0.0022425961348196966,
                    -0.0022375781507072423,
                    -0.007067137809187218,
                    0.004802985304804164,
                    -0.005753161321865874,
                    0.007321098275499205,
                    -0.002207505518763808,
                    -0.00924443180062784,
                    -0.002262150982419886,
                    -0.016309762878554568,
                    -0.013820412869221643,
                    -0.002236850514475419,
                    -0.020239805095285,
                    0.008737794842897273,
                    0.021045764862913208,
                    0.004742083680202347,
                    -0.00573097414340884,
                    -0.01271535263037371,
                    0.004387611640523481,
                    0.005058162365711549,
                    -0.005383286936797571,
                    -0.001975674507624814,
                    -0.001910278530934173,
                    0.0011080749870695517,
                    -0.005410025610402602,
                    -0.005357512171637047,
                    0.0015284490592675226,
                    -0.008876224248564712,
                    -0.005802006527257264,
                    0.001559485272840444,
                    -0.0158369816260302,
                    0.005070309379955562,
                    0.0015829979746968537,
                    -0.002307166956582618,
                    0.0015137771133735267,
                    -0.001959852714099042,
                    0.001568777580188474,
                    0.0015011360363332837,
                    0.021602732335749497,
                    0.01815803625776402,
                    -0.005333109795578661,
                    -0.001987839101964428,
                    0,
                    -0.0033003300330033403,
                    0.0045668663970364065,
                    0.004948964517317966,
                    0.020600897802745877,
                    0.0011509080096976376,
                    -0.008329601759118677,
                    -0.015612778762557067,
                    -0.005262686729253452,
                    -0.005212203808225957,
                    -0.005275196755626266,
                    -0.0020413949532178677,
                    0.0035940641672478346,
                    0.001184062486379256,
                    -0.014815374540325443,
                    -0.0005265736596994364,
                    0.01404884735406875,
                    -0.0020474793868628938,
                    0.0011147950552661268,
                    0.011054924656190401,
                    -0.001509415896399413,
                    -0.004635239529355406,
                    0.014020396154771797,
                    0.02904198289715998,
                    0.016302569137620626,
                    0.024489772590886583,
                    0.0013186524794732701,
                    -0.021368590124469566,
                    -0.013056467331184152
                  ],
                  "xaxis": "x",
                  "yaxis": "y",
                  "type": "histogram"
                }
              ],
              "layout": {
                "template": {
                  "data": {
                    "histogram2dcontour": [
                      {
                        "type": "histogram2dcontour",
                        "colorbar": {
                          "outlinewidth": 0,
                          "ticks": ""
                        },
                        "colorscale": [
                          [
                            0,
                            "#0d0887"
                          ],
                          [
                            0.1111111111111111,
                            "#46039f"
                          ],
                          [
                            0.2222222222222222,
                            "#7201a8"
                          ],
                          [
                            0.3333333333333333,
                            "#9c179e"
                          ],
                          [
                            0.4444444444444444,
                            "#bd3786"
                          ],
                          [
                            0.5555555555555556,
                            "#d8576b"
                          ],
                          [
                            0.6666666666666666,
                            "#ed7953"
                          ],
                          [
                            0.7777777777777778,
                            "#fb9f3a"
                          ],
                          [
                            0.8888888888888888,
                            "#fdca26"
                          ],
                          [
                            1,
                            "#f0f921"
                          ]
                        ]
                      }
                    ],
                    "choropleth": [
                      {
                        "type": "choropleth",
                        "colorbar": {
                          "outlinewidth": 0,
                          "ticks": ""
                        }
                      }
                    ],
                    "histogram2d": [
                      {
                        "type": "histogram2d",
                        "colorbar": {
                          "outlinewidth": 0,
                          "ticks": ""
                        },
                        "colorscale": [
                          [
                            0,
                            "#0d0887"
                          ],
                          [
                            0.1111111111111111,
                            "#46039f"
                          ],
                          [
                            0.2222222222222222,
                            "#7201a8"
                          ],
                          [
                            0.3333333333333333,
                            "#9c179e"
                          ],
                          [
                            0.4444444444444444,
                            "#bd3786"
                          ],
                          [
                            0.5555555555555556,
                            "#d8576b"
                          ],
                          [
                            0.6666666666666666,
                            "#ed7953"
                          ],
                          [
                            0.7777777777777778,
                            "#fb9f3a"
                          ],
                          [
                            0.8888888888888888,
                            "#fdca26"
                          ],
                          [
                            1,
                            "#f0f921"
                          ]
                        ]
                      }
                    ],
                    "heatmap": [
                      {
                        "type": "heatmap",
                        "colorbar": {
                          "outlinewidth": 0,
                          "ticks": ""
                        },
                        "colorscale": [
                          [
                            0,
                            "#0d0887"
                          ],
                          [
                            0.1111111111111111,
                            "#46039f"
                          ],
                          [
                            0.2222222222222222,
                            "#7201a8"
                          ],
                          [
                            0.3333333333333333,
                            "#9c179e"
                          ],
                          [
                            0.4444444444444444,
                            "#bd3786"
                          ],
                          [
                            0.5555555555555556,
                            "#d8576b"
                          ],
                          [
                            0.6666666666666666,
                            "#ed7953"
                          ],
                          [
                            0.7777777777777778,
                            "#fb9f3a"
                          ],
                          [
                            0.8888888888888888,
                            "#fdca26"
                          ],
                          [
                            1,
                            "#f0f921"
                          ]
                        ]
                      }
                    ],
                    "heatmapgl": [
                      {
                        "type": "heatmapgl",
                        "colorbar": {
                          "outlinewidth": 0,
                          "ticks": ""
                        },
                        "colorscale": [
                          [
                            0,
                            "#0d0887"
                          ],
                          [
                            0.1111111111111111,
                            "#46039f"
                          ],
                          [
                            0.2222222222222222,
                            "#7201a8"
                          ],
                          [
                            0.3333333333333333,
                            "#9c179e"
                          ],
                          [
                            0.4444444444444444,
                            "#bd3786"
                          ],
                          [
                            0.5555555555555556,
                            "#d8576b"
                          ],
                          [
                            0.6666666666666666,
                            "#ed7953"
                          ],
                          [
                            0.7777777777777778,
                            "#fb9f3a"
                          ],
                          [
                            0.8888888888888888,
                            "#fdca26"
                          ],
                          [
                            1,
                            "#f0f921"
                          ]
                        ]
                      }
                    ],
                    "contourcarpet": [
                      {
                        "type": "contourcarpet",
                        "colorbar": {
                          "outlinewidth": 0,
                          "ticks": ""
                        }
                      }
                    ],
                    "contour": [
                      {
                        "type": "contour",
                        "colorbar": {
                          "outlinewidth": 0,
                          "ticks": ""
                        },
                        "colorscale": [
                          [
                            0,
                            "#0d0887"
                          ],
                          [
                            0.1111111111111111,
                            "#46039f"
                          ],
                          [
                            0.2222222222222222,
                            "#7201a8"
                          ],
                          [
                            0.3333333333333333,
                            "#9c179e"
                          ],
                          [
                            0.4444444444444444,
                            "#bd3786"
                          ],
                          [
                            0.5555555555555556,
                            "#d8576b"
                          ],
                          [
                            0.6666666666666666,
                            "#ed7953"
                          ],
                          [
                            0.7777777777777778,
                            "#fb9f3a"
                          ],
                          [
                            0.8888888888888888,
                            "#fdca26"
                          ],
                          [
                            1,
                            "#f0f921"
                          ]
                        ]
                      }
                    ],
                    "surface": [
                      {
                        "type": "surface",
                        "colorbar": {
                          "outlinewidth": 0,
                          "ticks": ""
                        },
                        "colorscale": [
                          [
                            0,
                            "#0d0887"
                          ],
                          [
                            0.1111111111111111,
                            "#46039f"
                          ],
                          [
                            0.2222222222222222,
                            "#7201a8"
                          ],
                          [
                            0.3333333333333333,
                            "#9c179e"
                          ],
                          [
                            0.4444444444444444,
                            "#bd3786"
                          ],
                          [
                            0.5555555555555556,
                            "#d8576b"
                          ],
                          [
                            0.6666666666666666,
                            "#ed7953"
                          ],
                          [
                            0.7777777777777778,
                            "#fb9f3a"
                          ],
                          [
                            0.8888888888888888,
                            "#fdca26"
                          ],
                          [
                            1,
                            "#f0f921"
                          ]
                        ]
                      }
                    ],
                    "mesh3d": [
                      {
                        "type": "mesh3d",
                        "colorbar": {
                          "outlinewidth": 0,
                          "ticks": ""
                        }
                      }
                    ],
                    "scatter": [
                      {
                        "fillpattern": {
                          "fillmode": "overlay",
                          "size": 10,
                          "solidity": 0.2
                        },
                        "type": "scatter"
                      }
                    ],
                    "parcoords": [
                      {
                        "type": "parcoords",
                        "line": {
                          "colorbar": {
                            "outlinewidth": 0,
                            "ticks": ""
                          }
                        }
                      }
                    ],
                    "scatterpolargl": [
                      {
                        "type": "scatterpolargl",
                        "marker": {
                          "colorbar": {
                            "outlinewidth": 0,
                            "ticks": ""
                          }
                        }
                      }
                    ],
                    "bar": [
                      {
                        "error_x": {
                          "color": "#2a3f5f"
                        },
                        "error_y": {
                          "color": "#2a3f5f"
                        },
                        "marker": {
                          "line": {
                            "color": "#E5ECF6",
                            "width": 0.5
                          },
                          "pattern": {
                            "fillmode": "overlay",
                            "size": 10,
                            "solidity": 0.2
                          }
                        },
                        "type": "bar"
                      }
                    ],
                    "scattergeo": [
                      {
                        "type": "scattergeo",
                        "marker": {
                          "colorbar": {
                            "outlinewidth": 0,
                            "ticks": ""
                          }
                        }
                      }
                    ],
                    "scatterpolar": [
                      {
                        "type": "scatterpolar",
                        "marker": {
                          "colorbar": {
                            "outlinewidth": 0,
                            "ticks": ""
                          }
                        }
                      }
                    ],
                    "histogram": [
                      {
                        "marker": {
                          "pattern": {
                            "fillmode": "overlay",
                            "size": 10,
                            "solidity": 0.2
                          }
                        },
                        "type": "histogram"
                      }
                    ],
                    "scattergl": [
                      {
                        "type": "scattergl",
                        "marker": {
                          "colorbar": {
                            "outlinewidth": 0,
                            "ticks": ""
                          }
                        }
                      }
                    ],
                    "scatter3d": [
                      {
                        "type": "scatter3d",
                        "line": {
                          "colorbar": {
                            "outlinewidth": 0,
                            "ticks": ""
                          }
                        },
                        "marker": {
                          "colorbar": {
                            "outlinewidth": 0,
                            "ticks": ""
                          }
                        }
                      }
                    ],
                    "scattermapbox": [
                      {
                        "type": "scattermapbox",
                        "marker": {
                          "colorbar": {
                            "outlinewidth": 0,
                            "ticks": ""
                          }
                        }
                      }
                    ],
                    "scatterternary": [
                      {
                        "type": "scatterternary",
                        "marker": {
                          "colorbar": {
                            "outlinewidth": 0,
                            "ticks": ""
                          }
                        }
                      }
                    ],
                    "scattercarpet": [
                      {
                        "type": "scattercarpet",
                        "marker": {
                          "colorbar": {
                            "outlinewidth": 0,
                            "ticks": ""
                          }
                        }
                      }
                    ],
                    "carpet": [
                      {
                        "aaxis": {
                          "endlinecolor": "#2a3f5f",
                          "gridcolor": "white",
                          "linecolor": "white",
                          "minorgridcolor": "white",
                          "startlinecolor": "#2a3f5f"
                        },
                        "baxis": {
                          "endlinecolor": "#2a3f5f",
                          "gridcolor": "white",
                          "linecolor": "white",
                          "minorgridcolor": "white",
                          "startlinecolor": "#2a3f5f"
                        },
                        "type": "carpet"
                      }
                    ],
                    "table": [
                      {
                        "cells": {
                          "fill": {
                            "color": "#EBF0F8"
                          },
                          "line": {
                            "color": "white"
                          }
                        },
                        "header": {
                          "fill": {
                            "color": "#C8D4E3"
                          },
                          "line": {
                            "color": "white"
                          }
                        },
                        "type": "table"
                      }
                    ],
                    "barpolar": [
                      {
                        "marker": {
                          "line": {
                            "color": "#E5ECF6",
                            "width": 0.5
                          },
                          "pattern": {
                            "fillmode": "overlay",
                            "size": 10,
                            "solidity": 0.2
                          }
                        },
                        "type": "barpolar"
                      }
                    ],
                    "pie": [
                      {
                        "automargin": true,
                        "type": "pie"
                      }
                    ]
                  },
                  "layout": {
                    "autotypenumbers": "strict",
                    "colorway": [
                      "#636efa",
                      "#EF553B",
                      "#00cc96",
                      "#ab63fa",
                      "#FFA15A",
                      "#19d3f3",
                      "#FF6692",
                      "#B6E880",
                      "#FF97FF",
                      "#FECB52"
                    ],
                    "font": {
                      "color": "#2a3f5f"
                    },
                    "hovermode": "closest",
                    "hoverlabel": {
                      "align": "left"
                    },
                    "paper_bgcolor": "white",
                    "plot_bgcolor": "#E5ECF6",
                    "polar": {
                      "bgcolor": "#E5ECF6",
                      "angularaxis": {
                        "gridcolor": "white",
                        "linecolor": "white",
                        "ticks": ""
                      },
                      "radialaxis": {
                        "gridcolor": "white",
                        "linecolor": "white",
                        "ticks": ""
                      }
                    },
                    "ternary": {
                      "bgcolor": "#E5ECF6",
                      "aaxis": {
                        "gridcolor": "white",
                        "linecolor": "white",
                        "ticks": ""
                      },
                      "baxis": {
                        "gridcolor": "white",
                        "linecolor": "white",
                        "ticks": ""
                      },
                      "caxis": {
                        "gridcolor": "white",
                        "linecolor": "white",
                        "ticks": ""
                      }
                    },
                    "coloraxis": {
                      "colorbar": {
                        "outlinewidth": 0,
                        "ticks": ""
                      }
                    },
                    "colorscale": {
                      "sequential": [
                        [
                          0,
                          "#0d0887"
                        ],
                        [
                          0.1111111111111111,
                          "#46039f"
                        ],
                        [
                          0.2222222222222222,
                          "#7201a8"
                        ],
                        [
                          0.3333333333333333,
                          "#9c179e"
                        ],
                        [
                          0.4444444444444444,
                          "#bd3786"
                        ],
                        [
                          0.5555555555555556,
                          "#d8576b"
                        ],
                        [
                          0.6666666666666666,
                          "#ed7953"
                        ],
                        [
                          0.7777777777777778,
                          "#fb9f3a"
                        ],
                        [
                          0.8888888888888888,
                          "#fdca26"
                        ],
                        [
                          1,
                          "#f0f921"
                        ]
                      ],
                      "sequentialminus": [
                        [
                          0,
                          "#0d0887"
                        ],
                        [
                          0.1111111111111111,
                          "#46039f"
                        ],
                        [
                          0.2222222222222222,
                          "#7201a8"
                        ],
                        [
                          0.3333333333333333,
                          "#9c179e"
                        ],
                        [
                          0.4444444444444444,
                          "#bd3786"
                        ],
                        [
                          0.5555555555555556,
                          "#d8576b"
                        ],
                        [
                          0.6666666666666666,
                          "#ed7953"
                        ],
                        [
                          0.7777777777777778,
                          "#fb9f3a"
                        ],
                        [
                          0.8888888888888888,
                          "#fdca26"
                        ],
                        [
                          1,
                          "#f0f921"
                        ]
                      ],
                      "diverging": [
                        [
                          0,
                          "#8e0152"
                        ],
                        [
                          0.1,
                          "#c51b7d"
                        ],
                        [
                          0.2,
                          "#de77ae"
                        ],
                        [
                          0.3,
                          "#f1b6da"
                        ],
                        [
                          0.4,
                          "#fde0ef"
                        ],
                        [
                          0.5,
                          "#f7f7f7"
                        ],
                        [
                          0.6,
                          "#e6f5d0"
                        ],
                        [
                          0.7,
                          "#b8e186"
                        ],
                        [
                          0.8,
                          "#7fbc41"
                        ],
                        [
                          0.9,
                          "#4d9221"
                        ],
                        [
                          1,
                          "#276419"
                        ]
                      ]
                    },
                    "xaxis": {
                      "gridcolor": "white",
                      "linecolor": "white",
                      "ticks": "",
                      "title": {
                        "standoff": 15
                      },
                      "zerolinecolor": "white",
                      "automargin": true,
                      "zerolinewidth": 2
                    },
                    "yaxis": {
                      "gridcolor": "white",
                      "linecolor": "white",
                      "ticks": "",
                      "title": {
                        "standoff": 15
                      },
                      "zerolinecolor": "white",
                      "automargin": true,
                      "zerolinewidth": 2
                    },
                    "scene": {
                      "xaxis": {
                        "backgroundcolor": "#E5ECF6",
                        "gridcolor": "white",
                        "linecolor": "white",
                        "showbackground": true,
                        "ticks": "",
                        "zerolinecolor": "white",
                        "gridwidth": 2
                      },
                      "yaxis": {
                        "backgroundcolor": "#E5ECF6",
                        "gridcolor": "white",
                        "linecolor": "white",
                        "showbackground": true,
                        "ticks": "",
                        "zerolinecolor": "white",
                        "gridwidth": 2
                      },
                      "zaxis": {
                        "backgroundcolor": "#E5ECF6",
                        "gridcolor": "white",
                        "linecolor": "white",
                        "showbackground": true,
                        "ticks": "",
                        "zerolinecolor": "white",
                        "gridwidth": 2
                      }
                    },
                    "shapedefaults": {
                      "line": {
                        "color": "#2a3f5f"
                      }
                    },
                    "annotationdefaults": {
                      "arrowcolor": "#2a3f5f",
                      "arrowhead": 0,
                      "arrowwidth": 1
                    },
                    "geo": {
                      "bgcolor": "white",
                      "landcolor": "#E5ECF6",
                      "subunitcolor": "white",
                      "showland": true,
                      "showlakes": true,
                      "lakecolor": "white"
                    },
                    "title": {
                      "x": 0.05
                    },
                    "mapbox": {
                      "style": "light"
                    }
                  }
                },
                "xaxis": {
                  "anchor": "y",
                  "domain": [
                    0,
                    1
                  ],
                  "title": {
                    "text": "chg"
                  }
                },
                "yaxis": {
                  "anchor": "x",
                  "domain": [
                    0,
                    1
                  ],
                  "title": {
                    "text": "count"
                  }
                },
                "legend": {
                  "tracegroupgap": 0
                },
                "title": {
                  "text": "Cuantos días para cada % de suba/baja del dólar en uva"
                },
                "barmode": "relative"
              },
              "config": {
                "plotlyServerURL": "https://plot.ly"
              }
            },
            "text/html": [
              "<div>                            <div id=\"e392a327-5570-4c37-9a85-364237052f79\" class=\"plotly-graph-div\" style=\"height:525px; width:100%;\"></div>            <script type=\"text/javascript\">                require([\"plotly\"], function(Plotly) {                    window.PLOTLYENV=window.PLOTLYENV || {};                                    if (document.getElementById(\"e392a327-5570-4c37-9a85-364237052f79\")) {                    Plotly.newPlot(                        \"e392a327-5570-4c37-9a85-364237052f79\",                        [{\"alignmentgroup\":\"True\",\"bingroup\":\"x\",\"hovertemplate\":\"chg=%{x}\\u003cbr\\u003ecount=%{y}\\u003cextra\\u003e\\u003c\\u002fextra\\u003e\",\"legendgroup\":\"\",\"marker\":{\"color\":\"#636efa\",\"pattern\":{\"shape\":\"\"}},\"name\":\"\",\"nbinsx\":10,\"offsetgroup\":\"\",\"orientation\":\"v\",\"showlegend\":false,\"x\":[null,1.5688544933167847e-05,0.004219651939882274,0.004093415750045404,-0.0032589031343470687,-0.010611174052827077,0.012478408271896502,-0.0032497200225961587,0.004073986938226026,-0.0008113590263690851,-0.0032418187717778713,0.00659391562094247,0.008439361525304667,0.0035695911147415327,0.02257291441991982,-0.0012063938876042402,-0.0012889353761860178,0.005751599697760845,0.005704992680239052,-0.0469094989542751,0.001198921233863226,0.0010920952831747766,0.010700113378684817,-0.0035392040288171334,-0.01061040648949041,-0.0011862396204032066,0.001100308142561568,0.00828696181255717,-0.00821307920234382,-0.005900304574511073,0.001098010217362333,-0.003613634143959432,-0.0011706175007317743,-0.006096730481112922,-0.01562825733464912,0.0010520258831689944,-0.011263399024253662,-0.0013527877089574147,0.0009763539211535832,0.001069033628130267,-0.025469238693458074,-0.016619620482549058,-0.016316216474181466,-0.0014296606938620782,0.0,0.0,0.0,0.0009737905314410877,0.011282365794641702,-0.00889059063813391,-0.006341976473405064,-0.011502736226610577,-0.004042873260624247,0.0087813925682938,-0.001406337896118437,0.0010236232385643085,-0.0040107310719347256,-0.00949472390008399,-0.001486712506969079,0.003584101097083403,-0.013031330885169834,-0.004420703628660871,0.003623134006223383,-0.006537921904788635,-0.0014670823399962618,-0.006559499829963178,-0.019782223063601112,-0.0014562664967689987,-0.0015448927662669032,0.0011484800362977499,-0.009230711296677185,-0.004420387911592161,-0.0015312556296163127,-0.001439107753193114,0.006114421975348394,0.005581748324558822,0.010631326928278062,0.0028263515029911535,0.010416227413900137,0.028019777077796126,-0.030903123385704778,-0.014416956861323493,-0.019641642688987715,0.00036394693813024404,0.006125243682465031,-0.014660594906275581,0.0003809618675520987,-0.004673238566937243,0.00039020477267848186,-0.00395557495513843,0.012995288483818701,-0.009650374779206716,-0.002114880297775179,0.005307647442231778,0.008625190464087495,-0.01162794515780019,-0.00868566586388364,0.00553348485281524,0.001736101529130618,-0.006711080432503458,-0.006240670018869854,-0.0018898931799506968,-0.013003362051486889,0.0030900788830272585,-0.0018722018722017175,-0.006809947325574384,-0.0018652177438974737,-0.0006976648087679838,0.00803140520104817,-0.0018478348196353522,0.007860589508837057,0.027231711998458197,0.03187200144156033,-0.03366394904642578,-0.00650993390302701,0.017174247142479615,0.01012281711763574,-0.0017241379310344307,0.007432908223143686,0.02534232404565162,0.025574682080609534,-0.0016295491580663457,-0.005875294226242667,0.002564763585645169,0.062104791053677166,-0.03683405039950827,0.010688400974139034,0.006542051693178896,0.06298655496568117,-0.02065849140866649,0.010491136605536466,0.04024677496831397,0.02027627231986906,0.01265069932285856,-0.008715034834549273,0.03045667108857475,0.053243487684079494,0.06339338327936961,0.0013350226108748142,-0.05034091053758216,-0.0017818686482435897,0.007864758804992267,-0.03953976207436549,-0.060807909889888045,-0.05049313893653529,0.02793643124600953,0.023185213613018174,-0.025945737708911953,0.005427273470860916,-0.00513058656934906,-0.0014730860420021363,0.005391000305054572,0.005344273847456504,-0.008615934389728852,0.0018468550408279327,-0.0038199113252723738,0.001122844227291031,0.004651863710027904,-0.012592926224471945,0.010392535669150327,-0.009154419344955311,-0.009126678765880247,-0.0023104389834069927,-0.005769331517183507,-0.010328236774266086,-0.005841379881105779,-0.01978257340630951,-0.002273510161901582,-0.05222008385456045,0.015506684800739023,0.027098164744342013,-0.016562964113415846,-0.02399395177335062,-0.0096900011272687,-0.0032127948382749683,0.012557492268345571,-0.005928011544486522,0.001333152832876161,-0.00226289517470879,0.029640133560276283,-0.0022425961348196966,-0.0022375781507072423,-0.007067137809187218,0.004802985304804164,-0.005753161321865874,0.007321098275499205,-0.002207505518763808,-0.00924443180062784,-0.002262150982419886,-0.016309762878554568,-0.013820412869221643,-0.002236850514475419,-0.020239805095285,0.008737794842897273,0.021045764862913208,0.004742083680202347,-0.00573097414340884,-0.01271535263037371,0.004387611640523481,0.005058162365711549,-0.005383286936797571,-0.001975674507624814,-0.001910278530934173,0.0011080749870695517,-0.005410025610402602,-0.005357512171637047,0.0015284490592675226,-0.008876224248564712,-0.005802006527257264,0.001559485272840444,-0.0158369816260302,0.005070309379955562,0.0015829979746968537,-0.002307166956582618,0.0015137771133735267,-0.001959852714099042,0.001568777580188474,0.0015011360363332837,0.021602732335749497,0.01815803625776402,-0.005333109795578661,-0.001987839101964428,0.0,-0.0033003300330033403,0.0045668663970364065,0.004948964517317966,0.020600897802745877,0.0011509080096976376,-0.008329601759118677,-0.015612778762557067,-0.005262686729253452,-0.005212203808225957,-0.005275196755626266,-0.0020413949532178677,0.0035940641672478346,0.001184062486379256,-0.014815374540325443,-0.0005265736596994364,0.01404884735406875,-0.0020474793868628938,0.0011147950552661268,0.011054924656190401,-0.001509415896399413,-0.004635239529355406,0.014020396154771797,0.02904198289715998,0.016302569137620626,0.024489772590886583,0.0013186524794732701,-0.021368590124469566,-0.013056467331184152],\"xaxis\":\"x\",\"yaxis\":\"y\",\"type\":\"histogram\"}],                        {\"template\":{\"data\":{\"histogram2dcontour\":[{\"type\":\"histogram2dcontour\",\"colorbar\":{\"outlinewidth\":0,\"ticks\":\"\"},\"colorscale\":[[0.0,\"#0d0887\"],[0.1111111111111111,\"#46039f\"],[0.2222222222222222,\"#7201a8\"],[0.3333333333333333,\"#9c179e\"],[0.4444444444444444,\"#bd3786\"],[0.5555555555555556,\"#d8576b\"],[0.6666666666666666,\"#ed7953\"],[0.7777777777777778,\"#fb9f3a\"],[0.8888888888888888,\"#fdca26\"],[1.0,\"#f0f921\"]]}],\"choropleth\":[{\"type\":\"choropleth\",\"colorbar\":{\"outlinewidth\":0,\"ticks\":\"\"}}],\"histogram2d\":[{\"type\":\"histogram2d\",\"colorbar\":{\"outlinewidth\":0,\"ticks\":\"\"},\"colorscale\":[[0.0,\"#0d0887\"],[0.1111111111111111,\"#46039f\"],[0.2222222222222222,\"#7201a8\"],[0.3333333333333333,\"#9c179e\"],[0.4444444444444444,\"#bd3786\"],[0.5555555555555556,\"#d8576b\"],[0.6666666666666666,\"#ed7953\"],[0.7777777777777778,\"#fb9f3a\"],[0.8888888888888888,\"#fdca26\"],[1.0,\"#f0f921\"]]}],\"heatmap\":[{\"type\":\"heatmap\",\"colorbar\":{\"outlinewidth\":0,\"ticks\":\"\"},\"colorscale\":[[0.0,\"#0d0887\"],[0.1111111111111111,\"#46039f\"],[0.2222222222222222,\"#7201a8\"],[0.3333333333333333,\"#9c179e\"],[0.4444444444444444,\"#bd3786\"],[0.5555555555555556,\"#d8576b\"],[0.6666666666666666,\"#ed7953\"],[0.7777777777777778,\"#fb9f3a\"],[0.8888888888888888,\"#fdca26\"],[1.0,\"#f0f921\"]]}],\"heatmapgl\":[{\"type\":\"heatmapgl\",\"colorbar\":{\"outlinewidth\":0,\"ticks\":\"\"},\"colorscale\":[[0.0,\"#0d0887\"],[0.1111111111111111,\"#46039f\"],[0.2222222222222222,\"#7201a8\"],[0.3333333333333333,\"#9c179e\"],[0.4444444444444444,\"#bd3786\"],[0.5555555555555556,\"#d8576b\"],[0.6666666666666666,\"#ed7953\"],[0.7777777777777778,\"#fb9f3a\"],[0.8888888888888888,\"#fdca26\"],[1.0,\"#f0f921\"]]}],\"contourcarpet\":[{\"type\":\"contourcarpet\",\"colorbar\":{\"outlinewidth\":0,\"ticks\":\"\"}}],\"contour\":[{\"type\":\"contour\",\"colorbar\":{\"outlinewidth\":0,\"ticks\":\"\"},\"colorscale\":[[0.0,\"#0d0887\"],[0.1111111111111111,\"#46039f\"],[0.2222222222222222,\"#7201a8\"],[0.3333333333333333,\"#9c179e\"],[0.4444444444444444,\"#bd3786\"],[0.5555555555555556,\"#d8576b\"],[0.6666666666666666,\"#ed7953\"],[0.7777777777777778,\"#fb9f3a\"],[0.8888888888888888,\"#fdca26\"],[1.0,\"#f0f921\"]]}],\"surface\":[{\"type\":\"surface\",\"colorbar\":{\"outlinewidth\":0,\"ticks\":\"\"},\"colorscale\":[[0.0,\"#0d0887\"],[0.1111111111111111,\"#46039f\"],[0.2222222222222222,\"#7201a8\"],[0.3333333333333333,\"#9c179e\"],[0.4444444444444444,\"#bd3786\"],[0.5555555555555556,\"#d8576b\"],[0.6666666666666666,\"#ed7953\"],[0.7777777777777778,\"#fb9f3a\"],[0.8888888888888888,\"#fdca26\"],[1.0,\"#f0f921\"]]}],\"mesh3d\":[{\"type\":\"mesh3d\",\"colorbar\":{\"outlinewidth\":0,\"ticks\":\"\"}}],\"scatter\":[{\"fillpattern\":{\"fillmode\":\"overlay\",\"size\":10,\"solidity\":0.2},\"type\":\"scatter\"}],\"parcoords\":[{\"type\":\"parcoords\",\"line\":{\"colorbar\":{\"outlinewidth\":0,\"ticks\":\"\"}}}],\"scatterpolargl\":[{\"type\":\"scatterpolargl\",\"marker\":{\"colorbar\":{\"outlinewidth\":0,\"ticks\":\"\"}}}],\"bar\":[{\"error_x\":{\"color\":\"#2a3f5f\"},\"error_y\":{\"color\":\"#2a3f5f\"},\"marker\":{\"line\":{\"color\":\"#E5ECF6\",\"width\":0.5},\"pattern\":{\"fillmode\":\"overlay\",\"size\":10,\"solidity\":0.2}},\"type\":\"bar\"}],\"scattergeo\":[{\"type\":\"scattergeo\",\"marker\":{\"colorbar\":{\"outlinewidth\":0,\"ticks\":\"\"}}}],\"scatterpolar\":[{\"type\":\"scatterpolar\",\"marker\":{\"colorbar\":{\"outlinewidth\":0,\"ticks\":\"\"}}}],\"histogram\":[{\"marker\":{\"pattern\":{\"fillmode\":\"overlay\",\"size\":10,\"solidity\":0.2}},\"type\":\"histogram\"}],\"scattergl\":[{\"type\":\"scattergl\",\"marker\":{\"colorbar\":{\"outlinewidth\":0,\"ticks\":\"\"}}}],\"scatter3d\":[{\"type\":\"scatter3d\",\"line\":{\"colorbar\":{\"outlinewidth\":0,\"ticks\":\"\"}},\"marker\":{\"colorbar\":{\"outlinewidth\":0,\"ticks\":\"\"}}}],\"scattermapbox\":[{\"type\":\"scattermapbox\",\"marker\":{\"colorbar\":{\"outlinewidth\":0,\"ticks\":\"\"}}}],\"scatterternary\":[{\"type\":\"scatterternary\",\"marker\":{\"colorbar\":{\"outlinewidth\":0,\"ticks\":\"\"}}}],\"scattercarpet\":[{\"type\":\"scattercarpet\",\"marker\":{\"colorbar\":{\"outlinewidth\":0,\"ticks\":\"\"}}}],\"carpet\":[{\"aaxis\":{\"endlinecolor\":\"#2a3f5f\",\"gridcolor\":\"white\",\"linecolor\":\"white\",\"minorgridcolor\":\"white\",\"startlinecolor\":\"#2a3f5f\"},\"baxis\":{\"endlinecolor\":\"#2a3f5f\",\"gridcolor\":\"white\",\"linecolor\":\"white\",\"minorgridcolor\":\"white\",\"startlinecolor\":\"#2a3f5f\"},\"type\":\"carpet\"}],\"table\":[{\"cells\":{\"fill\":{\"color\":\"#EBF0F8\"},\"line\":{\"color\":\"white\"}},\"header\":{\"fill\":{\"color\":\"#C8D4E3\"},\"line\":{\"color\":\"white\"}},\"type\":\"table\"}],\"barpolar\":[{\"marker\":{\"line\":{\"color\":\"#E5ECF6\",\"width\":0.5},\"pattern\":{\"fillmode\":\"overlay\",\"size\":10,\"solidity\":0.2}},\"type\":\"barpolar\"}],\"pie\":[{\"automargin\":true,\"type\":\"pie\"}]},\"layout\":{\"autotypenumbers\":\"strict\",\"colorway\":[\"#636efa\",\"#EF553B\",\"#00cc96\",\"#ab63fa\",\"#FFA15A\",\"#19d3f3\",\"#FF6692\",\"#B6E880\",\"#FF97FF\",\"#FECB52\"],\"font\":{\"color\":\"#2a3f5f\"},\"hovermode\":\"closest\",\"hoverlabel\":{\"align\":\"left\"},\"paper_bgcolor\":\"white\",\"plot_bgcolor\":\"#E5ECF6\",\"polar\":{\"bgcolor\":\"#E5ECF6\",\"angularaxis\":{\"gridcolor\":\"white\",\"linecolor\":\"white\",\"ticks\":\"\"},\"radialaxis\":{\"gridcolor\":\"white\",\"linecolor\":\"white\",\"ticks\":\"\"}},\"ternary\":{\"bgcolor\":\"#E5ECF6\",\"aaxis\":{\"gridcolor\":\"white\",\"linecolor\":\"white\",\"ticks\":\"\"},\"baxis\":{\"gridcolor\":\"white\",\"linecolor\":\"white\",\"ticks\":\"\"},\"caxis\":{\"gridcolor\":\"white\",\"linecolor\":\"white\",\"ticks\":\"\"}},\"coloraxis\":{\"colorbar\":{\"outlinewidth\":0,\"ticks\":\"\"}},\"colorscale\":{\"sequential\":[[0.0,\"#0d0887\"],[0.1111111111111111,\"#46039f\"],[0.2222222222222222,\"#7201a8\"],[0.3333333333333333,\"#9c179e\"],[0.4444444444444444,\"#bd3786\"],[0.5555555555555556,\"#d8576b\"],[0.6666666666666666,\"#ed7953\"],[0.7777777777777778,\"#fb9f3a\"],[0.8888888888888888,\"#fdca26\"],[1.0,\"#f0f921\"]],\"sequentialminus\":[[0.0,\"#0d0887\"],[0.1111111111111111,\"#46039f\"],[0.2222222222222222,\"#7201a8\"],[0.3333333333333333,\"#9c179e\"],[0.4444444444444444,\"#bd3786\"],[0.5555555555555556,\"#d8576b\"],[0.6666666666666666,\"#ed7953\"],[0.7777777777777778,\"#fb9f3a\"],[0.8888888888888888,\"#fdca26\"],[1.0,\"#f0f921\"]],\"diverging\":[[0,\"#8e0152\"],[0.1,\"#c51b7d\"],[0.2,\"#de77ae\"],[0.3,\"#f1b6da\"],[0.4,\"#fde0ef\"],[0.5,\"#f7f7f7\"],[0.6,\"#e6f5d0\"],[0.7,\"#b8e186\"],[0.8,\"#7fbc41\"],[0.9,\"#4d9221\"],[1,\"#276419\"]]},\"xaxis\":{\"gridcolor\":\"white\",\"linecolor\":\"white\",\"ticks\":\"\",\"title\":{\"standoff\":15},\"zerolinecolor\":\"white\",\"automargin\":true,\"zerolinewidth\":2},\"yaxis\":{\"gridcolor\":\"white\",\"linecolor\":\"white\",\"ticks\":\"\",\"title\":{\"standoff\":15},\"zerolinecolor\":\"white\",\"automargin\":true,\"zerolinewidth\":2},\"scene\":{\"xaxis\":{\"backgroundcolor\":\"#E5ECF6\",\"gridcolor\":\"white\",\"linecolor\":\"white\",\"showbackground\":true,\"ticks\":\"\",\"zerolinecolor\":\"white\",\"gridwidth\":2},\"yaxis\":{\"backgroundcolor\":\"#E5ECF6\",\"gridcolor\":\"white\",\"linecolor\":\"white\",\"showbackground\":true,\"ticks\":\"\",\"zerolinecolor\":\"white\",\"gridwidth\":2},\"zaxis\":{\"backgroundcolor\":\"#E5ECF6\",\"gridcolor\":\"white\",\"linecolor\":\"white\",\"showbackground\":true,\"ticks\":\"\",\"zerolinecolor\":\"white\",\"gridwidth\":2}},\"shapedefaults\":{\"line\":{\"color\":\"#2a3f5f\"}},\"annotationdefaults\":{\"arrowcolor\":\"#2a3f5f\",\"arrowhead\":0,\"arrowwidth\":1},\"geo\":{\"bgcolor\":\"white\",\"landcolor\":\"#E5ECF6\",\"subunitcolor\":\"white\",\"showland\":true,\"showlakes\":true,\"lakecolor\":\"white\"},\"title\":{\"x\":0.05},\"mapbox\":{\"style\":\"light\"}}},\"xaxis\":{\"anchor\":\"y\",\"domain\":[0.0,1.0],\"title\":{\"text\":\"chg\"}},\"yaxis\":{\"anchor\":\"x\",\"domain\":[0.0,1.0],\"title\":{\"text\":\"count\"}},\"legend\":{\"tracegroupgap\":0},\"title\":{\"text\":\"Cuantos d\\u00edas para cada % de suba\\u002fbaja del d\\u00f3lar en uva\"},\"barmode\":\"relative\"},                        {\"responsive\": true}                    ).then(function(){\n",
              "                            \n",
              "var gd = document.getElementById('e392a327-5570-4c37-9a85-364237052f79');\n",
              "var x = new MutationObserver(function (mutations, observer) {{\n",
              "        var display = window.getComputedStyle(gd).display;\n",
              "        if (!display || display === 'none') {{\n",
              "            console.log([gd, 'removed!']);\n",
              "            Plotly.purge(gd);\n",
              "            observer.disconnect();\n",
              "        }}\n",
              "}});\n",
              "\n",
              "// Listen for the removal of the full notebook cells\n",
              "var notebookContainer = gd.closest('#notebook-container');\n",
              "if (notebookContainer) {{\n",
              "    x.observe(notebookContainer, {childList: true});\n",
              "}}\n",
              "\n",
              "// Listen for the clearing of the current output cell\n",
              "var outputEl = gd.closest('.output');\n",
              "if (outputEl) {{\n",
              "    x.observe(outputEl, {childList: true});\n",
              "}}\n",
              "\n",
              "                        })                };                });            </script>        </div>"
            ]
          },
          "metadata": {}
        }
      ]
    },
    {
      "cell_type": "markdown",
      "source": [
        "## Juegos como medio para entender\n",
        "\n",
        "* ¿Cómo sentimos?\n",
        "* ¿Qué mecánicas nos producen ese sentimiento?\n",
        "* ¿Cómo podemos cambiar lo que siente y hace cada persona?\n",
        "\n",
        "Se puede trabajar de eso, casi todos trabajamos de eso sin saberlo.\n",
        "\n",
        "* Ponemos precios tratando de que no se vayan porque es caro pero cobrar lo más que podamos\n",
        "* Opt-in vs Opt-out ej [donación de organos](https://www.researchgate.net/figure/Effective-consent-rates-by-country-The-four-leftmost-bars-are-explicit-consent_fig2_7701098)\n",
        "* https://en.wikipedia.org/wiki/Nudge_theory\n",
        "\n",
        "![plan muy básico a la izquierda, caro y excesivo a la derecha, el que nos conviene vender en el centro](https://i.pinimg.com/736x/4d/6c/1c/4d6c1c7c5554a78bd3be127cd16a9fe1.jpg)"
      ],
      "metadata": {
        "id": "qsZFDj4WXgWY"
      }
    },
    {
      "cell_type": "markdown",
      "source": [
        "## \"Juegos rotos\": nos sentimos defraudados\n",
        "\n",
        "Muchas veces\n",
        "* la estética es atractiva o las reglas parecen justas\n",
        "* nos sentimos defraudados por el resultado\n",
        "\n",
        "¡Es difícil lograr que un juego NO este roto! Cuando diseñás un juego esta roto casi todo el tiempo.\n",
        "\n",
        "Por la misma razón muchos \"juegos rotos\" se usan para estafar: reglas que parecen justas, promesas que te entusiasman, salís defraudado porque apareció una dinámica que no esperaba.\n",
        "\n",
        "Si mirás bien nos pasamos todo el tiempo:\n",
        "* _jugando_ juegos ej. \"consorcio y expensas\", \"pagar para comer\", etc.\n",
        "* _evaluando_ juegos ej. \"¿compro bitcoin?\"\n",
        "* _ diseñando_ juegos ej. \"podés elegir entre el plan miserable, el carísimo y el que yo quiero que elijas\" o \"vení a trabajar a mi empresa\"\n",
        "* _arreglando_ todos los juegos de arriba\n"
      ],
      "metadata": {
        "id": "ZU61_Nlid9Ud"
      }
    },
    {
      "cell_type": "markdown",
      "source": [
        "## Necesitamos hacer juegos ¿Cómo?\n",
        "\n",
        "* \"de palabra\", cuando organizamos, charlamos, etc.\n",
        "* \"de mesa\", con papeles, tapitas, cartas, ...\n",
        "* \"con la compu\", formularios, \"motores\"\n",
        "\n",
        "Lo más importante:\n",
        "\n",
        "* **probar cada un par de horas o menos**\n",
        "* que sea fácil cambiar todo\n",
        "\n",
        "_NOTAR_ que hacer esperar a la gente para que se resigne a lo que salió porque no podría seguir esperando es un _juego roto_ que se usa de base en muchísimas estafas ej. los \"Planes de ahorro\" lo mismo que hacerte dar pasos fáciles de dar pero casi imposibles de deshacer."
      ],
      "metadata": {
        "id": "7sag55hqbB6C"
      }
    },
    {
      "cell_type": "markdown",
      "source": [
        "### NetLogo para explicar\n",
        "\n",
        "http://www.netlogoweb.org/launch#http://www.netlogoweb.org/assets/modelslib/Sample%20Models/Social%20Science/Traffic%20Basic.nlogo"
      ],
      "metadata": {
        "id": "P-wdcajac93M"
      }
    },
    {
      "cell_type": "markdown",
      "source": [
        "### Motores\n",
        "\n",
        "* https://godotengine.org/ es software libre, web, android, escritorio, y tiene una comunidad numerosa y generosa.\n",
        "* https://threejs.org/ es software libre web muy poderoso y cómodo, alcanza con tener un navegador para programar y jugar."
      ],
      "metadata": {
        "id": "lOd9m89EdIh3"
      }
    }
  ]
}